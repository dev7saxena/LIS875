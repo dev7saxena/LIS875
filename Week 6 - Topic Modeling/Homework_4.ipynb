{
  "nbformat": 4,
  "nbformat_minor": 0,
  "metadata": {
    "kernelspec": {
      "display_name": "Python 3",
      "language": "python",
      "name": "python3"
    },
    "language_info": {
      "codemirror_mode": {
        "name": "ipython",
        "version": 3
      },
      "file_extension": ".py",
      "mimetype": "text/x-python",
      "name": "python",
      "nbconvert_exporter": "python",
      "pygments_lexer": "ipython3",
      "version": "3.9.2"
    },
    "colab": {
      "provenance": [],
      "collapsed_sections": []
    }
  },
  "cells": [
    {
      "cell_type": "markdown",
      "metadata": {
        "id": "E0ybY83VaUk7"
      },
      "source": [
        "# LIS 875 (Week 6): -- Homework 4\n",
        "\n"
      ]
    },
    {
      "cell_type": "markdown",
      "metadata": {
        "id": "lNEySLCzOnHk"
      },
      "source": [
        "## Exercise 1: Inferring the topic distribution for a raw text"
      ]
    },
    {
      "cell_type": "code",
      "metadata": {
        "id": "OA3IaqMLaUlF"
      },
      "source": [
        "# suppose that we have a new article, we can also infer it's topics\n",
        "# in case you are interested, you can find this article at https://dl.acm.org/doi/10.1145/3290605.3300233\n",
        "\n",
        "newarticle = \"Guidelines for Human-AI Interaction Advances in artificial intelligence (AI) frame opportunities and challenges for user interface design. Principles for human-AI interaction have been discussed in the human-computer interaction community for over two decades, but more study and innovation are needed in light of advances in AI and the growing uses of AI technologies in human-facing applications. We propose 18 generally applicable design guidelines for human-AI interaction. These guidelines are validated through multiple rounds of evaluation including a user study with 49 design practitioners who tested the guidelines against 20 popular AI-infused products. The results verify the relevance of the guidelines over a spectrum of interaction scenarios and reveal gaps in our knowledge, highlighting opportunities for further research. Based on the evaluations, we believe the set of design guidelines can serve as a resource to practitioners working on the design of applications and features that harness AI technologies, and to researchers interested in the further development of human-AI interaction design principles.\"\n",
        "\n",
        "# step 1: get bag-of-words representation\n",
        "\n",
        "# step 2: transform the word to id\n",
        "\n",
        "# step 3: infer document topics using the id-based bag-of-words representation from step 2\n"
      ],
      "execution_count": null,
      "outputs": []
    },
    {
      "cell_type": "code",
      "metadata": {
        "id": "p-SJHNx9aUlG"
      },
      "source": [
        "# check topic#1 and show the most important 100 words"
      ],
      "execution_count": null,
      "outputs": []
    },
    {
      "cell_type": "code",
      "source": [],
      "metadata": {
        "id": "UBZke94oO501"
      },
      "execution_count": null,
      "outputs": []
    },
    {
      "cell_type": "markdown",
      "source": [
        "## Exercise 2: Train a new topic model using our old data\n",
        "\n",
        "Let's train a new topic model using our old dataset including all ACM articles' titles (the one we used in previous weeks).\n",
        "Only using the first 10,000 articles' titles.\n",
        "\n",
        "Data - https://github.com/dev7saxena/LIS875/tree/main/Data"
      ],
      "metadata": {
        "id": "DJEErQUoJ18P"
      }
    },
    {
      "cell_type": "code",
      "source": [
        "# Lets load the example dataset online.\n",
        "import numpy as np\n",
        "import pandas as pd\n",
        "\n",
        "data = pd.read_csv('875_week2_acm_articles.csv', header=0, keep_default_na=False).values.tolist()\n",
        "data = [ (x[0], x[1], x[2], x[3], x[4]) for x in data ]"
      ],
      "metadata": {
        "id": "JBs5Q9gVKa1t"
      },
      "execution_count": null,
      "outputs": []
    },
    {
      "cell_type": "code",
      "source": [
        "# process the dataset in the form that gensim needs\n"
      ],
      "metadata": {
        "id": "bNW0fwzZp4IA"
      },
      "execution_count": null,
      "outputs": []
    },
    {
      "cell_type": "code",
      "source": [
        "import gensim\n",
        "from gensim import corpora\n",
        "\n",
        "# Let's extract a vocabulary from the corpus (all the unique words in the articles).\n",
        "\n",
        "# Count bag-of-words models (will use word ids instead of texts)."
      ],
      "metadata": {
        "id": "dWwmj83JqhQa"
      },
      "execution_count": null,
      "outputs": []
    },
    {
      "cell_type": "code",
      "source": [
        "import logging\n",
        "\n",
        "# you can turn on the debug information such that you know your model is still being trained (it takes a while to train a model)\n",
        "logging.basicConfig( format='%(asctime)s : %(levelname)s : %(message)s', level=logging.INFO )\n",
        "\n",
        "# Please use the following parameters for LDA model training\n",
        "NUM_TOPICS = 20 # the number of topics\n",
        "NUM_PASSES = 10 # the number of passes to scan through the data; use a large number for a small corpus (such as our example)\n",
        "NUM_ITERATIONS = 50 # the number of times to iterate each document in a single pass (the default number of iteration is 50)\n",
        "\n",
        "# Training LDA"
      ],
      "metadata": {
        "id": "ZaCKz3jQJ2Vb"
      },
      "execution_count": null,
      "outputs": []
    },
    {
      "cell_type": "code",
      "source": [
        "# Inspect a topic by taking a look at its top words"
      ],
      "metadata": {
        "id": "3edYG7NANsYR"
      },
      "execution_count": null,
      "outputs": []
    }
  ]
}