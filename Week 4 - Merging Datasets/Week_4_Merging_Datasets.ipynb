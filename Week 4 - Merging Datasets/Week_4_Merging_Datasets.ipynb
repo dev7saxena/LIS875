{
  "nbformat": 4,
  "nbformat_minor": 0,
  "metadata": {
    "colab": {
      "provenance": []
    },
    "kernelspec": {
      "name": "python3",
      "display_name": "Python 3"
    },
    "language_info": {
      "name": "python"
    }
  },
  "cells": [
    {
      "cell_type": "markdown",
      "metadata": {
        "id": "fQHatGC94lsj"
      },
      "source": [
        "# Combining Datasets with Pandas' `concat`, `merge`, and `join` \n",
        "\n",
        "### Useful resource - https://pandas.pydata.org/docs/user_guide/merging.html\n"
      ]
    },
    {
      "cell_type": "markdown",
      "source": [
        "#### Link to Data - https://github.com/dev7saxena/LIS875/tree/main/Week%204%20-%20Merging%20Datasets/Data"
      ],
      "metadata": {
        "id": "ymGn2Rt8Gg__"
      }
    },
    {
      "cell_type": "code",
      "execution_count": null,
      "metadata": {
        "colab": {
          "base_uri": "https://localhost:8080/",
          "height": 108
        },
        "id": "Qo9x51nN4lsn",
        "outputId": "8a0b95b2-1a1c-469e-9a04-969be515008f"
      },
      "outputs": [
        {
          "output_type": "display_data",
          "data": {
            "text/plain": [
              "<IPython.core.display.HTML object>"
            ],
            "text/html": [
              "\n",
              "     <input type=\"file\" id=\"files-5e4a7300-6068-4cd2-802a-bacbaf8c15df\" name=\"files[]\" multiple disabled\n",
              "        style=\"border:none\" />\n",
              "     <output id=\"result-5e4a7300-6068-4cd2-802a-bacbaf8c15df\">\n",
              "      Upload widget is only available when the cell has been executed in the\n",
              "      current browser session. Please rerun this cell to enable.\n",
              "      </output>\n",
              "      <script>// Copyright 2017 Google LLC\n",
              "//\n",
              "// Licensed under the Apache License, Version 2.0 (the \"License\");\n",
              "// you may not use this file except in compliance with the License.\n",
              "// You may obtain a copy of the License at\n",
              "//\n",
              "//      http://www.apache.org/licenses/LICENSE-2.0\n",
              "//\n",
              "// Unless required by applicable law or agreed to in writing, software\n",
              "// distributed under the License is distributed on an \"AS IS\" BASIS,\n",
              "// WITHOUT WARRANTIES OR CONDITIONS OF ANY KIND, either express or implied.\n",
              "// See the License for the specific language governing permissions and\n",
              "// limitations under the License.\n",
              "\n",
              "/**\n",
              " * @fileoverview Helpers for google.colab Python module.\n",
              " */\n",
              "(function(scope) {\n",
              "function span(text, styleAttributes = {}) {\n",
              "  const element = document.createElement('span');\n",
              "  element.textContent = text;\n",
              "  for (const key of Object.keys(styleAttributes)) {\n",
              "    element.style[key] = styleAttributes[key];\n",
              "  }\n",
              "  return element;\n",
              "}\n",
              "\n",
              "// Max number of bytes which will be uploaded at a time.\n",
              "const MAX_PAYLOAD_SIZE = 100 * 1024;\n",
              "\n",
              "function _uploadFiles(inputId, outputId) {\n",
              "  const steps = uploadFilesStep(inputId, outputId);\n",
              "  const outputElement = document.getElementById(outputId);\n",
              "  // Cache steps on the outputElement to make it available for the next call\n",
              "  // to uploadFilesContinue from Python.\n",
              "  outputElement.steps = steps;\n",
              "\n",
              "  return _uploadFilesContinue(outputId);\n",
              "}\n",
              "\n",
              "// This is roughly an async generator (not supported in the browser yet),\n",
              "// where there are multiple asynchronous steps and the Python side is going\n",
              "// to poll for completion of each step.\n",
              "// This uses a Promise to block the python side on completion of each step,\n",
              "// then passes the result of the previous step as the input to the next step.\n",
              "function _uploadFilesContinue(outputId) {\n",
              "  const outputElement = document.getElementById(outputId);\n",
              "  const steps = outputElement.steps;\n",
              "\n",
              "  const next = steps.next(outputElement.lastPromiseValue);\n",
              "  return Promise.resolve(next.value.promise).then((value) => {\n",
              "    // Cache the last promise value to make it available to the next\n",
              "    // step of the generator.\n",
              "    outputElement.lastPromiseValue = value;\n",
              "    return next.value.response;\n",
              "  });\n",
              "}\n",
              "\n",
              "/**\n",
              " * Generator function which is called between each async step of the upload\n",
              " * process.\n",
              " * @param {string} inputId Element ID of the input file picker element.\n",
              " * @param {string} outputId Element ID of the output display.\n",
              " * @return {!Iterable<!Object>} Iterable of next steps.\n",
              " */\n",
              "function* uploadFilesStep(inputId, outputId) {\n",
              "  const inputElement = document.getElementById(inputId);\n",
              "  inputElement.disabled = false;\n",
              "\n",
              "  const outputElement = document.getElementById(outputId);\n",
              "  outputElement.innerHTML = '';\n",
              "\n",
              "  const pickedPromise = new Promise((resolve) => {\n",
              "    inputElement.addEventListener('change', (e) => {\n",
              "      resolve(e.target.files);\n",
              "    });\n",
              "  });\n",
              "\n",
              "  const cancel = document.createElement('button');\n",
              "  inputElement.parentElement.appendChild(cancel);\n",
              "  cancel.textContent = 'Cancel upload';\n",
              "  const cancelPromise = new Promise((resolve) => {\n",
              "    cancel.onclick = () => {\n",
              "      resolve(null);\n",
              "    };\n",
              "  });\n",
              "\n",
              "  // Wait for the user to pick the files.\n",
              "  const files = yield {\n",
              "    promise: Promise.race([pickedPromise, cancelPromise]),\n",
              "    response: {\n",
              "      action: 'starting',\n",
              "    }\n",
              "  };\n",
              "\n",
              "  cancel.remove();\n",
              "\n",
              "  // Disable the input element since further picks are not allowed.\n",
              "  inputElement.disabled = true;\n",
              "\n",
              "  if (!files) {\n",
              "    return {\n",
              "      response: {\n",
              "        action: 'complete',\n",
              "      }\n",
              "    };\n",
              "  }\n",
              "\n",
              "  for (const file of files) {\n",
              "    const li = document.createElement('li');\n",
              "    li.append(span(file.name, {fontWeight: 'bold'}));\n",
              "    li.append(span(\n",
              "        `(${file.type || 'n/a'}) - ${file.size} bytes, ` +\n",
              "        `last modified: ${\n",
              "            file.lastModifiedDate ? file.lastModifiedDate.toLocaleDateString() :\n",
              "                                    'n/a'} - `));\n",
              "    const percent = span('0% done');\n",
              "    li.appendChild(percent);\n",
              "\n",
              "    outputElement.appendChild(li);\n",
              "\n",
              "    const fileDataPromise = new Promise((resolve) => {\n",
              "      const reader = new FileReader();\n",
              "      reader.onload = (e) => {\n",
              "        resolve(e.target.result);\n",
              "      };\n",
              "      reader.readAsArrayBuffer(file);\n",
              "    });\n",
              "    // Wait for the data to be ready.\n",
              "    let fileData = yield {\n",
              "      promise: fileDataPromise,\n",
              "      response: {\n",
              "        action: 'continue',\n",
              "      }\n",
              "    };\n",
              "\n",
              "    // Use a chunked sending to avoid message size limits. See b/62115660.\n",
              "    let position = 0;\n",
              "    do {\n",
              "      const length = Math.min(fileData.byteLength - position, MAX_PAYLOAD_SIZE);\n",
              "      const chunk = new Uint8Array(fileData, position, length);\n",
              "      position += length;\n",
              "\n",
              "      const base64 = btoa(String.fromCharCode.apply(null, chunk));\n",
              "      yield {\n",
              "        response: {\n",
              "          action: 'append',\n",
              "          file: file.name,\n",
              "          data: base64,\n",
              "        },\n",
              "      };\n",
              "\n",
              "      let percentDone = fileData.byteLength === 0 ?\n",
              "          100 :\n",
              "          Math.round((position / fileData.byteLength) * 100);\n",
              "      percent.textContent = `${percentDone}% done`;\n",
              "\n",
              "    } while (position < fileData.byteLength);\n",
              "  }\n",
              "\n",
              "  // All done.\n",
              "  yield {\n",
              "    response: {\n",
              "      action: 'complete',\n",
              "    }\n",
              "  };\n",
              "}\n",
              "\n",
              "scope.google = scope.google || {};\n",
              "scope.google.colab = scope.google.colab || {};\n",
              "scope.google.colab._files = {\n",
              "  _uploadFiles,\n",
              "  _uploadFilesContinue,\n",
              "};\n",
              "})(self);\n",
              "</script> "
            ]
          },
          "metadata": {}
        },
        {
          "output_type": "stream",
          "name": "stdout",
          "text": [
            "Saving climate_temp.csv to climate_temp.csv\n",
            "Saving climate_precip.csv to climate_precip.csv\n"
          ]
        }
      ],
      "source": [
        "import pandas as pd\n",
        "pd.set_option(\"display.max_columns\", 50)\n",
        "import numpy as np\n",
        "from google.colab import files\n",
        "\n",
        "uploaded = files.upload()"
      ]
    },
    {
      "cell_type": "markdown",
      "source": [
        "# TWO KEY CONCEPTS: INNER AND OUTER JOIN \n",
        "\n",
        "### **Inner Join** (intersection): Only keep columns that are common to both datasets\n",
        "### **Outer Join** (union): Keep all columns from both datasets"
      ],
      "metadata": {
        "id": "62k7Md9v_sQ3"
      }
    },
    {
      "cell_type": "markdown",
      "source": [
        "![Capture.PNG](data:image/png;base64,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)"
      ],
      "metadata": {
        "id": "l2mDtCBk_Xah"
      }
    },
    {
      "cell_type": "code",
      "source": [
        "#CREATE THREE DATAFRAMES\n",
        "df1 = pd.DataFrame.from_dict({'col1': [1,2,3], 'col2': ['a','b','c'], 'col3': ['a1','b2','c3']})\n",
        "df2 = pd.DataFrame.from_dict({'col1': [4,5,6], 'col2': ['d','e','f'], 'col3': ['d4','e5','f6']})\n",
        "df3 = pd.DataFrame.from_dict({'col1': [7,8,9], 'col2': ['g','h','i'], 'col4': ['g7','h2','i3']})"
      ],
      "metadata": {
        "id": "dblOkA6IAwiB"
      },
      "execution_count": null,
      "outputs": []
    },
    {
      "cell_type": "code",
      "source": [
        "#PRINT DATAFRAMES\n",
        "print('Here is df1:')\n",
        "print(df1)\n",
        "print('\\nHere is df2:')\n",
        "print(df2)\n",
        "print('\\nHere is df3:')\n",
        "print(df3)"
      ],
      "metadata": {
        "id": "rynjBfAmpvWf",
        "colab": {
          "base_uri": "https://localhost:8080/"
        },
        "outputId": "e99217e0-ce8e-4102-de02-f64f613e855a"
      },
      "execution_count": null,
      "outputs": [
        {
          "output_type": "stream",
          "name": "stdout",
          "text": [
            "Here is df1:\n",
            "   col1 col2 col3\n",
            "0     1    a   a1\n",
            "1     2    b   b2\n",
            "2     3    c   c3\n",
            "\n",
            "Here is df2:\n",
            "   col1 col2 col3\n",
            "0     4    d   d4\n",
            "1     5    e   e5\n",
            "2     6    f   f6\n",
            "\n",
            "Here is df3:\n",
            "   col1 col2 col4\n",
            "0     7    g   g7\n",
            "1     8    h   h2\n",
            "2     9    i   i3\n"
          ]
        }
      ]
    },
    {
      "cell_type": "markdown",
      "source": [
        "### Let's combine df1 and df2 (they have the same columns)"
      ],
      "metadata": {
        "id": "_JCMerAMHOeG"
      }
    },
    {
      "cell_type": "code",
      "source": [
        "#df_concat\n",
        "df_concat = pd.concat([df1, df2])\n",
        "print(df_concat)"
      ],
      "metadata": {
        "id": "eptb9Rgip3WR",
        "colab": {
          "base_uri": "https://localhost:8080/"
        },
        "outputId": "1de9f3f7-d492-4e1d-9435-20874918a1c4"
      },
      "execution_count": null,
      "outputs": [
        {
          "output_type": "stream",
          "name": "stdout",
          "text": [
            "   col1 col2 col3\n",
            "0     1    a   a1\n",
            "1     2    b   b2\n",
            "2     3    c   c3\n",
            "0     4    d   d4\n",
            "1     5    e   e5\n",
            "2     6    f   f6\n"
          ]
        }
      ]
    },
    {
      "cell_type": "markdown",
      "source": [
        "### Original indices from df1 and df2 were preserved. Lets use `ignore_index` parameter to reset index in the new dataframe"
      ],
      "metadata": {
        "id": "TClFYnuTHZ4x"
      }
    },
    {
      "cell_type": "code",
      "source": [
        "#ignore index\n",
        "df_concat = pd.concat([df1, df2], ignore_index=True)\n",
        "print(df_concat)"
      ],
      "metadata": {
        "id": "CyeUFdSVTo-G",
        "colab": {
          "base_uri": "https://localhost:8080/"
        },
        "outputId": "1f7fb0a2-b40a-471f-809e-25b4c2eab1ee"
      },
      "execution_count": null,
      "outputs": [
        {
          "output_type": "stream",
          "name": "stdout",
          "text": [
            "   col1 col2 col3\n",
            "0     1    a   a1\n",
            "1     2    b   b2\n",
            "2     3    c   c3\n",
            "3     4    d   d4\n",
            "4     5    e   e5\n",
            "5     6    f   f6\n"
          ]
        }
      ]
    },
    {
      "cell_type": "markdown",
      "source": [
        "### Now let's combine df1 and df3 (they have different columns)"
      ],
      "metadata": {
        "id": "2bYHDLfNHsmq"
      }
    },
    {
      "cell_type": "code",
      "source": [
        "#combine df1 and df3\n",
        "df_concat = pd.concat([df1, df3], ignore_index=True)\n",
        "print(df_concat)"
      ],
      "metadata": {
        "id": "VCmAEwnrTve5",
        "colab": {
          "base_uri": "https://localhost:8080/"
        },
        "outputId": "48165654-3a8b-4d06-b023-647cfe89ea08"
      },
      "execution_count": null,
      "outputs": [
        {
          "output_type": "stream",
          "name": "stdout",
          "text": [
            "   col1 col2 col3 col4\n",
            "0     1    a   a1  NaN\n",
            "1     2    b   b2  NaN\n",
            "2     3    c   c3  NaN\n",
            "3     7    g  NaN   g7\n",
            "4     8    h  NaN   h2\n",
            "5     9    i  NaN   i3\n"
          ]
        }
      ]
    },
    {
      "cell_type": "markdown",
      "source": [
        "### Concat, by default uses an `outer` join approach that preserves values across all columns and adds missing values (`NaN`). Let's try to do an **inner** join."
      ],
      "metadata": {
        "id": "rrbeXzTBIF-D"
      }
    },
    {
      "cell_type": "code",
      "source": [
        "#inner join\n",
        "df_concat = pd.concat([df1, df3], ignore_index=True, join='inner')\n",
        "print(df_concat)"
      ],
      "metadata": {
        "id": "M1wODtv6T8Gy",
        "colab": {
          "base_uri": "https://localhost:8080/"
        },
        "outputId": "1f5b297c-c7e3-4e43-be36-4beee02944de"
      },
      "execution_count": null,
      "outputs": [
        {
          "output_type": "stream",
          "name": "stdout",
          "text": [
            "   col1 col2\n",
            "0     1    a\n",
            "1     2    b\n",
            "2     3    c\n",
            "3     7    g\n",
            "4     8    h\n",
            "5     9    i\n"
          ]
        }
      ]
    },
    {
      "cell_type": "markdown",
      "source": [
        "![Capture.PNG](data:image/png;base64,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)"
      ],
      "metadata": {
        "id": "MfFV_1T3ImjW"
      }
    },
    {
      "cell_type": "markdown",
      "source": [
        "## Concatenating Multiple Dataframes"
      ],
      "metadata": {
        "id": "-VbulBL5IxJV"
      }
    },
    {
      "cell_type": "code",
      "source": [
        "#concat df1, df2, df3 \n",
        "#DEFAULT: Outer Join\n",
        "df_concat = pd.concat([df1, df2, df3], ignore_index=True)\n",
        "print(df_concat)"
      ],
      "metadata": {
        "id": "Nj-JmmA6gHa5"
      },
      "execution_count": null,
      "outputs": []
    },
    {
      "cell_type": "code",
      "source": [
        "#concat df1, df2, df3\n",
        "#Specifying an 'Inner' Join\n",
        "df_concat = pd.concat([df1, df2, df3], ignore_index=True, join='inner')\n",
        "print(df_concat)"
      ],
      "metadata": {
        "id": "u8EGqAY0UDbD",
        "colab": {
          "base_uri": "https://localhost:8080/"
        },
        "outputId": "af010582-eafe-4456-b45e-703594542998"
      },
      "execution_count": null,
      "outputs": [
        {
          "output_type": "stream",
          "name": "stdout",
          "text": [
            "   col1 col2\n",
            "0     1    a\n",
            "1     2    b\n",
            "2     3    c\n",
            "3     4    d\n",
            "4     5    e\n",
            "5     6    f\n",
            "6     7    g\n",
            "7     8    h\n",
            "8     9    i\n"
          ]
        }
      ]
    },
    {
      "cell_type": "markdown",
      "metadata": {
        "id": "MDoHf9as4lso"
      },
      "source": [
        "## Importing Data\n",
        "\n",
        "Calling `.head()` on the dataFrame will give you top 5 rows as a quick preview of the data. `.tail()` gives you the bottom 5 rows. `shape` gives you dimensions of the dataframe in the form `(rows, columns)`."
      ]
    },
    {
      "cell_type": "code",
      "source": [
        "#read csv\n",
        "climate_temp = pd.read_csv(\"climate_temp.csv\")\n",
        "\n",
        "climate_temp.head()"
      ],
      "metadata": {
        "id": "ZyQA3CspUK1Y",
        "colab": {
          "base_uri": "https://localhost:8080/",
          "height": 392
        },
        "outputId": "a659b2a4-7db7-40cb-bb96-f8b93d2e8161"
      },
      "execution_count": null,
      "outputs": [
        {
          "output_type": "execute_result",
          "data": {
            "text/plain": [
              "             STATION            STATION_NAME ELEVATION  LATITUDE   LONGITUDE  \\\n",
              "0  GHCND:USC00049099  TWENTYNINE PALMS CA US       602  34.12806  -116.03694   \n",
              "1  GHCND:USC00049099  TWENTYNINE PALMS CA US       602  34.12806  -116.03694   \n",
              "2  GHCND:USC00049099  TWENTYNINE PALMS CA US       602  34.12806  -116.03694   \n",
              "3  GHCND:USC00049099  TWENTYNINE PALMS CA US       602  34.12806  -116.03694   \n",
              "4  GHCND:USC00049099  TWENTYNINE PALMS CA US       602  34.12806  -116.03694   \n",
              "\n",
              "       DATE  DLY-CLDD-BASE45  DLY-CLDD-BASE50  DLY-CLDD-BASE55  \\\n",
              "0  20100101                6                2            -7777   \n",
              "1  20100102                6                2                1   \n",
              "2  20100103                6                2                1   \n",
              "3  20100104                6                2                1   \n",
              "4  20100105                6                2                1   \n",
              "\n",
              "   DLY-CLDD-BASE57  DLY-CLDD-BASE60  DLY-CLDD-NORMAL  DLY-CLDD-BASE70  \\\n",
              "0            -7777            -7777                0                0   \n",
              "1            -7777            -7777                0                0   \n",
              "2            -7777            -7777                0                0   \n",
              "3            -7777            -7777                0                0   \n",
              "4            -7777            -7777                0                0   \n",
              "\n",
              "   DLY-CLDD-BASE72  DLY-HTDD-BASE40  DLY-HTDD-BASE45  DLY-HTDD-BASE50  \\\n",
              "0                0            -7777                1                2   \n",
              "1                0            -7777                1                2   \n",
              "2                0            -7777                1                2   \n",
              "3                0            -7777                1                2   \n",
              "4                0            -7777            -7777                2   \n",
              "\n",
              "   DLY-HTDD-BASE55  DLY-HTDD-BASE57  DLY-HTDD-BASE60  DLY-HTDD-NORMAL  \n",
              "0                6                7               10               15  \n",
              "1                6                7               10               15  \n",
              "2                5                7               10               15  \n",
              "3                5                7               10               15  \n",
              "4                5                7               10               15  "
            ],
            "text/html": [
              "\n",
              "  <div id=\"df-fd34196d-bd19-411f-985d-758e1223f892\">\n",
              "    <div class=\"colab-df-container\">\n",
              "      <div>\n",
              "<style scoped>\n",
              "    .dataframe tbody tr th:only-of-type {\n",
              "        vertical-align: middle;\n",
              "    }\n",
              "\n",
              "    .dataframe tbody tr th {\n",
              "        vertical-align: top;\n",
              "    }\n",
              "\n",
              "    .dataframe thead th {\n",
              "        text-align: right;\n",
              "    }\n",
              "</style>\n",
              "<table border=\"1\" class=\"dataframe\">\n",
              "  <thead>\n",
              "    <tr style=\"text-align: right;\">\n",
              "      <th></th>\n",
              "      <th>STATION</th>\n",
              "      <th>STATION_NAME</th>\n",
              "      <th>ELEVATION</th>\n",
              "      <th>LATITUDE</th>\n",
              "      <th>LONGITUDE</th>\n",
              "      <th>DATE</th>\n",
              "      <th>DLY-CLDD-BASE45</th>\n",
              "      <th>DLY-CLDD-BASE50</th>\n",
              "      <th>DLY-CLDD-BASE55</th>\n",
              "      <th>DLY-CLDD-BASE57</th>\n",
              "      <th>DLY-CLDD-BASE60</th>\n",
              "      <th>DLY-CLDD-NORMAL</th>\n",
              "      <th>DLY-CLDD-BASE70</th>\n",
              "      <th>DLY-CLDD-BASE72</th>\n",
              "      <th>DLY-HTDD-BASE40</th>\n",
              "      <th>DLY-HTDD-BASE45</th>\n",
              "      <th>DLY-HTDD-BASE50</th>\n",
              "      <th>DLY-HTDD-BASE55</th>\n",
              "      <th>DLY-HTDD-BASE57</th>\n",
              "      <th>DLY-HTDD-BASE60</th>\n",
              "      <th>DLY-HTDD-NORMAL</th>\n",
              "    </tr>\n",
              "  </thead>\n",
              "  <tbody>\n",
              "    <tr>\n",
              "      <th>0</th>\n",
              "      <td>GHCND:USC00049099</td>\n",
              "      <td>TWENTYNINE PALMS CA US</td>\n",
              "      <td>602</td>\n",
              "      <td>34.12806</td>\n",
              "      <td>-116.03694</td>\n",
              "      <td>20100101</td>\n",
              "      <td>6</td>\n",
              "      <td>2</td>\n",
              "      <td>-7777</td>\n",
              "      <td>-7777</td>\n",
              "      <td>-7777</td>\n",
              "      <td>0</td>\n",
              "      <td>0</td>\n",
              "      <td>0</td>\n",
              "      <td>-7777</td>\n",
              "      <td>1</td>\n",
              "      <td>2</td>\n",
              "      <td>6</td>\n",
              "      <td>7</td>\n",
              "      <td>10</td>\n",
              "      <td>15</td>\n",
              "    </tr>\n",
              "    <tr>\n",
              "      <th>1</th>\n",
              "      <td>GHCND:USC00049099</td>\n",
              "      <td>TWENTYNINE PALMS CA US</td>\n",
              "      <td>602</td>\n",
              "      <td>34.12806</td>\n",
              "      <td>-116.03694</td>\n",
              "      <td>20100102</td>\n",
              "      <td>6</td>\n",
              "      <td>2</td>\n",
              "      <td>1</td>\n",
              "      <td>-7777</td>\n",
              "      <td>-7777</td>\n",
              "      <td>0</td>\n",
              "      <td>0</td>\n",
              "      <td>0</td>\n",
              "      <td>-7777</td>\n",
              "      <td>1</td>\n",
              "      <td>2</td>\n",
              "      <td>6</td>\n",
              "      <td>7</td>\n",
              "      <td>10</td>\n",
              "      <td>15</td>\n",
              "    </tr>\n",
              "    <tr>\n",
              "      <th>2</th>\n",
              "      <td>GHCND:USC00049099</td>\n",
              "      <td>TWENTYNINE PALMS CA US</td>\n",
              "      <td>602</td>\n",
              "      <td>34.12806</td>\n",
              "      <td>-116.03694</td>\n",
              "      <td>20100103</td>\n",
              "      <td>6</td>\n",
              "      <td>2</td>\n",
              "      <td>1</td>\n",
              "      <td>-7777</td>\n",
              "      <td>-7777</td>\n",
              "      <td>0</td>\n",
              "      <td>0</td>\n",
              "      <td>0</td>\n",
              "      <td>-7777</td>\n",
              "      <td>1</td>\n",
              "      <td>2</td>\n",
              "      <td>5</td>\n",
              "      <td>7</td>\n",
              "      <td>10</td>\n",
              "      <td>15</td>\n",
              "    </tr>\n",
              "    <tr>\n",
              "      <th>3</th>\n",
              "      <td>GHCND:USC00049099</td>\n",
              "      <td>TWENTYNINE PALMS CA US</td>\n",
              "      <td>602</td>\n",
              "      <td>34.12806</td>\n",
              "      <td>-116.03694</td>\n",
              "      <td>20100104</td>\n",
              "      <td>6</td>\n",
              "      <td>2</td>\n",
              "      <td>1</td>\n",
              "      <td>-7777</td>\n",
              "      <td>-7777</td>\n",
              "      <td>0</td>\n",
              "      <td>0</td>\n",
              "      <td>0</td>\n",
              "      <td>-7777</td>\n",
              "      <td>1</td>\n",
              "      <td>2</td>\n",
              "      <td>5</td>\n",
              "      <td>7</td>\n",
              "      <td>10</td>\n",
              "      <td>15</td>\n",
              "    </tr>\n",
              "    <tr>\n",
              "      <th>4</th>\n",
              "      <td>GHCND:USC00049099</td>\n",
              "      <td>TWENTYNINE PALMS CA US</td>\n",
              "      <td>602</td>\n",
              "      <td>34.12806</td>\n",
              "      <td>-116.03694</td>\n",
              "      <td>20100105</td>\n",
              "      <td>6</td>\n",
              "      <td>2</td>\n",
              "      <td>1</td>\n",
              "      <td>-7777</td>\n",
              "      <td>-7777</td>\n",
              "      <td>0</td>\n",
              "      <td>0</td>\n",
              "      <td>0</td>\n",
              "      <td>-7777</td>\n",
              "      <td>-7777</td>\n",
              "      <td>2</td>\n",
              "      <td>5</td>\n",
              "      <td>7</td>\n",
              "      <td>10</td>\n",
              "      <td>15</td>\n",
              "    </tr>\n",
              "  </tbody>\n",
              "</table>\n",
              "</div>\n",
              "      <button class=\"colab-df-convert\" onclick=\"convertToInteractive('df-fd34196d-bd19-411f-985d-758e1223f892')\"\n",
              "              title=\"Convert this dataframe to an interactive table.\"\n",
              "              style=\"display:none;\">\n",
              "        \n",
              "  <svg xmlns=\"http://www.w3.org/2000/svg\" height=\"24px\"viewBox=\"0 0 24 24\"\n",
              "       width=\"24px\">\n",
              "    <path d=\"M0 0h24v24H0V0z\" fill=\"none\"/>\n",
              "    <path d=\"M18.56 5.44l.94 2.06.94-2.06 2.06-.94-2.06-.94-.94-2.06-.94 2.06-2.06.94zm-11 1L8.5 8.5l.94-2.06 2.06-.94-2.06-.94L8.5 2.5l-.94 2.06-2.06.94zm10 10l.94 2.06.94-2.06 2.06-.94-2.06-.94-.94-2.06-.94 2.06-2.06.94z\"/><path d=\"M17.41 7.96l-1.37-1.37c-.4-.4-.92-.59-1.43-.59-.52 0-1.04.2-1.43.59L10.3 9.45l-7.72 7.72c-.78.78-.78 2.05 0 2.83L4 21.41c.39.39.9.59 1.41.59.51 0 1.02-.2 1.41-.59l7.78-7.78 2.81-2.81c.8-.78.8-2.07 0-2.86zM5.41 20L4 18.59l7.72-7.72 1.47 1.35L5.41 20z\"/>\n",
              "  </svg>\n",
              "      </button>\n",
              "      \n",
              "  <style>\n",
              "    .colab-df-container {\n",
              "      display:flex;\n",
              "      flex-wrap:wrap;\n",
              "      gap: 12px;\n",
              "    }\n",
              "\n",
              "    .colab-df-convert {\n",
              "      background-color: #E8F0FE;\n",
              "      border: none;\n",
              "      border-radius: 50%;\n",
              "      cursor: pointer;\n",
              "      display: none;\n",
              "      fill: #1967D2;\n",
              "      height: 32px;\n",
              "      padding: 0 0 0 0;\n",
              "      width: 32px;\n",
              "    }\n",
              "\n",
              "    .colab-df-convert:hover {\n",
              "      background-color: #E2EBFA;\n",
              "      box-shadow: 0px 1px 2px rgba(60, 64, 67, 0.3), 0px 1px 3px 1px rgba(60, 64, 67, 0.15);\n",
              "      fill: #174EA6;\n",
              "    }\n",
              "\n",
              "    [theme=dark] .colab-df-convert {\n",
              "      background-color: #3B4455;\n",
              "      fill: #D2E3FC;\n",
              "    }\n",
              "\n",
              "    [theme=dark] .colab-df-convert:hover {\n",
              "      background-color: #434B5C;\n",
              "      box-shadow: 0px 1px 3px 1px rgba(0, 0, 0, 0.15);\n",
              "      filter: drop-shadow(0px 1px 2px rgba(0, 0, 0, 0.3));\n",
              "      fill: #FFFFFF;\n",
              "    }\n",
              "  </style>\n",
              "\n",
              "      <script>\n",
              "        const buttonEl =\n",
              "          document.querySelector('#df-fd34196d-bd19-411f-985d-758e1223f892 button.colab-df-convert');\n",
              "        buttonEl.style.display =\n",
              "          google.colab.kernel.accessAllowed ? 'block' : 'none';\n",
              "\n",
              "        async function convertToInteractive(key) {\n",
              "          const element = document.querySelector('#df-fd34196d-bd19-411f-985d-758e1223f892');\n",
              "          const dataTable =\n",
              "            await google.colab.kernel.invokeFunction('convertToInteractive',\n",
              "                                                     [key], {});\n",
              "          if (!dataTable) return;\n",
              "\n",
              "          const docLinkHtml = 'Like what you see? Visit the ' +\n",
              "            '<a target=\"_blank\" href=https://colab.research.google.com/notebooks/data_table.ipynb>data table notebook</a>'\n",
              "            + ' to learn more about interactive tables.';\n",
              "          element.innerHTML = '';\n",
              "          dataTable['output_type'] = 'display_data';\n",
              "          await google.colab.output.renderOutput(dataTable, element);\n",
              "          const docLink = document.createElement('div');\n",
              "          docLink.innerHTML = docLinkHtml;\n",
              "          element.appendChild(docLink);\n",
              "        }\n",
              "      </script>\n",
              "    </div>\n",
              "  </div>\n",
              "  "
            ]
          },
          "metadata": {},
          "execution_count": 13
        }
      ]
    },
    {
      "cell_type": "code",
      "source": [
        "#shape\n",
        "climate_temp.shape\n"
      ],
      "metadata": {
        "id": "ll-pOdiTUOw9",
        "colab": {
          "base_uri": "https://localhost:8080/"
        },
        "outputId": "85d90aad-5142-41ce-d2a5-2354c0cd4f35"
      },
      "execution_count": null,
      "outputs": [
        {
          "output_type": "execute_result",
          "data": {
            "text/plain": [
              "(127020, 21)"
            ]
          },
          "metadata": {},
          "execution_count": 14
        }
      ]
    },
    {
      "cell_type": "code",
      "source": [
        "#read precipitation csv\n",
        "climate_precip = pd.read_csv(\"climate_precip.csv\")\n",
        "climate_precip.head()"
      ],
      "metadata": {
        "id": "x4_HvHsNURq-",
        "colab": {
          "base_uri": "https://localhost:8080/",
          "height": 409
        },
        "outputId": "0a7e1caa-d705-479a-e938-5f0293504e2b"
      },
      "execution_count": null,
      "outputs": [
        {
          "output_type": "execute_result",
          "data": {
            "text/plain": [
              "             STATION            STATION_NAME      DATE  DLY-PRCP-25PCTL  \\\n",
              "0  GHCND:USC00049099  TWENTYNINE PALMS CA US  20100101            -6.66   \n",
              "1  GHCND:USC00049099  TWENTYNINE PALMS CA US  20100102            -6.66   \n",
              "2  GHCND:USC00049099  TWENTYNINE PALMS CA US  20100103            -6.66   \n",
              "3  GHCND:USC00049099  TWENTYNINE PALMS CA US  20100104            -6.66   \n",
              "4  GHCND:USC00049099  TWENTYNINE PALMS CA US  20100105            -6.66   \n",
              "\n",
              "   DLY-SNWD-25PCTL  DLY-SNOW-25PCTL  DLY-PRCP-50PCTL  DLY-SNWD-50PCTL  \\\n",
              "0             -666            -66.6            -6.66             -666   \n",
              "1             -666            -66.6            -6.66             -666   \n",
              "2             -666            -66.6            -6.66             -666   \n",
              "3            -9999          -9999.0            -6.66            -9999   \n",
              "4            -9999          -9999.0            -6.66            -9999   \n",
              "\n",
              "   DLY-SNOW-50PCTL  DLY-PRCP-75PCTL  DLY-SNWD-75PCTL  DLY-SNOW-75PCTL  \\\n",
              "0            -66.6            -6.66             -666            -66.6   \n",
              "1            -66.6            -6.66             -666            -66.6   \n",
              "2            -66.6            -6.66             -666            -66.6   \n",
              "3          -9999.0            -6.66            -9999          -9999.0   \n",
              "4          -9999.0            -6.66            -9999          -9999.0   \n",
              "\n",
              "   MTD-PRCP-NORMAL  MTD-SNOW-NORMAL  YTD-PRCP-NORMAL  YTD-SNOW-NORMAL  \\\n",
              "0             0.02              0.0             0.02              0.0   \n",
              "1             0.04              0.0             0.04              0.0   \n",
              "2             0.05              0.0             0.05              0.0   \n",
              "3             0.07              0.0             0.07              0.0   \n",
              "4             0.09              0.0             0.09              0.0   \n",
              "\n",
              "   DLY-PRCP-PCTALL-GE001HI  DLY-PRCP-PCTALL-GE010HI  DLY-PRCP-PCTALL-GE050HI  \\\n",
              "0                       98                       43                       12   \n",
              "1                       99                       44                       12   \n",
              "2                      100                       44                       12   \n",
              "3                      101                       45                       12   \n",
              "4                      102                       45                       12   \n",
              "\n",
              "   DLY-PRCP-PCTALL-GE100HI  DLY-SNWD-PCTALL-GE001WI  DLY-SNWD-PCTALL-GE010WI  \\\n",
              "0                        3                    -9999                        0   \n",
              "1                        3                    -9999                        0   \n",
              "2                        3                    -9999                        0   \n",
              "3                        3                        0                        0   \n",
              "4                        3                        0                        0   \n",
              "\n",
              "   DLY-SNWD-PCTALL-GE003WI  DLY-SNWD-PCTALL-GE005WI  DLY-SNOW-PCTALL-GE001TI  \\\n",
              "0                    -9999                    -9999                    -9999   \n",
              "1                    -9999                    -9999                    -9999   \n",
              "2                    -9999                    -9999                    -9999   \n",
              "3                        0                        0                        0   \n",
              "4                        0                        0                        0   \n",
              "\n",
              "   DLY-SNOW-PCTALL-GE010TI  DLY-SNOW-PCTALL-GE100TI  DLY-SNOW-PCTALL-GE030TI  \\\n",
              "0                    -9999                        0                    -9999   \n",
              "1                    -9999                        0                    -9999   \n",
              "2                    -9999                        0                    -9999   \n",
              "3                        0                        0                        0   \n",
              "4                        0                        0                        0   \n",
              "\n",
              "   DLY-SNOW-PCTALL-GE050TI  \n",
              "0                    -9999  \n",
              "1                    -9999  \n",
              "2                    -9999  \n",
              "3                        0  \n",
              "4                        0  "
            ],
            "text/html": [
              "\n",
              "  <div id=\"df-6c90d735-7c1e-45d5-b388-4f2322604a32\">\n",
              "    <div class=\"colab-df-container\">\n",
              "      <div>\n",
              "<style scoped>\n",
              "    .dataframe tbody tr th:only-of-type {\n",
              "        vertical-align: middle;\n",
              "    }\n",
              "\n",
              "    .dataframe tbody tr th {\n",
              "        vertical-align: top;\n",
              "    }\n",
              "\n",
              "    .dataframe thead th {\n",
              "        text-align: right;\n",
              "    }\n",
              "</style>\n",
              "<table border=\"1\" class=\"dataframe\">\n",
              "  <thead>\n",
              "    <tr style=\"text-align: right;\">\n",
              "      <th></th>\n",
              "      <th>STATION</th>\n",
              "      <th>STATION_NAME</th>\n",
              "      <th>DATE</th>\n",
              "      <th>DLY-PRCP-25PCTL</th>\n",
              "      <th>DLY-SNWD-25PCTL</th>\n",
              "      <th>DLY-SNOW-25PCTL</th>\n",
              "      <th>DLY-PRCP-50PCTL</th>\n",
              "      <th>DLY-SNWD-50PCTL</th>\n",
              "      <th>DLY-SNOW-50PCTL</th>\n",
              "      <th>DLY-PRCP-75PCTL</th>\n",
              "      <th>DLY-SNWD-75PCTL</th>\n",
              "      <th>DLY-SNOW-75PCTL</th>\n",
              "      <th>MTD-PRCP-NORMAL</th>\n",
              "      <th>MTD-SNOW-NORMAL</th>\n",
              "      <th>YTD-PRCP-NORMAL</th>\n",
              "      <th>YTD-SNOW-NORMAL</th>\n",
              "      <th>DLY-PRCP-PCTALL-GE001HI</th>\n",
              "      <th>DLY-PRCP-PCTALL-GE010HI</th>\n",
              "      <th>DLY-PRCP-PCTALL-GE050HI</th>\n",
              "      <th>DLY-PRCP-PCTALL-GE100HI</th>\n",
              "      <th>DLY-SNWD-PCTALL-GE001WI</th>\n",
              "      <th>DLY-SNWD-PCTALL-GE010WI</th>\n",
              "      <th>DLY-SNWD-PCTALL-GE003WI</th>\n",
              "      <th>DLY-SNWD-PCTALL-GE005WI</th>\n",
              "      <th>DLY-SNOW-PCTALL-GE001TI</th>\n",
              "      <th>DLY-SNOW-PCTALL-GE010TI</th>\n",
              "      <th>DLY-SNOW-PCTALL-GE100TI</th>\n",
              "      <th>DLY-SNOW-PCTALL-GE030TI</th>\n",
              "      <th>DLY-SNOW-PCTALL-GE050TI</th>\n",
              "    </tr>\n",
              "  </thead>\n",
              "  <tbody>\n",
              "    <tr>\n",
              "      <th>0</th>\n",
              "      <td>GHCND:USC00049099</td>\n",
              "      <td>TWENTYNINE PALMS CA US</td>\n",
              "      <td>20100101</td>\n",
              "      <td>-6.66</td>\n",
              "      <td>-666</td>\n",
              "      <td>-66.6</td>\n",
              "      <td>-6.66</td>\n",
              "      <td>-666</td>\n",
              "      <td>-66.6</td>\n",
              "      <td>-6.66</td>\n",
              "      <td>-666</td>\n",
              "      <td>-66.6</td>\n",
              "      <td>0.02</td>\n",
              "      <td>0.0</td>\n",
              "      <td>0.02</td>\n",
              "      <td>0.0</td>\n",
              "      <td>98</td>\n",
              "      <td>43</td>\n",
              "      <td>12</td>\n",
              "      <td>3</td>\n",
              "      <td>-9999</td>\n",
              "      <td>0</td>\n",
              "      <td>-9999</td>\n",
              "      <td>-9999</td>\n",
              "      <td>-9999</td>\n",
              "      <td>-9999</td>\n",
              "      <td>0</td>\n",
              "      <td>-9999</td>\n",
              "      <td>-9999</td>\n",
              "    </tr>\n",
              "    <tr>\n",
              "      <th>1</th>\n",
              "      <td>GHCND:USC00049099</td>\n",
              "      <td>TWENTYNINE PALMS CA US</td>\n",
              "      <td>20100102</td>\n",
              "      <td>-6.66</td>\n",
              "      <td>-666</td>\n",
              "      <td>-66.6</td>\n",
              "      <td>-6.66</td>\n",
              "      <td>-666</td>\n",
              "      <td>-66.6</td>\n",
              "      <td>-6.66</td>\n",
              "      <td>-666</td>\n",
              "      <td>-66.6</td>\n",
              "      <td>0.04</td>\n",
              "      <td>0.0</td>\n",
              "      <td>0.04</td>\n",
              "      <td>0.0</td>\n",
              "      <td>99</td>\n",
              "      <td>44</td>\n",
              "      <td>12</td>\n",
              "      <td>3</td>\n",
              "      <td>-9999</td>\n",
              "      <td>0</td>\n",
              "      <td>-9999</td>\n",
              "      <td>-9999</td>\n",
              "      <td>-9999</td>\n",
              "      <td>-9999</td>\n",
              "      <td>0</td>\n",
              "      <td>-9999</td>\n",
              "      <td>-9999</td>\n",
              "    </tr>\n",
              "    <tr>\n",
              "      <th>2</th>\n",
              "      <td>GHCND:USC00049099</td>\n",
              "      <td>TWENTYNINE PALMS CA US</td>\n",
              "      <td>20100103</td>\n",
              "      <td>-6.66</td>\n",
              "      <td>-666</td>\n",
              "      <td>-66.6</td>\n",
              "      <td>-6.66</td>\n",
              "      <td>-666</td>\n",
              "      <td>-66.6</td>\n",
              "      <td>-6.66</td>\n",
              "      <td>-666</td>\n",
              "      <td>-66.6</td>\n",
              "      <td>0.05</td>\n",
              "      <td>0.0</td>\n",
              "      <td>0.05</td>\n",
              "      <td>0.0</td>\n",
              "      <td>100</td>\n",
              "      <td>44</td>\n",
              "      <td>12</td>\n",
              "      <td>3</td>\n",
              "      <td>-9999</td>\n",
              "      <td>0</td>\n",
              "      <td>-9999</td>\n",
              "      <td>-9999</td>\n",
              "      <td>-9999</td>\n",
              "      <td>-9999</td>\n",
              "      <td>0</td>\n",
              "      <td>-9999</td>\n",
              "      <td>-9999</td>\n",
              "    </tr>\n",
              "    <tr>\n",
              "      <th>3</th>\n",
              "      <td>GHCND:USC00049099</td>\n",
              "      <td>TWENTYNINE PALMS CA US</td>\n",
              "      <td>20100104</td>\n",
              "      <td>-6.66</td>\n",
              "      <td>-9999</td>\n",
              "      <td>-9999.0</td>\n",
              "      <td>-6.66</td>\n",
              "      <td>-9999</td>\n",
              "      <td>-9999.0</td>\n",
              "      <td>-6.66</td>\n",
              "      <td>-9999</td>\n",
              "      <td>-9999.0</td>\n",
              "      <td>0.07</td>\n",
              "      <td>0.0</td>\n",
              "      <td>0.07</td>\n",
              "      <td>0.0</td>\n",
              "      <td>101</td>\n",
              "      <td>45</td>\n",
              "      <td>12</td>\n",
              "      <td>3</td>\n",
              "      <td>0</td>\n",
              "      <td>0</td>\n",
              "      <td>0</td>\n",
              "      <td>0</td>\n",
              "      <td>0</td>\n",
              "      <td>0</td>\n",
              "      <td>0</td>\n",
              "      <td>0</td>\n",
              "      <td>0</td>\n",
              "    </tr>\n",
              "    <tr>\n",
              "      <th>4</th>\n",
              "      <td>GHCND:USC00049099</td>\n",
              "      <td>TWENTYNINE PALMS CA US</td>\n",
              "      <td>20100105</td>\n",
              "      <td>-6.66</td>\n",
              "      <td>-9999</td>\n",
              "      <td>-9999.0</td>\n",
              "      <td>-6.66</td>\n",
              "      <td>-9999</td>\n",
              "      <td>-9999.0</td>\n",
              "      <td>-6.66</td>\n",
              "      <td>-9999</td>\n",
              "      <td>-9999.0</td>\n",
              "      <td>0.09</td>\n",
              "      <td>0.0</td>\n",
              "      <td>0.09</td>\n",
              "      <td>0.0</td>\n",
              "      <td>102</td>\n",
              "      <td>45</td>\n",
              "      <td>12</td>\n",
              "      <td>3</td>\n",
              "      <td>0</td>\n",
              "      <td>0</td>\n",
              "      <td>0</td>\n",
              "      <td>0</td>\n",
              "      <td>0</td>\n",
              "      <td>0</td>\n",
              "      <td>0</td>\n",
              "      <td>0</td>\n",
              "      <td>0</td>\n",
              "    </tr>\n",
              "  </tbody>\n",
              "</table>\n",
              "</div>\n",
              "      <button class=\"colab-df-convert\" onclick=\"convertToInteractive('df-6c90d735-7c1e-45d5-b388-4f2322604a32')\"\n",
              "              title=\"Convert this dataframe to an interactive table.\"\n",
              "              style=\"display:none;\">\n",
              "        \n",
              "  <svg xmlns=\"http://www.w3.org/2000/svg\" height=\"24px\"viewBox=\"0 0 24 24\"\n",
              "       width=\"24px\">\n",
              "    <path d=\"M0 0h24v24H0V0z\" fill=\"none\"/>\n",
              "    <path d=\"M18.56 5.44l.94 2.06.94-2.06 2.06-.94-2.06-.94-.94-2.06-.94 2.06-2.06.94zm-11 1L8.5 8.5l.94-2.06 2.06-.94-2.06-.94L8.5 2.5l-.94 2.06-2.06.94zm10 10l.94 2.06.94-2.06 2.06-.94-2.06-.94-.94-2.06-.94 2.06-2.06.94z\"/><path d=\"M17.41 7.96l-1.37-1.37c-.4-.4-.92-.59-1.43-.59-.52 0-1.04.2-1.43.59L10.3 9.45l-7.72 7.72c-.78.78-.78 2.05 0 2.83L4 21.41c.39.39.9.59 1.41.59.51 0 1.02-.2 1.41-.59l7.78-7.78 2.81-2.81c.8-.78.8-2.07 0-2.86zM5.41 20L4 18.59l7.72-7.72 1.47 1.35L5.41 20z\"/>\n",
              "  </svg>\n",
              "      </button>\n",
              "      \n",
              "  <style>\n",
              "    .colab-df-container {\n",
              "      display:flex;\n",
              "      flex-wrap:wrap;\n",
              "      gap: 12px;\n",
              "    }\n",
              "\n",
              "    .colab-df-convert {\n",
              "      background-color: #E8F0FE;\n",
              "      border: none;\n",
              "      border-radius: 50%;\n",
              "      cursor: pointer;\n",
              "      display: none;\n",
              "      fill: #1967D2;\n",
              "      height: 32px;\n",
              "      padding: 0 0 0 0;\n",
              "      width: 32px;\n",
              "    }\n",
              "\n",
              "    .colab-df-convert:hover {\n",
              "      background-color: #E2EBFA;\n",
              "      box-shadow: 0px 1px 2px rgba(60, 64, 67, 0.3), 0px 1px 3px 1px rgba(60, 64, 67, 0.15);\n",
              "      fill: #174EA6;\n",
              "    }\n",
              "\n",
              "    [theme=dark] .colab-df-convert {\n",
              "      background-color: #3B4455;\n",
              "      fill: #D2E3FC;\n",
              "    }\n",
              "\n",
              "    [theme=dark] .colab-df-convert:hover {\n",
              "      background-color: #434B5C;\n",
              "      box-shadow: 0px 1px 3px 1px rgba(0, 0, 0, 0.15);\n",
              "      filter: drop-shadow(0px 1px 2px rgba(0, 0, 0, 0.3));\n",
              "      fill: #FFFFFF;\n",
              "    }\n",
              "  </style>\n",
              "\n",
              "      <script>\n",
              "        const buttonEl =\n",
              "          document.querySelector('#df-6c90d735-7c1e-45d5-b388-4f2322604a32 button.colab-df-convert');\n",
              "        buttonEl.style.display =\n",
              "          google.colab.kernel.accessAllowed ? 'block' : 'none';\n",
              "\n",
              "        async function convertToInteractive(key) {\n",
              "          const element = document.querySelector('#df-6c90d735-7c1e-45d5-b388-4f2322604a32');\n",
              "          const dataTable =\n",
              "            await google.colab.kernel.invokeFunction('convertToInteractive',\n",
              "                                                     [key], {});\n",
              "          if (!dataTable) return;\n",
              "\n",
              "          const docLinkHtml = 'Like what you see? Visit the ' +\n",
              "            '<a target=\"_blank\" href=https://colab.research.google.com/notebooks/data_table.ipynb>data table notebook</a>'\n",
              "            + ' to learn more about interactive tables.';\n",
              "          element.innerHTML = '';\n",
              "          dataTable['output_type'] = 'display_data';\n",
              "          await google.colab.output.renderOutput(dataTable, element);\n",
              "          const docLink = document.createElement('div');\n",
              "          docLink.innerHTML = docLinkHtml;\n",
              "          element.appendChild(docLink);\n",
              "        }\n",
              "      </script>\n",
              "    </div>\n",
              "  </div>\n",
              "  "
            ]
          },
          "metadata": {},
          "execution_count": 15
        }
      ]
    },
    {
      "cell_type": "code",
      "source": [
        "#shape\n",
        "climate_precip.shape"
      ],
      "metadata": {
        "id": "-KbYuhjDUUvy",
        "colab": {
          "base_uri": "https://localhost:8080/"
        },
        "outputId": "78579474-a7dd-4027-de39-444a962836ce"
      },
      "execution_count": null,
      "outputs": [
        {
          "output_type": "execute_result",
          "data": {
            "text/plain": [
              "(151110, 29)"
            ]
          },
          "metadata": {},
          "execution_count": 16
        }
      ]
    },
    {
      "cell_type": "markdown",
      "source": [
        "## concat()\n",
        "\n",
        "First, you will see a basic concatenation"
      ],
      "metadata": {
        "id": "bQ5db66I7kwY"
      }
    },
    {
      "cell_type": "code",
      "source": [
        "#read in station 1\n",
        "precip_station_1 = climate_precip.query(\"STATION == 'GHCND:USC00045721'\")\n",
        "precip_station_1.head()"
      ],
      "metadata": {
        "id": "PzPAIfT-UflH"
      },
      "execution_count": null,
      "outputs": []
    },
    {
      "cell_type": "code",
      "source": [
        "#read in station 2\n",
        "precip_station_2 = climate_precip.query(\"STATION =='GHCND:USC00049099'\")"
      ],
      "metadata": {
        "id": "RrLDlQuGUg7T"
      },
      "execution_count": null,
      "outputs": []
    },
    {
      "cell_type": "markdown",
      "source": [
        "## CLASS EXERCISE: 10 Minutes\n",
        "\n",
        "### Write a function that concatenates `precip_station_1` and `precip_station_1` dataframes\n",
        "### Parameters: It takes in two dataframes as input parameters\n",
        "### Returns: merged dataframe, shape of merged dataframe, and summary statistics of the dataframe\n"
      ],
      "metadata": {
        "id": "5GrCu9omOEPb"
      }
    },
    {
      "cell_type": "code",
      "source": [
        "def concat_dfs(df1, df2):\n",
        "  df_concat = pd.concat([df1, df2], ignore_index=True)\n",
        "  shape = df_concat.shape\n",
        "  summary = df_concat.describe()\n",
        "\n",
        "  return df_concat, shape, summary"
      ],
      "metadata": {
        "id": "DNYDniHuUwe4"
      },
      "execution_count": null,
      "outputs": []
    },
    {
      "cell_type": "code",
      "source": [
        "combined_df, df_shape, df_summary = concat_dfs(precip_station_1, precip_station_2)"
      ],
      "metadata": {
        "id": "9zB-SWa-UwmP"
      },
      "execution_count": null,
      "outputs": []
    },
    {
      "cell_type": "code",
      "source": [
        "combined_df.head()"
      ],
      "metadata": {
        "id": "D5fHJYt6UwxN"
      },
      "execution_count": null,
      "outputs": []
    },
    {
      "cell_type": "code",
      "source": [
        "print(df_shape, precip_station_1.shape, precip_station_2.shape)"
      ],
      "metadata": {
        "id": "_AgY_EhwUw71",
        "colab": {
          "base_uri": "https://localhost:8080/"
        },
        "outputId": "f5982aed-899f-4baa-ed74-28d9debca3d3"
      },
      "execution_count": null,
      "outputs": [
        {
          "output_type": "stream",
          "name": "stdout",
          "text": [
            "(730, 29) (365, 29) (365, 29)\n"
          ]
        }
      ]
    },
    {
      "cell_type": "code",
      "source": [
        "df_summary"
      ],
      "metadata": {
        "id": "ccAkprjwmB2l"
      },
      "execution_count": null,
      "outputs": []
    },
    {
      "cell_type": "markdown",
      "source": [
        "## Now let's concatenate the precipitation dataset and the temperature dataset"
      ],
      "metadata": {
        "id": "iSs28O5vP_-e"
      }
    },
    {
      "cell_type": "code",
      "source": [
        "#outer join\n",
        "print(climate_temp.shape, climate_precip.shape)"
      ],
      "metadata": {
        "id": "mVzUfjYnUzGJ",
        "colab": {
          "base_uri": "https://localhost:8080/"
        },
        "outputId": "a2f03de9-5d4c-4ee2-f479-3204f21867a8"
      },
      "execution_count": null,
      "outputs": [
        {
          "output_type": "stream",
          "name": "stdout",
          "text": [
            "(127020, 21) (151110, 29)\n"
          ]
        }
      ]
    },
    {
      "cell_type": "code",
      "source": [
        "outer_joined = pd.concat([climate_temp, climate_precip])"
      ],
      "metadata": {
        "id": "v05SxKa0o2qz"
      },
      "execution_count": null,
      "outputs": []
    },
    {
      "cell_type": "code",
      "source": [
        "#shape\n",
        "outer_joined.shape"
      ],
      "metadata": {
        "id": "zMuqlstfU7Ni",
        "colab": {
          "base_uri": "https://localhost:8080/"
        },
        "outputId": "c81076e5-8934-45f8-b88a-fd5be493764a"
      },
      "execution_count": null,
      "outputs": [
        {
          "output_type": "execute_result",
          "data": {
            "text/plain": [
              "(278130, 47)"
            ]
          },
          "metadata": {},
          "execution_count": 29
        }
      ]
    },
    {
      "cell_type": "code",
      "source": [
        "#inner join\n",
        "inner_joined = pd.concat([climate_temp, climate_precip], join=\"inner\")\n",
        "inner_joined.head()"
      ],
      "metadata": {
        "id": "Q1RZtqcAU20D",
        "colab": {
          "base_uri": "https://localhost:8080/",
          "height": 206
        },
        "outputId": "caa16e25-3363-4cac-8758-39d11a453b4b"
      },
      "execution_count": null,
      "outputs": [
        {
          "output_type": "execute_result",
          "data": {
            "text/plain": [
              "             STATION            STATION_NAME      DATE\n",
              "0  GHCND:USC00049099  TWENTYNINE PALMS CA US  20100101\n",
              "1  GHCND:USC00049099  TWENTYNINE PALMS CA US  20100102\n",
              "2  GHCND:USC00049099  TWENTYNINE PALMS CA US  20100103\n",
              "3  GHCND:USC00049099  TWENTYNINE PALMS CA US  20100104\n",
              "4  GHCND:USC00049099  TWENTYNINE PALMS CA US  20100105"
            ],
            "text/html": [
              "\n",
              "  <div id=\"df-e454ae9d-2ebf-4c79-bb49-9bcae5828b0e\">\n",
              "    <div class=\"colab-df-container\">\n",
              "      <div>\n",
              "<style scoped>\n",
              "    .dataframe tbody tr th:only-of-type {\n",
              "        vertical-align: middle;\n",
              "    }\n",
              "\n",
              "    .dataframe tbody tr th {\n",
              "        vertical-align: top;\n",
              "    }\n",
              "\n",
              "    .dataframe thead th {\n",
              "        text-align: right;\n",
              "    }\n",
              "</style>\n",
              "<table border=\"1\" class=\"dataframe\">\n",
              "  <thead>\n",
              "    <tr style=\"text-align: right;\">\n",
              "      <th></th>\n",
              "      <th>STATION</th>\n",
              "      <th>STATION_NAME</th>\n",
              "      <th>DATE</th>\n",
              "    </tr>\n",
              "  </thead>\n",
              "  <tbody>\n",
              "    <tr>\n",
              "      <th>0</th>\n",
              "      <td>GHCND:USC00049099</td>\n",
              "      <td>TWENTYNINE PALMS CA US</td>\n",
              "      <td>20100101</td>\n",
              "    </tr>\n",
              "    <tr>\n",
              "      <th>1</th>\n",
              "      <td>GHCND:USC00049099</td>\n",
              "      <td>TWENTYNINE PALMS CA US</td>\n",
              "      <td>20100102</td>\n",
              "    </tr>\n",
              "    <tr>\n",
              "      <th>2</th>\n",
              "      <td>GHCND:USC00049099</td>\n",
              "      <td>TWENTYNINE PALMS CA US</td>\n",
              "      <td>20100103</td>\n",
              "    </tr>\n",
              "    <tr>\n",
              "      <th>3</th>\n",
              "      <td>GHCND:USC00049099</td>\n",
              "      <td>TWENTYNINE PALMS CA US</td>\n",
              "      <td>20100104</td>\n",
              "    </tr>\n",
              "    <tr>\n",
              "      <th>4</th>\n",
              "      <td>GHCND:USC00049099</td>\n",
              "      <td>TWENTYNINE PALMS CA US</td>\n",
              "      <td>20100105</td>\n",
              "    </tr>\n",
              "  </tbody>\n",
              "</table>\n",
              "</div>\n",
              "      <button class=\"colab-df-convert\" onclick=\"convertToInteractive('df-e454ae9d-2ebf-4c79-bb49-9bcae5828b0e')\"\n",
              "              title=\"Convert this dataframe to an interactive table.\"\n",
              "              style=\"display:none;\">\n",
              "        \n",
              "  <svg xmlns=\"http://www.w3.org/2000/svg\" height=\"24px\"viewBox=\"0 0 24 24\"\n",
              "       width=\"24px\">\n",
              "    <path d=\"M0 0h24v24H0V0z\" fill=\"none\"/>\n",
              "    <path d=\"M18.56 5.44l.94 2.06.94-2.06 2.06-.94-2.06-.94-.94-2.06-.94 2.06-2.06.94zm-11 1L8.5 8.5l.94-2.06 2.06-.94-2.06-.94L8.5 2.5l-.94 2.06-2.06.94zm10 10l.94 2.06.94-2.06 2.06-.94-2.06-.94-.94-2.06-.94 2.06-2.06.94z\"/><path d=\"M17.41 7.96l-1.37-1.37c-.4-.4-.92-.59-1.43-.59-.52 0-1.04.2-1.43.59L10.3 9.45l-7.72 7.72c-.78.78-.78 2.05 0 2.83L4 21.41c.39.39.9.59 1.41.59.51 0 1.02-.2 1.41-.59l7.78-7.78 2.81-2.81c.8-.78.8-2.07 0-2.86zM5.41 20L4 18.59l7.72-7.72 1.47 1.35L5.41 20z\"/>\n",
              "  </svg>\n",
              "      </button>\n",
              "      \n",
              "  <style>\n",
              "    .colab-df-container {\n",
              "      display:flex;\n",
              "      flex-wrap:wrap;\n",
              "      gap: 12px;\n",
              "    }\n",
              "\n",
              "    .colab-df-convert {\n",
              "      background-color: #E8F0FE;\n",
              "      border: none;\n",
              "      border-radius: 50%;\n",
              "      cursor: pointer;\n",
              "      display: none;\n",
              "      fill: #1967D2;\n",
              "      height: 32px;\n",
              "      padding: 0 0 0 0;\n",
              "      width: 32px;\n",
              "    }\n",
              "\n",
              "    .colab-df-convert:hover {\n",
              "      background-color: #E2EBFA;\n",
              "      box-shadow: 0px 1px 2px rgba(60, 64, 67, 0.3), 0px 1px 3px 1px rgba(60, 64, 67, 0.15);\n",
              "      fill: #174EA6;\n",
              "    }\n",
              "\n",
              "    [theme=dark] .colab-df-convert {\n",
              "      background-color: #3B4455;\n",
              "      fill: #D2E3FC;\n",
              "    }\n",
              "\n",
              "    [theme=dark] .colab-df-convert:hover {\n",
              "      background-color: #434B5C;\n",
              "      box-shadow: 0px 1px 3px 1px rgba(0, 0, 0, 0.15);\n",
              "      filter: drop-shadow(0px 1px 2px rgba(0, 0, 0, 0.3));\n",
              "      fill: #FFFFFF;\n",
              "    }\n",
              "  </style>\n",
              "\n",
              "      <script>\n",
              "        const buttonEl =\n",
              "          document.querySelector('#df-e454ae9d-2ebf-4c79-bb49-9bcae5828b0e button.colab-df-convert');\n",
              "        buttonEl.style.display =\n",
              "          google.colab.kernel.accessAllowed ? 'block' : 'none';\n",
              "\n",
              "        async function convertToInteractive(key) {\n",
              "          const element = document.querySelector('#df-e454ae9d-2ebf-4c79-bb49-9bcae5828b0e');\n",
              "          const dataTable =\n",
              "            await google.colab.kernel.invokeFunction('convertToInteractive',\n",
              "                                                     [key], {});\n",
              "          if (!dataTable) return;\n",
              "\n",
              "          const docLinkHtml = 'Like what you see? Visit the ' +\n",
              "            '<a target=\"_blank\" href=https://colab.research.google.com/notebooks/data_table.ipynb>data table notebook</a>'\n",
              "            + ' to learn more about interactive tables.';\n",
              "          element.innerHTML = '';\n",
              "          dataTable['output_type'] = 'display_data';\n",
              "          await google.colab.output.renderOutput(dataTable, element);\n",
              "          const docLink = document.createElement('div');\n",
              "          docLink.innerHTML = docLinkHtml;\n",
              "          element.appendChild(docLink);\n",
              "        }\n",
              "      </script>\n",
              "    </div>\n",
              "  </div>\n",
              "  "
            ]
          },
          "metadata": {},
          "execution_count": 30
        }
      ]
    },
    {
      "cell_type": "code",
      "source": [
        "#shape\n",
        "inner_joined.shape"
      ],
      "metadata": {
        "id": "IeNCyWwqU8jO",
        "colab": {
          "base_uri": "https://localhost:8080/"
        },
        "outputId": "9da4d4c6-6892-407d-ad30-eba7168b08fe"
      },
      "execution_count": null,
      "outputs": [
        {
          "output_type": "execute_result",
          "data": {
            "text/plain": [
              "(278130, 3)"
            ]
          },
          "metadata": {},
          "execution_count": 31
        }
      ]
    },
    {
      "cell_type": "markdown",
      "source": [
        "# **Merging datasets with** `merge()`\n",
        "\n",
        "## By default, Pandas uses an `inner` join to merge data"
      ],
      "metadata": {
        "id": "uCuVkJj8Qgg8"
      }
    },
    {
      "cell_type": "markdown",
      "source": [
        "![Capture.PNG](data:image/png;base64,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)"
      ],
      "metadata": {
        "id": "NTJATXCeUoJG"
      }
    },
    {
      "cell_type": "code",
      "source": [
        "#create dataframes\n",
        "\n",
        "books = pd.DataFrame.from_dict({\n",
        "    'Author ID': [1,1,2,3],\n",
        "    'Book ID': [1,2,1,1],\n",
        "    'Name': ['Dune', 'Harry Potter', 'Game of Thrones', 'Lord of the Rings']\n",
        "})\n",
        "\n",
        "authors = pd.DataFrame.from_dict({\n",
        "    'Author ID': [1,2,3,4],\n",
        "    'Name': ['Jamie', 'Alex', 'Jane', 'Matt']\n",
        "})\n",
        "\n",
        "sales = pd.DataFrame.from_dict({\n",
        "    'Author ID': [1,1,1,2,3,4],\n",
        "    'Book ID': [1,2,1,1,1,1],\n",
        "    'Sales': [10, 20, 10, 30, 45,10]\n",
        "})"
      ],
      "metadata": {
        "id": "pRBs3WwKVDww"
      },
      "execution_count": null,
      "outputs": []
    },
    {
      "cell_type": "code",
      "source": [
        "#print dataframes\n",
        "print(\"Books dataframe:\")\n",
        "print(books)\n",
        "print(\"\\nAuthors dataframe:\")\n",
        "print(authors)\n",
        "print(\"\\nSales dataframe\")\n",
        "print(sales)"
      ],
      "metadata": {
        "id": "HMQLuuJAVFR7",
        "colab": {
          "base_uri": "https://localhost:8080/"
        },
        "outputId": "d127d009-b143-4b4e-a5ea-e9ae3cea53e5"
      },
      "execution_count": null,
      "outputs": [
        {
          "output_type": "stream",
          "name": "stdout",
          "text": [
            "Books dataframe:\n",
            "   Author ID  Book ID               Name\n",
            "0          1        1               Dune\n",
            "1          1        2       Harry Potter\n",
            "2          2        1    Game of Thrones\n",
            "3          3        1  Lord of the Rings\n",
            "\n",
            "Authors dataframe:\n",
            "   Author ID   Name\n",
            "0          1  Jamie\n",
            "1          2   Alex\n",
            "2          3   Jane\n",
            "3          4   Matt\n",
            "\n",
            "Sales dataframe\n",
            "   Author ID  Book ID  Sales\n",
            "0          1        1     10\n",
            "1          1        2     20\n",
            "2          1        1     10\n",
            "3          2        1     30\n",
            "4          3        1     45\n",
            "5          4        1     10\n"
          ]
        }
      ]
    },
    {
      "cell_type": "markdown",
      "source": [
        "## Let's merge `Books` and `Authors` so we can get authors' names in one dataframe"
      ],
      "metadata": {
        "id": "qJmuCZBMTU_t"
      }
    },
    {
      "cell_type": "code",
      "source": [
        "#merge books and authors\n",
        "merged_df = pd.merge(left=books, right=authors, left_on='Author ID', right_on='Author ID')\n",
        "print(merged_df)"
      ],
      "metadata": {
        "id": "iVCGMRIbVL5B",
        "colab": {
          "base_uri": "https://localhost:8080/"
        },
        "outputId": "461d475e-002a-4e67-f0f5-2694ae8a46f3"
      },
      "execution_count": null,
      "outputs": [
        {
          "output_type": "stream",
          "name": "stdout",
          "text": [
            "   Author ID  Book ID             Name_x Name_y\n",
            "0          1        1               Dune  Jamie\n",
            "1          1        2       Harry Potter  Jamie\n",
            "2          2        1    Game of Thrones   Alex\n",
            "3          3        1  Lord of the Rings   Jane\n"
          ]
        }
      ]
    },
    {
      "cell_type": "markdown",
      "source": [
        "##By default, Pandas uses an `inner` merge, that is why author `Matt` was dropped.\n",
        "\n",
        "### Now let's try an outer join"
      ],
      "metadata": {
        "id": "E2g5P-t_UHuQ"
      }
    },
    {
      "cell_type": "code",
      "source": [
        "#outer join\n",
        "merged_df2 = pd.merge(left=books, right=authors, left_on='Author ID', right_on='Author ID', how=\"outer\")\n",
        "print(merged_df2)"
      ],
      "metadata": {
        "id": "a2jrMwctV1wL",
        "colab": {
          "base_uri": "https://localhost:8080/"
        },
        "outputId": "c98673c6-b02f-43f8-dfd1-6f08d8343611"
      },
      "execution_count": null,
      "outputs": [
        {
          "output_type": "stream",
          "name": "stdout",
          "text": [
            "   Author ID  Book ID             Name_x Name_y\n",
            "0          1      1.0               Dune  Jamie\n",
            "1          1      2.0       Harry Potter  Jamie\n",
            "2          2      1.0    Game of Thrones   Alex\n",
            "3          3      1.0  Lord of the Rings   Jane\n",
            "4          4      NaN                NaN   Matt\n"
          ]
        }
      ]
    },
    {
      "cell_type": "markdown",
      "source": [
        "## Sometimes, it is helpful to know which columns came from which dataframes in a more informative way. We can use the `suffixes` parameter for that"
      ],
      "metadata": {
        "id": "IQ9Lcw-RUyIX"
      }
    },
    {
      "cell_type": "code",
      "source": [
        "#add suffixes\n",
        "merged_df2 = pd.merge(left=books, right=authors, left_on='Author ID', right_on='Author ID', how=\"outer\", suffixes=('(book)','(author)'))\n",
        "print(merged_df2)"
      ],
      "metadata": {
        "id": "qex27L2bV58m",
        "colab": {
          "base_uri": "https://localhost:8080/"
        },
        "outputId": "d67c2cc0-39d2-4f3f-8661-af0978ca6ece"
      },
      "execution_count": null,
      "outputs": [
        {
          "output_type": "stream",
          "name": "stdout",
          "text": [
            "   Author ID  Book ID         Name(book) Name(author)\n",
            "0          1      1.0               Dune        Jamie\n",
            "1          1      2.0       Harry Potter        Jamie\n",
            "2          2      1.0    Game of Thrones         Alex\n",
            "3          3      1.0  Lord of the Rings         Jane\n",
            "4          4      NaN                NaN         Matt\n"
          ]
        }
      ]
    },
    {
      "cell_type": "markdown",
      "source": [
        "## Merging on multiple columns"
      ],
      "metadata": {
        "id": "qZpj5kMVY3_6"
      }
    },
    {
      "cell_type": "code",
      "source": [
        "#merged_multi_cols\n",
        "merge_multi_cols = pd.merge(left=books, right=sales, on=['Author ID', 'Book ID'])\n",
        "\n",
        "print(merge_multi_cols)"
      ],
      "metadata": {
        "id": "uOwYTy1JWAT6",
        "colab": {
          "base_uri": "https://localhost:8080/"
        },
        "outputId": "0cb9a7f1-ddb4-4a6d-9f95-6ba85af5af6c"
      },
      "execution_count": null,
      "outputs": [
        {
          "output_type": "stream",
          "name": "stdout",
          "text": [
            "   Author ID  Book ID               Name  Sales\n",
            "0          1        1               Dune     10\n",
            "1          1        1               Dune     10\n",
            "2          1        2       Harry Potter     20\n",
            "3          2        1    Game of Thrones     30\n",
            "4          3        1  Lord of the Rings     45\n"
          ]
        }
      ]
    },
    {
      "cell_type": "markdown",
      "source": [
        "## **LEFT** join and **RIGHT** join\n",
        "\n",
        "### **Left join**: Take all records from the `left` dataframe and only include matching records from the `right` dataframe\n",
        "\n",
        "### **Right join**: Take all records from the `right` dataframe and only include matching records from the `left` dataframe"
      ],
      "metadata": {
        "id": "nwcp9_6QVuvS"
      }
    },
    {
      "cell_type": "markdown",
      "source": [
        "![Capture2.PNG](data:image/png;base64,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)"
      ],
      "metadata": {
        "id": "WJACCy7QWzqK"
      }
    },
    {
      "cell_type": "markdown",
      "source": [
        "## `join()` method is called on one dataframe and is used to **join** another"
      ],
      "metadata": {
        "id": "yW8nQLzOZT29"
      }
    },
    {
      "cell_type": "code",
      "source": [
        "#can also use join for a quick merge"
      ],
      "metadata": {
        "id": "uLLZfpCRWOBA"
      },
      "execution_count": null,
      "outputs": []
    },
    {
      "cell_type": "markdown",
      "metadata": {
        "id": "p1phpVVs4lsr"
      },
      "source": [
        "### Inner Join\n",
        "\n",
        "Here, you will use a plain `merge()` call to do an inner join and learn how this can result in a smaller, more focused dataset. First, you will create a new DataFrame object that contains the precipitation data from one station."
      ]
    },
    {
      "cell_type": "code",
      "source": [
        "#read in precip_station_1\n",
        "#look at shape"
      ],
      "metadata": {
        "id": "Qt3GmZfqWmgt"
      },
      "execution_count": null,
      "outputs": []
    },
    {
      "cell_type": "markdown",
      "source": [
        "# CLASS EXERCISE (10 Minutes)\n",
        "\n",
        "### Write a function that merges `precip_station_1` and `climate_temp` dataframes\n",
        "### Parameters: It takes in two dataframes as input parameters\n",
        "### Returns: merged dataframe and `True` if the length of precip_station_1 is equal to the merged dataframe"
      ],
      "metadata": {
        "id": "12RmcGhhc8QQ"
      }
    },
    {
      "cell_type": "code",
      "source": [
        "def merge_dataframes (df1, df2):\n",
        "\n",
        "  merged_df = pd.merge(df1, df2)\n",
        "  bool = False\n",
        "  if(len(merged_df == len(df1))):\n",
        "    bool = True\n",
        "\n",
        "  return merged_df, bool"
      ],
      "metadata": {
        "id": "y6MgywRaWtcD"
      },
      "execution_count": null,
      "outputs": []
    },
    {
      "cell_type": "code",
      "source": [
        "merged_data, condition = merge_dataframes(precip_station_1, climate_temp)"
      ],
      "metadata": {
        "id": "DXbkS_vxWthr"
      },
      "execution_count": null,
      "outputs": []
    },
    {
      "cell_type": "code",
      "source": [
        "print(merged_data.shape, precip_station_1.shape, climate_temp.shape)"
      ],
      "metadata": {
        "id": "q2ILq5MmWtog",
        "colab": {
          "base_uri": "https://localhost:8080/"
        },
        "outputId": "f81cce84-10d6-4491-dcf4-613f61d4d878"
      },
      "execution_count": null,
      "outputs": [
        {
          "output_type": "stream",
          "name": "stdout",
          "text": [
            "(365, 47) (365, 29) (127020, 21)\n"
          ]
        }
      ]
    },
    {
      "cell_type": "markdown",
      "metadata": {
        "id": "numL2D1i4lsu"
      },
      "source": [
        "You get 365 rows because any non-matching rows are discarded in an inner join, which is the default merge method for a `merge()` call, and `precip_one_station` had only 365 rows.\n",
        "\n",
        "What if you want to merge both full datasets, but specify which columns to join on? In this case, you will use the `on` parameter:"
      ]
    },
    {
      "cell_type": "code",
      "source": [
        "inner_merged_total = pd.merge(climate_temp, climate_precip, on=[\"STATION\", \"DATE\"])\n",
        "inner_merged_total.head()"
      ],
      "metadata": {
        "id": "c0rSDtaRWx86"
      },
      "execution_count": null,
      "outputs": []
    },
    {
      "cell_type": "code",
      "source": [
        "inner_merged_total.shape"
      ],
      "metadata": {
        "id": "rr6-MQpnW7Rr"
      },
      "execution_count": null,
      "outputs": []
    },
    {
      "cell_type": "markdown",
      "metadata": {
        "id": "KgCcKRsf4lsv"
      },
      "source": [
        "You can specify a single _key column_ with a string, or multiple key columns with a list, as in the above example. This results in a DataFrame with 123005 rows and 48 columns. \n",
        "\n",
        "### Outer Join\n",
        "With the outer join, you will retain rows that don't have matches as well. For this example, you will use the smaller precipitation DataFrame `precip_one_station` with the full `climate_temp` DataFrame and join with `STATION` and `DATE` columns as the key columns. Take a second and think about how many rows you expect the new DataFrame to have."
      ]
    },
    {
      "cell_type": "code",
      "source": [
        "outer_merged = pd.merge(precip_station_1, climate_temp, how=\"outer\", on=[\"STATION\", \"DATE\"])\n",
        "\n",
        "outer_merged.head()"
      ],
      "metadata": {
        "id": "GtUNP7PzXDFi"
      },
      "execution_count": null,
      "outputs": []
    },
    {
      "cell_type": "code",
      "source": [
        "outer_merged.shape"
      ],
      "metadata": {
        "id": "hSmToTRDXIoz"
      },
      "execution_count": null,
      "outputs": []
    },
    {
      "cell_type": "markdown",
      "source": [
        "![Capture2.PNG](data:image/png;base64,iVBORw0KGgoAAAANSUhEUgAAAo8AAAEMCAYAAAClXFyQAAAAAXNSR0IArs4c6QAAAARnQU1BAACxjwv8YQUAAAAJcEhZcwAADsMAAA7DAcdvqGQAALmdSURBVHhe7f2Fm1TH1v4Pv//F7/k+55zYics5UdwhCUFCEiQJ7u7u7u4QJLgmBEjQYAECSZAAwYK7u1vy1Fuftbt6dvf0DMMwsptZ93WtDJlp2XuvqlV3Lav/n1EoFAqFQqFQKFIIJY8KhUKhUCgUihRDyaNCoVAoFAqFIsVQ8qhQKBQKhUKhSDGUPCoUCoVCoVAoUgwljwqFQqFQKBSKFEPJo0KhUCgUCoUixVDyqFAoFAqFQqFIMZQ8KhQKhUKhUChSDCWPCoVCoVAoFIoUQ8mjQqFQKBQKhSLFUPKoUCgUCoVCoUgxlDwqFAqFQqFQKFIMJY8KhUKhUCgUihRDyaNCoVAoFAqFIsVQ8qhQKBQKhUKhSDGUPCoUCoVCoVAoUgwljwqFQqFQKBSKFEPJYzrgr7/+NmfPXza79x8TOX76vPn77/8L/fXhOHnmotlzwHtvSuXPgyfMhUvXQp/g4d79B4/8OQePnjanz10yB46civn3h8meA8fNmXOXQ1eQNK7fvG32Hz4Z8zP8cvTkOXP37v3Qu2Lj//7v/8ztO/fM5Ss35Nnxvl9//9Ps/POo/P/lqzfk73/b1yUH/n7RPkP33UdOnDX3HzwI/dUDz5Tf8/e9B4+Lnh/2uYDPcZ/Lfd+w969QKDxcv3E7WVu119qVI8fPmjN2vrn5zLxPCvfuPTCHjp2W9+6z8433PAx83q3bd82lK9fNidMXzK59R82m7fvkuk6fvWSu2M+4czf5771245b589AJ+V6ul+t8GFgbzl+8Gr5X1osHD/6S7+Fa3O9TI9eu3wp9S9LgvvYdSpktfvDXX6F3JQ3uWZ7hmQvyvi079suzdLb4Yc8Q8GfWM/fdx60+sL1+XLfP2q0h2OKU3Cu4cu1mWEfcE2NF8ehQ8pgOYBD3Gj7LPJW9kkjlpgPNzdt3Qn99OJp0GWueyVk5/P6UyGuFapsRk74PfYKHoyfOmedyV4v5+qSkQNlWplXPCSbXJ81i/v1h8m/7fW17fx26gqSxZPVm817xRjE/wy9f1O9j9uw/HnpXYty8dcds333I9B/9jSlVo5t5OX/NiPe/mK+G+cT+fsDYby2h3Cu6ScpwYdTGTV8Sfu/H1brIIuIH/1+6Vg/5+zM5q5gKjfoL4X4YeJ/73HeKNTKrft4W+otCoVj+01bzbK6q4TmSlLxSoLb5tGZ3mc8QOzahsYDt+7BCe3nPW0UbmGnzVoX+EhtXr980my3J6WntdtFKHc0LeWsk+t7P6/UxwyYuML9t2ycEJJYdWfjjL+b1wnXkPaWqdzXbdh0K/SVpYMP6jZ4b/q6qzQcJScYefTV9cfj3qZHvlm4IfUvSmL1wrXnno4Yx3+8XbPG5C1dC70oMiPOOPYdN/zHfmOKVO5nn81SPeD/PtHTtnmboxPlm6x8HZMOQFIfEATNo3Lzwe2u0HCJk3I9lP20xuUp569S/81QzXQZNk2f5MMz9YX1YR5/X750i+61IDCWP6QAICkboX9kqilRuMiBFg9qhcecx5ukclcLvT4m8UrCWGf71wtAneMBDhkGO9fqkpEDZ1qZ1rwkmZ6mmMf/+MHnOfl+b3hNDV5A0Fq/aZN61JCrWZ/jl83q9LXk8FnpXAjA6p+xOdtyMJXLNsd4bLbk/bS6LzvFT50OfEgnPWC8Jv75k1djk8bNa3cOvgax2Gzw9kdc3GrzPvedta6hXKnlUKMJYZskjmzE3Rx4ulUzez1qasdMWm4uXr4c+JQGQxw/Kt5PXvvlhfTP125Whv0QCr9+hY2eEqOT6pLkQisTflSD8ndf1GDZL7FI0gVyw/BfZyPNaNp8pJY99R80Nf0eVZgPD5HGsJY/u96mReUseTh5nWfIIwY71fr9AtGKRR57hsZPn7PqzwOQr3cquXZVjvt8Jf8dmD5u4UGxxLBLuyKN7T/UWg2OSx5wfJ6xT3MPcH9aZ+1EeymjMsa9xOipn15cDR5Q8pgZKHtMBaUkec9jJUalJf1O95eBkpUGHUeaHlb+FPsGDnzw+nb2yKVG1c8z3+qVD/8lmyjcrhEBG/61s3V7mjSJ15fOetYa+aMUOiV5Tu80wMyUJQ+3HFrvzbN59XKL3I4W/aBO+/6TII7vFDv0myw6S1yEv5K1u39vWVG46wNRtN8JUszv4Il+0k9+71+AZbWG/l8UlGqkhjwge1OnfrTa379wNvSoxlDwqFEnDTx4hF1806JPILmBHP6rUUaIJbi7994N6ZsLMZYlSW1JCHiE9O/YeMfU7jJTNt/vMVwrUEs9ZzVZDTMOOo+zPoaaY/X//a7hG7A/hZT/SkjwSpl22ZnOi54CUtJ/tJ9tfxnheyMate0PfkjTW/brTNO06Nub785dpJVEwviMWeYT4EfImWubuG3ne2twPyrc3Ve29OFuMbca54F7zsn3OrHXHTibezKeGPELsi1fpLClLSXk0gZLHtIGSx3RAWpLHuu2GS1j2sJ04yQm5G4RS/PCTx+dyVRNSF+u9fjl55oJ40ci7if4boSWMKJ/3Uv4aZtTkHxK9hu+8eDl5Lxwgt4hdZ/T7kb4j55jncnvXHYs8njp7yZLcKWFjjiEvWrGjeCEJTWMMIGt4FDAk42cuFeLsjC2GrW2fSeZslCFMLXlEMJR8199//x16ZSSUPCoUScNPHgl3rvttZyK7QB42m06IIPPZzafcn7Qwh+1c9yMl5JH31G073H5fNXndM9aOYG9mLfzJbN15wH7GWcl15LMIs862v4cEvVygprV/NeV1f0XN97QkjxAzwunRzwEhDO9INKRp/aZdMV934+bD1x3CxxC4WO/vaO2s+55Y5JH8+EadxkRs0FkjJs1dIWkFbPKdLf7FEtnRUxeJrXSvfTZXFdO296RE15ka8ogQvsaREv1aP5Q8pg2UPKYD0pI8kn+YkmTvWPCTRzxuTLbHwc4/j4SJE7vzOd+vC/0lbTFuxlIxAnxPNHmE4E22hunV0OR/KntFU75hXymOSSo5/Y79PUa8Rsuh9jl4zwMP6uipiyM8B49DHiGwFRsPSDInSMmjQpE0/OSR3LhoMujHvXv3zbI1W8STxeshT3N+WBv6q4eHkUdyJfuOmmNeyOeRHj4D79v+w6cSFck58HtIFulBo6csSrRZB2lJHpPDj2u3SsqMd+2V5X7TAwPHzhOizPdEk0cKTUZP+SGCxHLt3PNdq6NYIDqzccseuyYOFLLO+/7zfj3Rj99bmFryiEDuB479NqZ+gJLHtIGSx3SAksfHQ3Lkkarywp97iwYCwcPgx8qb8YOKaJ5H+Yb9xGhBOkvY927avj/0ikcnjzzTd4s3Ns/n9a6VUH73oTNjklgljwpF0ngU8gggBu37TgrPqU4Dpob+4iE58oitwIP5RpF68nc2fvXbjwzl34VelAywE4TJY9mcrEQeDx09bbKXaCJ/Y72iMBRb/dCuFn//bXbuPSKhdp49pJNnRfjb4VHJIzY9z6ct5LP4//9Y3c5ZuFY2GtFQ8pg2UPKYDlDy+HhIijzef/CX5Bbye+T1wnXN0jVbxNCkFOt/2yV5UvJM7HcQRnHex0clj68Vrm3a95tsGnUaHfZoEkr/dvHPiVpaKHlUKJLGo5JH8hUHfZVALgid+pEcecSO0A3DvZfiDSqo0wJZiTzifXXpRTlLNbPX9HuKyLfD9z/+arKVaCzvf71IHTPW2l5HyB+VPOJtnDF/jSnkcyxwTeg1muQreUwbKHlMB2R0ziP5jjdifP6TRh7JkyQxm98jVexOl3t8FBBOKV2rZ/gzmnf7Kpz7mBrySLXnb7//aReKruZpu+tl5/thhQ6S7+O3WUoeFYqk8ajkkVQUv41t0yuyPVhy5BGvIfPVvRcPZqyK7dTATx7Jy9xkyQuFL8kJzoHeI2aHrydeyGO15oPD6xSe25T09/UD7zFFmNhMPJAtuo8PFx0+Knl81W7a6SdJHuo7xRqG3ydtj6KuS8lj2kDJYzogLclj9pJNTMXG/SVROykhQZhijWj4ySOGmQk+eNx3SQqkLTkyltnkkT5i9Hjj90jP4TMlofxRgFHqOmh6+DN4toS9QWrJIwsALSLcLhovZL12IyKMnZJHhSJpPCp5pDk0c9fNqTFTF4X+4iE58kiDfvoa8jcKNii0e5ToRXLwk8e3P2pgbfNI023I9GSl44ApUj3t7iUeyCPPyxW+kK7Te+TsFDUQj0bLHhNEB3wOBJECHJAa8rjrz6NS7Nlz2Mzws3khbzXxUGPbHZQ8pg2UPKYD0pI8pkRoV0Nz2mj4ySNCXggTPSnBzb9m447QuxMjs8njVbtTLViuTfh+Rk7+PsnE7KRAvg3vc5/xWa0ecvoBSC15BBDbXsNnh5PHMU4kbTtyq+RRoUgaKSWPhCDpttB10LRw0RzV2Vt3Hgy9wkNy5BEC9Mb7Xssx0kxmLfgp9JeHg+gHp2gRDv1918FEIVE/eUytxAN5hIBzoAS/f8naPDpvpAZ9Rs0NV7uXb9RXqrJBaskjwBlQpdmgcG4769pCqxenKyWPaQMlj+mAtCSP9NhicrGDSkrYRS+K6vEIEpFH+1ns8pISGoOv3hBg8miJGCFhdz+Dx38nxvxRAHkc6MuV4vP3Hjghf3sc8gjOXbhqvmzQV8Iw/P294o3NvCU/i2dSyaNCkTT85JG2YlQ0z1ywJiwz5q82X89ZLqeI0AoGssBrCXc26TzW2oZboU/ykBx5JFzq8p4hqlO/Tf70GT846pAITu5PmpuPq3dLts8jdoBNOb0Nk5cqch+8B4kH8kildcFy3uEMrE9Dxs+X3z8qug2ZEbb19Oc9FjrA4XHII+2Tft6027z/ZTshjzzb0rV7SPslCKSSx7SBksd0QFqSx1qth0p/LLxjSQnnvuL5ikZ02JrCDo7XSkomzlqWaIL6kdnkkd0uhpXfI826fvVQIxsNkuXrtB0e/gz+7U6ceVzyCLbtPiQ7Xf7O4lHki7Zm45a90uLDfa6SR4UiEn7yiNA3kF6yTvDov5ivuqSEMK8QSE31FkOkSjfaA5gceaQbQv4yHvF5ygpHA6Z0EwpBgYjw3neLNU50momfPLIZpzCH705Oxs9cZio2SgjBx0vO42e1eooe+BuniiV1VGRS4NmRk+gqrgnxu/Y6j0MeAe8nlQhby99xnLhUItYtJY+PDyWP6YC0JI9Zstp6uo88WoNFmAgQosYjwe+RvJ+1EGL9sNYQfhAOwyPI+zEo/UZ/E1440oI80gtu7qJ10rvMfQ7tgeht5v5fyaNCEYlo8vgw4WjTfqPmyqEGsZAceSQS0KxrQuEdRRvJnZ/vx6OQxye92pqccyJW/I2TXaKLBB+GTdv+tCS+pbyf0PeAMd+GNwGPSx4Bn9Fj6MxwJwzSGyhMwmYreXx8KHlMByh5fDiiPQV+QBDdhK/QqG+4/xckEbLoQk4IO96UPh900GPYzHCODUc/csa2Q1qQR3DpynU579rfPBedus9V8qhQRMJPHgn1EiVp329ShOCZwgvJa+jRum1XZJ6jH8mRR1JX5i/bKCFj/s48xeakxEY/ieQxOcJHHrc7PYa+jBd8p4dxCtBroeNhsan0uMX2pQScQkaVO95k3p+vdEvz0y9/hP6aNuQRnDxz0XxRv0/4c94u2kBSi9z3KnlMPZQ8pgOUPCYPPH2LLGnD4EWTSP6/ebdx4hXkezAatCJyoJqOv/M3BEPNSTFJnS7jQMib3Kb3QhXR7Jh5zmfPJ+yk04o8cksQXpK2XS6TI6yIkkeFIhLRBTMH7YIOgfAL7XQqNOwnmzE8VV3tBg17EAvJkUfAPC5Tu1d4TrKRJMwZTQaj8aSRR8jeyvXbpOVbNIm8c/e+adhxdPgkGHIS/eF9ctBrthwavu53ijUSe/iwte7KtRvyuveKN5L30SuSNj0ck+iQVuSRz6EIlCiV+yxssQu3K3lMPZQ8pgOUPCaPlT9vl7OoqzUbnKiJK/9P0143uVv3mhCRS4Mx2LB5t31/QuEMRqvPyLkRJNOBzz5x6oKEX8hFlF6M2SqZwl+0Mz9v2hXx3WlFHgFtK7hPch7d5zlR8qhQRCKaPCZVbc28cR590k++W7ohJuF7GHnkPVTguvZaSB5LMKgaPn/xauhVCcBO8PsxdqNK+zReH+/kEVu6ZPVmKSyp1XqYtb1/yu/c3yCVrigGL23rXhMjUoTw4HLoQu5Pm4evnXQCbLFrueMHz5DzwlkbvdQhz8bT2Ju1xQ++Py3II+D5YtdfK+R5Sf2i5DH1UPKYDogmj/nLtDJDJyyQ00xiyZRvVpo/DyYczeQnjzSzHT5xoRk/Y9lDZcW638NNVkEQySNGhUIXPH8sFrk+aW4NwxDTZeB0e99jhTgStuI7qCKfueCnCIIHyH3kdILCn7cRzx5J7+TlUIndrs8kWShoXTTju9WmXd/Jpqj9PS05IKRI9pJeuJrcJz/SkjwCrvPr2T+Ge8o5UfKoUEQipeSRwsA2lsS4hvzYx937jlkbEXpBCA8jj4CDFSbMWiabT882WBJiiR/5e50HTZMKb7pY0MqnY/8pUuX9n/frhqMJOUs1lxxnP+KJPFIoWNuSRu4HcggRq9FyqOkyaLpUlHPcX9gWF2toFq9MSPFxoOE6J2rl/NhuzENrFtfF5r7TgGlyIhi2ePbCtaZDv8lyHrm7bnT4dtGGZrm9Fyqk/UhL8gjI1eT7WQfdZyJKHlMPJY/pgGjyyKQih48ikFhC24fvlm4MvTuSPBIy4DW42h8m9duPiAjjBJE8QtAgy+xWnRH2jBdk0uvLxe/wLuB1TSoshWdv/aZdkr/CtfAeFgBIKc/ihXzV7SJUTf6f3/N3Ql0fVewkuTVuh+1HWpNHAJnvNnhGOG8IUfKoUEQipeSRjeROSxLeDxFDbAdpLNHRmZSQR0C6C7aXue7mqLMj2A9y4/i9syNELbAj+Uq3MhNnLxfvmx/xRB5J5aGzBd7CmLY4dD3YYryOEMVYoG3Pj+t+N2Xq9JRjAj0iHrLFtJPzPUPveivJ6zjwgZByLM9xWpNHxg2pRByq4QgxouQx9VDymA6IJo8PE1z47N4c/OTxUYS2PkEnjwCP3A8rfjUVGvUzbxVtIMbE3QP5LxDL9n0nmxNJVFL6cersRTkdB0ONEXRJ8E64f35fqno3qbQjlyqp6uz0II8AnUBy3ecqeVQoIpFS8giYp5PnrgiTNOb8N4vWR3gfU0oeHWgH1tVu8j6q1FEK8hyZcgKBYpNftk4vCcvutq+PtQGNt5xHCOS39tmVb9g3kS1mE04ov22fSQ+9HkCD70FffWdK1egm0RZHFp1gi0kTKF2rh/Ta9fIsY9vitCaPDut+3Wk+qNA+fJ9KHlMPJY/pAIzbivW/m+5DZ6RIhkyYb3bsORx6tzFUAlIVHOu1yQkJ3xgih8tXbkifMf4GcfrzoNcMO7U4c+6SmTT3R/k8eqOlxDAmB4wNoSEqk1v3niCV07TOIaR8/eat0KseDgwNxpz772/f36H/ZNOq53ip0Ow/5hv5Pb0wH3YaDQ1/qeZ2z5O+l5xq4wd9yNwz4LNpwZMSbN6xP/y5kF13JKJCoTBim9hwMz/6jJzz0KpdNnF4zdycik5vwfZ9NX2x/I3j6Tj3+GHAA7bljwMSGcFutuv7tWlp7UjngVPNsIkLzZJVm2VDntwxfBAY7ALfO3H2Mqn2fRjw3K3asD18L4TJ/cUjsYAXre+oOfJ61orU5sWDv//+P3Pw6Glri9dIEVKrXhMsYfxaCB4EDWdISoEndte+Y2bWwrVyfdhgZ4ux7fOWbDD77bXTbzc5cE1EiNwzmfP92kRjgjFDf2L+znqUkrO1WSsg+G5dZFPhryBXpBxKHhWZDowxpJdKvugw0KOCBQSSSJENJF6hUCgeFZAXQtrYkYcRnScJbKC551t30sYWU7HtbHFSXkZFfELJo0KhUCgUCoUixVDyqFAoFAqFQqFIMZQ8KhQKhUKhUChSDCWPCoVCoVAoFIoUQ8mjQqFQKBQKhSLFUPKoUCgUCoVCoUgxlDwqFAqFQqFQKFIMJY8KhUKhUCgUihRDyaNCoVAoFAqFIsVQ8qhQKBQKhUKhSDGUPCoUCoVCoVAoUgwljwqFQqFQKBSKFEPJo0KhUCgUCoUixVDyqFAoFAqFQqFIMZQ8KhQKhUKhUChSDCWPCoVCoVAoFIoUQ8mjQqFQKBQKhSLFUPKoUCgUCoVCoUgxlDwqFAqFQqFQKFIMJY8KhUKhUCgUihRDyaNCoVAoFAqFIsVQ8qhQKBQKhUKhSDGUPCoUCoVCoVAoUgwljwqFQqFQKBSKFEPJo0KhUCgUCoUixVDyqFAoFAqFQqFIMZQ8KhQKhUKhUChSDCWPCoVCoVAoFIoUQ8ljOuDvv//P/PXX3+bO3Xvm6vVb5tKV6+b8xavmzLnL5uSZi+bYyfPm8PEz5uDR02b/4ZPmwJHT5tCxM+b4qfPmxOkL8rpzF6+Yi5evmSvXbpqbt+6Y+/f/ks9VKBSKrA5nY2/duWtt7E1z0drYcxeumNPnLokNPXrinDlsbSq2dd+hk+bPgyesrT0ldvfYyXNih8+evyx2mfdetXb2zt378rn/939qZ9MTPF6e84O//jK3rf5Y4y7Yte5sSH/oBv2xJh44ckp0h/DvI8fPyjp5SvR3RfTH+nrNrrP37j9Q/WUglDw+BhijDzBgt++aS1dviKFavWG7mTZvlRn01XemU/+ppnm38aZhpzGmbruRpmarYaZqs0GmQqP+5vP6fUyZ2r3MJzW6m09r9jBl6/SS31dpOkheV7ftSFO/wyjTpMtXpk3vr03vEbPNpDk/muU/bTXbdx+WCXbtxi1z9959uQ4HJo7OnYwDxiqWqAFTKB4d0faL/8fGXb95W8jhjj2HzaKVv5lxM5aa7kNmmhY9rH3taO1r2xGmRsshpnLTgdaO9jOf1+tjSlv7im39uFo3kU9q9DBlrJ39on5fU7HxAGuLB5uaLYeaOm2GmwYdRptWPSeKnZ367Sprx3cIYYGc3LDf/eDB36Er8qDzOzainwu2EFLOWnXq7EWzZcd+8/2Pv5oxUxebroOmm+bdx5v67UdZHYww1VtY/TVBf/1NOdFfT1kfnf5knazb23zZoK+pZPVXrbnVXyurP6t7xkDbPpNM/zHfmhnz15ifNv4hmwYcMDhfHjz4K3RFHrguxeNByWMKwA4XYQBiyBiQO/YcMfOX/WIGjP3W1LbGp1jlziZ/mdYmW4mm5j/v1zcv569tXshTw/w7dzXzXK6q5tmcVc0zOaqZf2WrYv71XhXzz/cqm3++W9n8491KIvyb3/P3p7Lz+irmWfu+53JXNc/nqW5ezFfDvFG4nnm3eGOT97NW5sMKHWUCteoxwUz/brX5fddB2XHfuImXkh2Yd806SVIPnp3T/d/WKMozlef6l4yF+w8eyG6XMXHXGkj5aeXevQeiA16DyGfY9/F5/s/UBUih8AiHmyPMmzt37okH6pete83E2ctN615fm3J1+1j72sZkK97U/Pf9BuaVgnXMC3mtfc1VXezkM9ZePp3DZ1ut/MNnXz3xfsffeN1T1tY+k6OyvBd7++/c1eUzXy1Y17z1YSOTvWRz+c5KTQaYbkNmmO+WbjB/7D1iLly8Zm7ba7xv57baWU9/OFGwddhDnCnHTp0363/bZcZOWywEEUdJnk9bmXeLNbHro9VfgdD6iP7ssxf9ZY9eGx+iP/v6Z6zOPf1VFf29mK+mea1QPfNWUU9/hT5vazcVQ02fkXPMguW/mF1/HhVPJVFBsc0h/aktfnQoeUwCTAYMBDsmwhzbdh0y85b8bHrbQVil2SDzzkeNLCmsIYSQQf+0NUIYLwySTAA7yP/3HUsKxYhVkn8/qvC+f4WMIP//z/cqyeczaURCRPM5OwHfKFxfdmdte08yE2ctNxu27BZPqOycQzsvnSCxwWPB+N+zxA+dY/yu37gtz+6o1f3egyfM1p0Hzc+bd5tVP283i1b8JmNh6rcrrXFcYoZPXGgG2B3vwLHzzNAJ880YazCnfLPSzFr4k/nOvm7Zmi3mp1/+MJu27zO79x+TcMyps5esEbshZP+2/T5IJ2MOHamaFE86GOMQDeYZaTp7DhwXbxHRlfZ9J4uX6bVCdS25qCE2zm26E8QjGNE283HFs7mI/Q6+MyTY+edz17B2v7Ep37C/6Txwmpm54Cc7p/cn2Fk7lwnFZoX5yz1iswgXEwWDlK1av008wi17jDdFK3ayJLyOrE1PZasaXhf9+nPrWlqKX3/ynU5/OT39ZS/RVJwueJi/Xfyz2fLHAbHHFy55Hko2A4qUQcljFCBZ5GAQsli8apMZMel7U7fdCPNRpU7mjSL1QgTR7nyyecTOTQaInRg0K7EGdVrJP6yEian9KdfA9YQmJPJi3pp2l9fSfNmgn+k2eIa48Tfv2G+N9CXZcSk8sOPE4JNrc9AuAJBDQmIz7fMaOfkH8TYQSvmsZk9T+PN29pm2sLvZpubNDxua1wvXk+f8dA4MY2UxVJ5UkjHygv3bqwXqiBeaBSdnKbwYrU2Jql0kNNOs2zjTb/Q3QjLZEa+zu/Sde49IPs9lSyrxaiqJVDxpYHPEIk2UhPn29ewf7Yb3awlHYrNeLlDb80CF7evDSYbfK+X92xPvbwm/j3yt/9/Jf76z7WFhnttrfL1wXVPki/amatNBEkInAvTbtn2yMST68CSCCAwpBOTtr9qw3Xw1fYmkDnxWq6fJVaqFeG490pZy/aW3ROuP63vG2m3seNEKHU0Na+N7DZ9tZn+/VtIi2AjgAVckDyWPIbDjOHLirHiIRk9ZZBp0GCWG4b928cet/q9sFcXYMBCdW52B6QxQ9IB18v/eqZhY3vbkf96uECHy+xivj/W50SKkkutigtiJy0+M8MsFatlJ3TxEJKeb+Us3CjEmjycreiK5Z4qY9h0+adZv2mWmzVttelrD0bjTGPF2FLAED4L4nyL1zUv5aslzTCCG/Dvh/yHsbkw48u7pwDNWCe+LFPTyXK5q4ll5t1hjk790a1OqejfJ4WnT62shrst+2mr27D/mGTK7oVEo4h3Xb9ySnDdywiGMn1TvLhsrNlpuYY+2rykRbw4mzD0n/I3Pcb93tjrydd7/87foz01K3GdgZ5nPhE5JU8peopnkVHYaOM0sWLZRIhYQ5SfBzGI3Sdf69fc/zddzfjQtuo83xat0Nm9+0NA8n6eG2DRsY/iZplB/sda76HUxKYl+X6zPjyVuTOB04SdE8hW70WedFK/kyDniOKJAh4KeLLhMpghZnjwSOmGQzPl+nWlkCQQT4i27I/l3biZE1bCR8AyPJ9GDUQZviBD6hfdiGPFSvflhAyEK2Us2M7ntDhsvVMFybUyRL9ubwl+0MwXKtjG5P2lhcn7c3LxX3PNuSe6k3Yk/k7Oq/Z7Y3xF9Lcg/3wsRXTtJHNl5Nmc1MXD5LFHBmzZs4gIhT4QdnnQw+Uk/2PrHAdFzn5FzpSgJLyDP+7VCdcQAPpXdW0TcM3ObAvccZXHD8ITEv2mIHhfOQ+wXPBbe+7zXQDj5Hi+0Ulnydl7MW0vyrYrYMUHyf8f+U8RYr/11p3g0siLhV8Q3IB1L12w2nQZMFQ8VoUM2ZhAObKSbR8yL6HnEfPH/v194H/YVe1qsUmfxXlIIU6v1cNO481jTym7Eug6eYfqO+sb0HjHHfv80KYqhOAYbSPiZ6/nIvjeHtcvP5qwe83ucRF8LDgW3Nsj8tsQJIvKStbPkpVdsNECiC+t+2ympMPEK8k+/WbTetOwxQTa57xVrInbqaWsvsV//DOnNEXT/M0Jiro8hskfk5rXCdc1bRRvada+JeC/zlW4luYofVOhg1+Mu5mP7nSWrdRU9vV++g6ybeKlzfNzMvGPXVHJgiQIxluT7kviuaEFf/Azrz+rSbepZjymoIhVp45a9EpFURCLLkkdClnsPHJeCFyrzKHTxE0YGlHiWQoMreuAxKP/nLW/3I6+1iz8DmAmAxxJDhoHCg9ms61eyU6Nqul2fyZYQTJWcGarNCHcQWu5i/92h3xTTru9kyVvk9c27jRMjSCUhho7Qec5SzSQpmLAJk5Xv///eKh8xSfzXi4F1wv9L/keOakJoISh89sLlvwi5etIA0Tp74bIYPnRQvHIXSbiHREOmMVxhj4cYf+8Z8Vw9sujp3z1T9xp5vX0NJJ2f7nd+cX9zr3OfEakT9+/Q59v3ub9hlBmLLI7s7gt93s6OgX5izGg5Qn6kQhFEsL8hH452K1Qu12gx1NqtFpL/Jik2Ehnx5o2MfeacHfPMDW/+heYRc8DOUTZ2bxSpL7YVG0h1bt9Rc82M71ZLDvLWnQfM7n3Hwq14SP0gjxKvPSlIpKYQar189Yb8jqpf8tjJdaMid5d97+bt+82P636XjVpnSzKrNB0s9pHvxFZ6m0tv8xe2A/ZeZN6Grt3NY/7NPUKOX8rnbdjrtRspKTEXL1+XvMggA7tJ0RKt5CbMXCaEnEIXr+AzQX/++3X37/6NsCb977sV5blRzIIjxFsf2wlph5w16DhaSClrI7mubm1kTewxdKbpPXyO6WfJPxv+nsNmy3rJuslGQNbLPpNMa7shaGrtO1XXRNjYSLChIM2MtfJZSwgZU6yPfiIZfb3ufiDDkn6E/uxaUbBsW9l0EJW8fPWmcAdFFiKPGDTCf3jaqEzG+LC7eD4PIRMv/CgDyDeY/BIeWHYQYgTJd2GXVLJqV2kXQEseBjSDm/wJdrsUUYTFLvos/CkV//sQdrDsnnsMnSVEExLKDrqcJal4LDGu3IvsBO01QkCi7yH699wPyeiEaKlIW772d3Pm/GUx/PHm4eJ62R1SfMJOefP2fWbQV/MkV5HqSQwfRt7pWe5fnon3HLzn4S0KvI7nKB5Ia0Bcwj5eBanqs/pnMcEwvZy/lhhFwh5OXrK/g/TxGpK0MZzP5awunwMhRIScsvj4rsU/9vgb1+Zdl3dt6O8Fq+OCdtxibAmtYOAZ04xtNWqKzALmgvHHWNy++5AZ/vVCIQjMPeaOG9d+8expRTvnvE2tRxRriicJ20wIEW/l5LkrzBq7cEP0sE+QQK/3LXnBaWen+CyK5iCakDwp5Nl/3KywpHLM1EV2Qz9O2sfgVSQqxPzGrmAjXFpTrPtEsCdvF21oarceLtEPol1BK9BgQ8p9b9yyx65B38ra9nL+OrI+xrqnaPE2vVQ915Dnw3PCY0h7uiadxwoxDK+PlgzSVifW2hct2PFYv48l/nUSr3OrnhOkFVPZur0kygcJxj4z1rCnRPQ8iX1PTtBzjo+bmkYdx5j5yzbKJuX23XuSA5pV8cSTRwwCZIiGooRpyWdg8RUPo5AJj0w575BfPHJR2ZsMlmDl+ayl+dhOhpqthkj7CMr/IXixBnFGCf0kmYTt+k6S3S1eVHZ25BJ5yedV7e4v8r78Ih4Aa/ggRm8XbSSeUjx1NC9nxx70FhTolz5iJ09fNBs27xYjX6v1MPEkQ9giyLLvp9swoF920hh3ngFk78V8tcxrdtHjebCIfVSxk/m8fl8JdWM82vSaKIsau+GhExZIjiw79Amzlplx05fK7zBgFNy07zdZPMj124+UMDTjp/DnbeX62BnjBeU7uVY3JiMJLLmU3kIr1x76OwsW4XbyNDHGVHQfskSSXFatGFRkFFg7IXEUnf28abdEcuj6wIaJseuff9749UTGsN0g0cqMNCE8ikRqmDMzvlsjc5miGmw34zktSeKjgu+GGEMq91vSt2bjDil0w+bi6WI9oY2aV1ns5T77N4JO+D025s0PGkgUYeTk76Xa98rVm5l6f6I/uz5yX10HT5f1QzytMfTnxHnxsJ+8lrAzHlZ6aeJMwVOHLhkPrFGx1q6MFNZp7CTeTdLTeP4flu8oKRSEqSGHjEu/ZzJaeB7oj04rVawtx0uN15pxkdljNDPwRJNHejidPnvJrFy/TYgeCdp4ihgEQhztgIie5LjaGUS4uiGMhcq1FQPRsONo08ESgd52APonQyyvIn9PT/F/l/NMDgz9Hhc/nkkmL01z6T9JqMDlhEgowXe/GAeeBX/jvjGAJA4TGiLktPfAiXCFdpDmBhOVikYWmEWrfhOjUMLulCFUzpvIPbn74l6FlCH2fhkDLF4YA95D7iP5PIQ+WltySCsHWu4QaqIqlP5ukDNCYhhaTqWgBRLX4CfY/JsFDxLHqRXke+EJJYRHoRIJ58t+2iKLz+Bx30magqQl2DFGugOElb6e3vWFFiKnH3sPMm6t4KnxiH8lWajJESJ0Q3sg2p4QdlIo0gvMP7wuhIEJHePlIT+N9iyMTTfn/OLfENHnr0DZ1mJn6OX4y5a9cnrIpcvXQ4QxmAuxI5JsWM/Ze8cb+uPa32XDCGnKX6aVpMR4difB9jhhPiNs/lhfStfqKa2+sC/kRWYUAZH7sOsjtoyNJyFgPHPkojq7Q/jWf+2IkEa7hnD9kvpk38OmmIprQs1smh/mUYy1pqW1xPpevxB57DFslqwbbOzRQ65SzSRihO7+950Kie4dXTr9sdFn00NDcxwHu/cflzZvGaS+QOCJJY8octO2feImL24JFAMdoiDkwYqb2G5ye6Sqonidcn3SXMITGDYKFnCxM+D8gzKjCWNS4r+GaC8oLvzudvdH/iSNbtlR4u3CuPtJJM/C/Ztnw+RgNwmh4hlwIgC5Qxll2B4GjB7FI4RtmfwflO8gHjyMHoTKyzf07snpmYULbyP35u0eG5uSVbuIl7KPNXizF64VzwnhJDYc5y9ek6psV+nMYubkUSELbei9bvFhoSD8xn3wnfQRXbp6sxk7fYnkANEeiKpvSL9nyBNEyGPIcyoGTYy91x6IUBFN62k3xOcGRWeKJweMKY5LJc+wp12A2fQw9lwBTIJdceLZXEgVxWCcHgLJIMeQTRW2mhNcUju/MgtuXku/SrtZZHO5ZM1miTZApPFoiU2y9++eScKz8Z4JJOR1+zpOvSE8z+Y0vXMiuW5ZH7fvk8rwAmXaWP15BYNck1sPnP4Srrui6JlClU+tfeL0s252fWWdceth9LroJNbalVESfS3icMHp43P84FzCOVS95RDzviXE//2ggRe1C9975LNw+hNPsiWRlZoMNDMXrJF2eFklfeiJJI+cdYoHhq72nEQg+Q0oO6Rwp3x+spOi7B9yyYRn4YWQ4OJmBxUUkvio4r9m7oMQa/ehM2TCs8ui8ptnEe2JRNhx8jcMn+TYlWsrk4tmuJkJlhW8eXjumnQZK2ESEtJduNcRq8T34pFH8hHL1uktuv0m1CCW82/J8yFXkgXRkS1+un+nB/ho9x0sQA8sSeWUGpomQyghk/OXb5TcMY6qzFGyuTXuofu0uvHu1btHZ8j4HTrDe0xuD0dd0pqJExUUirQAGzcaKi9auUlaSzH/JD/XjsVIopEwNrEhtKMiGkJjbbxsbEYdSUrvuZbe8K7f+wlxcC1tOF2lVuvhkpNOJCv62bjn49JmmLNs9PHkXrEby/R4JFwf3uJZVg/YQpwlsjn1pcZEC+snp8IUq9xJcuNZH9lwD/zKWw/9a2T0OhR08a+T/D+EsvvQmaapXSdJAWMz7rVsi/1ssLlOf4TAeTbkjN6M4+r6lOKJIo8swBQQ9Bs1V7xmKJQJ4Ve8myAuX+OVgrUl34bBwm7YP5j8gypehet3k1v+3054PKlUdBOOZ4eF8Y+V68Gz8oyb18esQqMBUpmNxyyjjT2hLBq4Empgp0xbDSFSVjwde9fvT0PAG0dIl7A9Z6fSBJYKewgo3gLuwXkDuZ0MvqUIeNeQcAH8i0bh5J3ijSBfl00AhNkz+AlJ7IzjaMMv5N+STeYBY5sz1yGmGa03xZMD560iL45xyKkdscYewu8ofsErSaEEhCi6GO9JHorkwFEQQygeok1YlwJL1iSZn2K3Ij18/D/PjKNnh4yfbw4cPpWmnljSbIiuQHDIuZZNdxL6Yz1woVnyGEmJgVRhg7y15claI6PvhTUThwu57TUtYaa1Hl5XnlX0Wim6k5+0jqol53F/PXu5tdsXnmh7+0SQR4iAtIX4ZqUMdE/JnjcGxTJRExRdWYwek4L+UUwKPFHRA8hJ9ECLV5H7cT9DQrjBa0sxSPIcKQyKnhyQMnmGVEVaw4fR6dB/iiwiXo5OSAnpACaetIw4clp28RhVrjHWLlkmsBWvPUYtaQ1CAj7HZVH9ifctraszMxIsIjxvPKXzFm8QQsjpCFTZc7av1z7DN87Dz4VjM6tZAt1UNgwcAccJNmm5KCmebLAppw0OXnByqJ19dWPNCeMPG0F7E+wwBIgTV5h7WSWUFw1mGakveCMh0OQ4e10+3EksVRLl3fMc2SCyuSedhtZCj/P8IOwcH0jxCik+FOhFf6cTbCiRC+w8ofRWPSZkifURiXV/SP/R30pOL5XyPD9y5HG4xHp+CBv71wvXF9LJ6WHnLlwRj/2Thrgnj3hTCGNSCUtbiFjKFLGTgpwbct0+r9dXTvKguCTWYIk1sJ4UiXW/CN4E+m7hUSDM5CdnflKC4NGiYSvn0BJiTcscHcftMLgUw1D5TVIyns9owoi4fECq5WjxQSiG+1n58zaZtE9i5THED+/pNkuKJ3+zQkJJ5CG5CldZxMmJjHpW/H+uT1rYHfVsOb0mvcm/Iv6B94yCkM/r9gkX3TGO3GaNccXvGHekhXxWq6cZbzdseMv1KNRIsHF1hxVQsAERx64JgQyRcb+NoyiFfDpSdDZs3mM47cT7HPmRIly2xH3uonWmVLVuIcIa29OIPGtJIx1F2HR3GTg92cKXWGvLkySx7hlvJNFJNu4UZ7Jx99bGGJ5IK+RDkh4G1+B44CftyMq4Jo/k3rAzw4NI7z2/Av2CIklepoVEs67jnsjw9KNIrHtH8ETSdLVS44HhPJ1YOZEIiwXnNdPQ9fedB2V3+7jAKEKMCK9gLAkZ0AZDqhd9ng4WL/4fDyTGkJ5i9LvkHHI8ooTVn8SdXizcsgsKFZ8cs0h1vbQosnPBkUi/zpgHeJApmqLCmyPUZFf8V9ZrM6FIHmzeSP6nKwDhVsaSm4P89MaXV6yFp5GqW/Kid+07KrnDithwNo5oGY3J21p7ix1l4+fsmd+ry+aYU0/oFPLd0g3S1ofiouTAd/D5J89cNIPHzw+THD43mjjy/5zFjw0tW6eXdOqItUZEryFZTfzPgi4Z/e1a2bjTWKkHeD6vFw1zz1TmSig6xiYeTy/rEwVibMaeFC98XJJHJsfh42fFc8hRRpCL6DAKiiP8ikeKpFeqaqm89u+mYg2SrCrumbC7osE5eTHl6vaRgqNoAumeNQvHq4XqmMpNB0kjXULMj0NCeC9k5uvZP5pS1ljiyWD37U3GBP26/yeETb7q0IkLhMBSKBX00xvSA45w0wpoxvw1UvT1eqF6nlfWSrRXg9/hhchfpo3kMVHA8KTtihWpA9OXPFuIDSd8UATgCtLc/JNF0ZIc7C75xzSsZ2G8dMXLhdaNSPLg8SCQCNp4UURE8dHbHzUyz9r1yk9E2Cgzj6mE5ki+UZN/kFxI1wUiGnwuZ4hv2LJH2u8QjYm1kUSw3xBLPKA08Ranil0L/DnyKpHi1kjX2YR8XnpGklvOehT9jJkrzB3mywflO5qp366UFLuk9BdPiDvyCEEhXMeJLq/I6QWROzUnTEA8LIQxmUSONOrESFp4LuFn9JWXMFyr1TCTrXgTMUDu2fqfN0ZJdsY1u0uIOTUtfXg5k4liFjyZVB3yfRJ6ZfJZXTrjh8EjrF7I7vi6DJpmOPOZ73Q5fI/41U8M3KJNqJAcUQg4OUuEGv268+uNZ0nYjKMvaXtEGFuRtYFnhBM0yIOmD2Fs4lhJxg2E59vFP0uImuIuxaPB2SrmHTmJo6b8IE3/ObkqmkB6drCyhEGpWifCgncxGkRdKAwkX9K1CopeH3GqQPyxoeTxkc/nyJCujykTt1Yi9H4mN5TuLm9+2CC8VvkF/aELvPh4d+mmEUt/8YS4Io/kN7LI0ZRUckVCruFoRRFuLVDGO0+U3ZTsFHzKjjUYVBLEPSeeGd5dzg6ljRHHOsWaGBg6CCReYPKdzl+6GiZzDwOEh/w9PBfkreJt9Eij3RREfQ8LGeF0COa633ZJ2gLJ/N7nyI8sD0ciyY+iWTjNi12hUfQiIguS/R0LCeEXmsLT/DylulM8Wbhw+ZoUxeBNxDONxyvavjKGCLNiFwhR37yVcY2tn2SQmw3x+2Xr3pDHsH7iZ28F+0sjdsghVdyuJQxz9siJc9JCh0ibV1iYWH/k51EbwMYSrxm5l87eO4m1JqhESvQzg3zTCaRx5zHSYYB8x1hV2axtbMqoL1ixfpt0MIhXxA15ZGJ9NX2JLHIQFf/OzAmelLeKNjJfNuwn+XJUSflJIxJrIKgkFv8zGzBmnjQD5uhCzop+Lnfi/FIMFaEVjt4ib5JQ6MNc85xQQdhmzNTF0piVXL1YBo8Fi7wqvCE0LL9gyWlWrd5MKVhMELyyeGdJ2s5RspkQcP+zRXjmCB5miDlekCchrKJIGZhLEI/m3b4Kbcoj00TcGKHKmvOm6WHI5kQ3GWkPdIH394cVv0mYmrSrWCSSM6Q5jYrNIWdwY2+xj7T6gaD4vcVOmPv5yrSWE7Sii0VjrQEqKRP/c4REUp1e0c4TPMiJybtHItEF+emT5qwQ50k8bsACTx55qHiYOMKJg+XFsNmJgQL8ioF4FCzXWirTdDeVNhL9DCHiVOGVrdtbPIT+CeEEUk+olJAWvQmTqrjESJKjhyGjQXssY8eZ2ySSQ1jpK8YJDs7TqEg58GrgVaIrQY0WQ8TzQOjRIwmR84jFp0LD/vJa6QsZ+gzFkwkK3cgXxmMSK7LA2MAzTVSBRZHirCexg0HQADHftuugRM84S5ncb3/kAL2gK3LS0R2exGdzRqYYOPmnJZOcvc3hEDhVXIjaL7Hsv0rKJfp5UlDDkcbOC5w46uPxGGzxUMttTtsNQLxtxgJNHjFSJJcSen73o8ayo/IefOTkYEfMucQUeejESFuJfpYIiwhud3pZ4Zr3F9QwIdCTy4la+8sfQiD9OysWrI1b9ko+JQsW70OnTq/8hNjQpgJv56oN2wN1PGK8gry0P+3ij9dBqulzVJPnLAtRyJjxb/qg4gmeOGu5bNz0uT+ZYB4SJuVsX0KhfuLozUE2EzVMyapdzbR5q6SYTcdCxoGOERwxSn9Gjpalo4h3ko+nJ5m373nnTHu5/wlrIoJtxsNFG6+aLYeankNnJbLlsWy+SurF/2yps6C3bqka3ST/NBaBJA+SQyzwIJM7HE8EMrDkkbDZvsMn5Ug9TkGRxc0aMwxcwuSpLErhGCHO2NQQdfqLe7ZUZHNsHq53f0GG0w16wgNJj8afhEDel4kBCSRvlUpuvMXO4PHTE5paVzEFy7UxI77+Xk4M0hB12oKmzbS4on2EOzsbHXpzy9MDLUPQ7bCJCyS1QEnDkwWIIx0SKjcZKBs4Nw8T5rHX3oyCiuVrt0onA0XGA9t36sxFM/eHdRIRIGUrVhFMtLiiGJpaN+s2ToofdW3MGPE/Z5xZFMhUaTZIekxH60nWO0vws5dsZvqOnCPOsnhBIMkj7VYIj/DQqS57Oru3qHlekgRyAqmsapVCPp5fYUgspao8vrjnK8U0o7+Rs1gxUISXIyaF6MjzXBBS4bxPTlmgkpPjm+h9FenpwGPpHTTP581e+JOc76p5VWkPiCAVnqQV0NYHr5Mjj54uPN2RQwyBpIgCD6TiyQAnLS1ds1k8ipCRWMSRVBJCnDv3HpGkft08ZB6wgaSQ7Nh9WM7KhmxgK/068wvEkVApfY0piiGEqmtjxkt4rbQEkh6ojTuPNdk/bhajkAbHmMdnaHuFwyQe5lvgyCMTBVc9uXCUveOOZ6J4xNF72Pwuz6ctJKcApejEyFjxP28mRvt+k+UEgxfz1kpUIY3eMGSla/eS8AsLFudS+xcs/g15IdTNZsA1U1WkLyARnDRDGgItJCDu0brzdsVNJaxy9vxlJRFxDjyOS1ZvMkUrdgr1UE3QN8IiRm55z2GzxQtCjrHqPPPBuoj8vuug9MBNjjw+bedxsUqdLfmfluiUmFj2XCX9JLxOWqGAt2WPCXLKFxtzv85YA8lD51hKNvQ79hwOfMQtUOSR6luOpGvebZx5uYBX9ceDxaA5jyP5WIW/aCvtY6LzG2MpTyV9xP/c0QPHG9Is9aV8tSMmBYIen8lpyWGBWhJKIQXB/Y1JQ5iaJqu0OqC9TLz3v4onsCDhEea0GYg9C0+07iD2VNF3sJuEvQdOaNFSnMILVW8zxSp38fLkSAPyzUUqeGkcz3nw5y5eVdIYMKA/eulyTr1/jkYL6yX2lMbfRIf8tjqWLVdJX/E/fwgkfTq9aF1kU3EhkKFoHYea7LYbezhRUBEo8ijEsfv4UB6Wl9fhJ44QD/oN0gdL8xuDIX4dEB7hXFQGf/SpNCR2h3NWQ79jslAhWNwuZjMXrNHijEwEhJAWLOTmSMskqxunI35i1ChM4xxtqnM1DzW+APFY9fN2aUKNN5l56OambO7spoHzehcu/0WbxQcQpA4sWb1ZGnu79TA5wbNFq582vScmstPRNlwlY8Q9f5wtbMQ/qdFNPI3RumND91LeWkIyKaIJ6pIYCPIIYaCSj+R8jlPCsCUk8FeWHAF2yh9W6CB5OP6JgMRSlErGiV8XVPLSC45WPo54+IXfhb3IOapI+Oz7Fb/pghUA0N2AcAkbAE7xYf65sKanN6+VT8OOY6QXpBLI+ACefPJbvXYu9MhN2NihUzkhyi5ki1dvkv6NimAB4khxkxB/azOd7hDWRif+3yOsoayZHMsbbaejbbhK+ov/+eP84mQf5iQFa05/YmftTwjkG4Xri+cYbhREZDp5hDiev3jVTJi13OQv0zpEGnmIHsHgoRJKK/xFO9Ou76QIBSCxlKSSsRKtE3LoyjfoF3NX5ZdCn7c185ZuUOIYIOCB3LrzoOQTUzQRq+EwqQnNu48zR0+cDb1LEVRQfIinmLZYRAScRxnBzkImP6vV0yxds0XOtFbPf7Bw795987Ml/mzIRX+hzZwTyAbnU7+UhK0lzatk1W5CIP02OpYdV0l/8esAoQ3hF/X7SFQHfblNuvfvyubtjxpLvrkXlQsNioAg08kjVWScj/pRxU6GbvruAfIT4kg45f0vO8gJGZrjGFxxOmFHRVsI+kAm1UicSYGOy9TpbQ4cOR0aCYqgAAK5888jUknvzsd1BBK9EeZkwRoy/jshHIpgAiLI/GrebXzMPo7YVlJGaJ1FgZoSx2BBiL80Ch8hxYR+/SH8Pz0CaSRegXzzUM/caKETBgWLcoZ1yE7r+pm54l8vIfaf1ughm4No3bF5p43P2OlLApfWlankkUWKPBxybRxx9AseR5oV02hTiWNwxa8XEoJp7M2OKdrYRQsLWvchM8zFy9dDI0IRFNBnlROA2vaZZImi54FEZxLKtkQSQklS/viZy+wG8FboXYoggXAX+eFyolDUXHwqu5fjqMQxmEAftGyhgXss4khOY/YSzSSFhFShHkNnmbJ1e3n55jFC2HwGfV27KYEMjDgdoA+OhaW1knf0rz+txOt4wXnzk+b8KO3rgoJMJY94N2JVeCJP5agioWr6HilxDLb4dUOlPOHO/w15j6PF8zp6hpAQDEdvcZKJtuYJHshpPHnmouk1YrZ5pQALmKczvFbk5TydnV1xU0sgl0oEQREckCdHDjme42jiyP9T7bl41WYppFEED5ctSeDENLyGbsPm9Mf/ZyveVFJL/NXUHJRRpnZsAsl8ZSwQEdL2dsERvx4gkEQCSDWIJJDY2spyyhBFU0HpRpIp5JFdFS5YEvM5ySLWripXqeZCRPx9qmI9fJXMFacbCD79Hqnw+39vV5AB79ephDutXv2/Q57OUVkq6Feu32bu3tWFLGiglQ8erMadxkhrCVnIrLAYeUatiuSufrd0g24AAgKOA0UfOT5uGkE60BfkP3vJJtKEH4KpCBZwAJMDPmHmMmlXh/7Ccy5kU//zfgNTt+0I03dU5KkxCCHQz2r2kI4JTu9+/b9dtJFp1vWrCIdMLLuuknHi11+XQdPMR5U6ibcxWn9EezhNT1r4WLuc2cGCDCeP3DCu1/EzltqdkJcT5yYFwo6JTuuEPv2d8WM9dJXMFacbIY52lyyDPoYXGfnP+/WEWEY3okb3L+araRp2GC2nWZDKoAgWqMJGN7VaDzcvWV25+cpPxF90oYQkc3Hv3gPzy5a9pkydXtIGKzJXtYrkqg4Y802gwl8KD6yNHONKKheeYTbb6M/NM9ZGihApnukbddygXzr1n2o+rNDR6j+SQHreyIom72ctxcvlf08s+66SMRKtB9bSAmXbCFn0648xQGcEOs4wfzM71STDySOtIFhkPq5GnmMkkWBwU3VUqclAyePQgR1c8Q94drulLXlwFWPR8krBOqZ6yyGSuC8V9VG7KsJonPvJZ1F5z65KESxA6jdv32+qNB1kno3h1cArybyVFj6WbCoyHpB88uTa9ZkkIUoX0XHEkdxHFqZjJ89l+sKjSAzmzZ79x02jjmOk17Hfa4ywMWeTFn0cb7RNZjPPCW2FyrVN5MGi/+4/s1WWz9HwdXDErwf0R7Fizo+bJRoDbCjeLdbEzFzwU6Z3KclQ8kgOFX3k6rcf5eVQ+R4MxJFYf+naPSX51/8wYz1slcwTv27IuSGEQn9OFin/QEen5N+Uq9tHWhIQZsGjTIWgW9i8cIzXpDhf6dbm+x9/1TysgOLOnXtm+U9b5Xg0CtxcKI15zL9fzl9L2jThPVFkLOCCpAKNnrpICpn8KSIQR/pzUpW7e98xJfcBBPo7c+6y2FM20okKnKw+i3zR3nQekLzH0P2eqF2zruMkTO15HBM+CyEvHbvdzxf6jv4slYwVpwenvzpthkvHEr/+sLfYXmpFVqzfJq2cMgsZRh7Z6Z46e8l0HzrT/Of9+rLYuGa1PBzOq8ZV32XQdMMZyP4HGetBq2SeOL2wQ2rVY4LJYRcrRwb9gjeqVPVuolP3HsgF3isqrXmNkA8KMSwBwSPJpNi++1Cgj2XKymC3S9K2tNbKWTV8WhD6Z4F7p1hjM/eHdeKpVO9WxoEk+h9W/GoKlm1rFxerF9/GnGMHaTC9/rddEtZWBA/Mqxnz15jcn7QQb6F/I44uc5RsZlp0nyA219lSJDn7DAGp2nywjIfEJ35VNjlLNRcP14AxyX+eSsaJ0wPCWokzTfQXRSA5xIEzsHdm4mENGUYeyYWaYxcVdsUsMv7JwUCGgFAg468ei/VwVTJXnG5oLwAppFgCHUbvbvEiF6vcOVFuDYJnmbYE0fmRjAM8JpzrGdSu+lkdEEJ3xi6LT3ReDjqkS8KGzbul3Y8iY3DgyCnxCMvRgz7i+M/3qpj8pVuLviAoSuiDBxb/dZbY4zzx1sYE/bFOcq58vbYjJXLjJ4+x7DPi/s5rifjQQxBvVSIbbX9HnnqXgQmb+1ifp5Kx4tcfvTmLVeosJ+xFEsjK5r/vcwLNXFkrM2NWZwh5xGDBkD+p0V3c8ZGTw2s4TOU1A10HcXDF6QZBV/QNk0EdY1eby+6gvV1t5E7ZCXlZVNT/77uJ30u+1tezf9Tii4CC+Xzl2g2JIrgKbL/+ns9TXdqIkH+n+avpj+s3b0sSvXjx/bbVypsfNDTDJiwwl65oL9Wg4sTpC7Jh5vQf/wlACKkgFRv1Fy+U337Gss9+8b+WnPQPyneMWcHLyTScZ99XawwCJX5d0Ks1f5k2EakoMtetrc1XppX5YcVvmRK+zhDyyEJDc1IXThEJPQQWH1oLwLDdA9MBHExxuoEQNugw2rxWuG4i4oiQT4NL3V/0FEvkCLwi9WLsiKsKMd2265AUASiCBwgkLSOkgIaqXvo/hvRH+y3yWod/vVAKoNTblX4gPWDZmi0me4mmYlfdHGJxwbNft91I8UqqDoIJvPhTvllh3rA2E+Loj8iRxoPXiY2B327Gss2xxL2egxuadPlKont+AuLGCSHxlj0maPPwgEmC/r6ROpG3P2oUsTlE2BDUbDXUHDl+NsPneIaQx2U/bZEkYNcbzk0QfuYr3UoqAFPijlfJPHG6QTr2n2oKlmsb4XFCIIHP5qom51ontVP2/44UhQoN+0uI208gmSAQUMinko/gAuKyZuMOU7Rix4gEf/KXMWosfOyK1YOcfmDRqNN2hN1wVbP2NJI8UoBGniPH3CmCib0HjpuydXqLLfWTRzbl5A+3jTokw2+TUyLufUSKiO69XqheeJPnhOgRaUT+Ku5Yn6WS8eL0wXpa3q6VtGry6w7hd2OmLsrwfOZ0J4+nz10S4xadG4XgdaT5sCbsBl+cfsi78Q7pT9yWB4NHK54e1gglt4t1v0e6DJxmCpVrEyaiEEeMGxWiJap0MT/98ocUAyh/DCY4CWPU5B+kN6sbB+4ow+dD85vwtW4A0hY8T8LVX89eLl5eP3FkDkEIRnz9faa381DEBvq7ev2WGTJ+vqTpeHrzdMe/8RrXbDksUdpPtC19mPjf23XQdOn/GB2+xm5zLjZ5lerECZb49YcHmvU12mmD8PutOw9maJpQupJHTjqY8/3aUGuWyJulWSmVuNrPMfji9APJJ48xerFyAoGg6Mm9Pjmdur8TUuHgfyrwo3fEENQ2vb42p89eUvIYULAIkrPVrs9k80qBWmHPiRPOxZ767UqxBYq0A17fzTv2my8b9JO0Afe8IR80ba/Zapg5fup86NWKoIEimfWbdpmilsw9lT3SljKHPizfMaIGIDlbmhJxn4H9xk5Hr8d8J3l1/gLHWJ+jkjmCPnDIkOpFnqrrVIPwb5qHd+g/xWseHhpj6Y10I49UWmLcKjcZaAip+Acq8m6xxpII6gaqDtbgitNP9yEzTImqXWKeIkMDYsIiKd0MuNcg3eznlqrRLeJILYyZNA+344QWFlopGlyQl7plxwFTsfEA82+rQ3TnPCjI+1+2l/Cc5q+mDZgHnDmOJ+Ll/LV9c8ZLF+B5Lw3QGbiKSKC/oyfOmcadxyQ6RhAd0psxpZvwlIr7HPLniBzFavTPpuPLBn29qu40+l6VtBGnP04WovA42vtItIecVroqcBBLRiBdyCOuU3LVcMm/81GjcBjLyYt5vSOW8Dq5h6IDNZjidIOu6rYdad4o4oVY/OJaPjzqrtX/2TS0zVaimRhP97mQx6dzVDHlG/Yz23cf1tytAIO8RgyX9Pz06RAiScoKC9L1G7dDr1Y8Du4/eGCWrtksR5j5c01ZUDj3uM+IOdJwWjdbwQRe+Onfrbb2jiKnBDuKcKhC2bq9Hrm6+mHi/yxyGwuUaR3xvQjXwjW17TMp4vWxPk8lY8WvD2pEcL5F64+xQ2HNvkMnM6T3Y7qQR7yOG7fsMWVqc75qtYhwJNVehT9vJ15Hza8ItvgHbMf+U0xBX26iX978sKGcHOO8jrE+Kylxn0+IhkIbJoD7XMYN38dmg+IaJR/Bxpnzl6WqE++X2wTwEzJJ8+PVG7aHXql4HJBHTnWs1yYpYa7gxfq8Xh+zcfMe9ToGGPvt4k6Uhk23vzUPti7Pp63kaMH+abw2us9C8Cpirym0iO508Vzu6qZCo/6aThYw8esP3VRvPljWRb/uSH/I+2lL6aedEUWKaU4e2e1eu35L2nSQ7xRNNkgOrtFyqLhf1TUeXIkerORWRVdF82/a6nxSo0fEkZKxPi8p8X8PBBWSQT6s+w4JgdoxxNFcf+w5ot6UAIOw9Ip1v4v3y+8Rg0CyUDbuNFZOmVIdph7kOi5etcm8G8ojd54rojvkIo+dtthcuXYz9GpF0EBIkRxg+m/69Ye8lL+2tL7qY9fG1NjSh4n7TNZdihopnqGwyn0/wlzFBuPc8b8n+rNUMl6cLhAO6CjyZXs5pzxBd5w8U8M07jzWHM2A8+vThTyS3wTZ8DwQCQOTgVq04qOHN1UyXvwDtW3vSbJY/c/bFcK6RCCPbxVtKEnY/tfH+rzkhPfIRuKredIs94W8kfk4tH6hGnDCrGXmvnpUAg16utJehLkOgXQeSCIOLErzlmzQs8sfAxcvX5cUD56nSw8gYR5bSyrQHs0tDSxYGw8cOS1nFrPpjvY6Fv68bURPx1i28nHFfTapQngfKVR01+CE6A+1CppWFjxxuiANqHabYeFKfYToAylCtOhatHJTup/wlebk8catO2bkpO/tYl8zYnIgDFSaS2u4Ovji9NNn5BxTpnbPmK2WXshb01RuOlAGsnt9anXK+yCQjA3yJ//hqwbEsD5tyQg9IdlRKYILziTfte+o9I1jzDiCwybyxXw1ZcH68+CJTDuPNZ4B+Vi5fpt4GNlQJXgdvb6oFJbhmVQEE5LrOG+VyVa8aYT+kFcK1pGWdoSr0zsi5+w0B3fQDi1WASS5y5r7GExBF4wR+i1zpKW/9RKbdVIFqco+ls5rZZqSR4zbrj+PineRBd+fOM9OuXjlztqINE7E6ahVzwnm3WJNwnpM0GdlCXugTyF9j6lT3us+o2mXr4RouNNr2FERluM6KMq4c1c9V0EFxXJUxk/+ZqXo66lsHnHEqLEByPtZSykWuH7jVugdipSCnprMx2c40cdnW3m2NBC+ePla6JWKIOLw8bOmWvPBXh2AT3+slTTaJ+87vYmjE74DzyIkw9+j1QnXWK5un4h2QbE+RyVzxNPfN+LFfq1QvbDesLX/sjb3P0Xqm5kL1qRrlCdNySMX+tX0JZK4zWKfMEEqmpcL1DYNO4wOD0QdjMEVpx+KVL6o3zdROwnC1bjLIXm8Pq0MHp+B57HH0JnS9NR9H+MIA/vv3NUln+PICY5iCg06ReCAV3HvwROmbtsRojPPoFURTyQ9ypp0GSvhu/TOyXmSACnfsHmPFBtGe61eyFvLfLv459ArFUEEc2Lhj796R8xZW+Z0h7A20rYHG5iR5BHhfHqcOtGRJWw8ldete04MvzbW56hkjjidkPtYKOq0NyK+8K+qzQZLD970QpqSR3pXUWHtJQL7Joi9GW7Q334g1gNRCYY4HXXqP9XkkgKWSKPCwoXXsdeI2WFjlxY65TP4PEhr9RaDJfeG73PfjYHDc8WRd5r7GFzACamMx8OYk/N0Q1EIDBwhFoqflq7ZohXBjwCKEJkXL+YlHSiBPGJnsblnz18JvVIRRFDERG44myj/2ogei3zRTtKD0sqOplTc9+F9JO3Bb2uRf+eqIZXXLi0p1meoZI443SEcCOA/8Y0xBQcjTfD7H39JtxShNCOPeBHmLlpv/stJISHD5uTZnNVlgPpvOvphqGS++AckgucIT5FflwgLWO02w9Mld9V9Xvt+U0yuUi0ixhJGF0JJJSCd9BXBBfZg559HJUyH59q1lIFAMn56Dp9lLl25Hnq14mGgd1vZur3F6+ifD68WrGPGz1ymJ/gEHMwFChkinCpWsGe1W1tbmsZ2NCXibC1OnY8qdY6o3EW41gJlW8sRsu61sT5HJXPE6YROJ3k+bSlOugTd0X+5qmnXZ5IcY5oeSDPyeO7CFdlZeQf04zr1BiK7mXylW0njWh2AwRanHzcgP6rYKWKxQlj881sjmJ5VgXwmuTaf1+sr5yN73xvKf7TjCkO3afu+0MhTBBXXbtwyo6b8IH1A3SYA/eFBJtF76x8HNHSdAtAcf87368w7H0U2BmZukpe2Y89hCWsrgoux05ZIgaFff0jez1qZLoMyj5y57yUdyF+56wSPZKNOY8KOglifoZI54nSHsAFJdFqRlRJVupqde4+ERmHaIk3IIwvAhi17vEKZqJ0VN1S9xVA7+BJuNNaDUAmGOB3Rqf7VGMaExrLkUqRnE1k+E2PV0m5GcpRsGvZaOXmlQB0xxundikDxeMAu/L7roCldu5eE6/w65P/b95ucbrviJwm05+G4Ojbm7vlBwglLDR0/X/s6BhzojwMQ/hl10hpFKRUbZ25Dbve9eB9JRfqHL3cOYZ6WqdMz3XpPqjyeOH10HzJTWqG5IlMnkP/p81anS4pQmpDHG3YBGDdjqTQH9l84kr1kMz3DOk7E6YcKagxJ9IKP9wj3ePu+CS0cYn3O44r7bLyPpWv1lOpSvtsdc8kGBQJ76Ojp0AhUBBUU0Y2c9INsOpz30Qn2Yve+Y6FXKmIBx+yajTtMoXLtIp4fcxPv7cr123UTFWCwgZq/dKN0HogOWdMonJOC0tOWPkzcdyPkznFqkf8akRx2DacwIzNC6yrJi9MdzhaKW/2FM9gLNiiNO42RnOi0jk48Nnlkchw7eV7c3gw8/wRh0ecQby2UiQ9xOqIaFq9GdAL1s7k4OL9fuqcguM9mQtRvP9K8VriuTAQ3MRhjnIO9dPVmbYgcB+DQAPK90B96dCSITcDoKYvEhihi4+atO2bI+PlCvv8V8sAz/smVo0L30LEz+vwCjKvXbspxg+T9u1OXPFtWSSJ1VDunpy1NibjvJz8uOjWCNeD5vDW0ZiGg4vSB0P2EtdLpDvv6VPZK5n27ydyyY78UzqSlqXhs8khT2rW/7pQ8NH9TYIQcCoouqBLUARd8QUdU1pFHFX1sFe5wmhO37vV1eLDG+oy0Evf5Xe2Ol7ygMOEQAlJZjkrE8F6+cl0Xz4Dj3r37oisqrb1TZxLGFZsRDbvGBuOahuqVmgwUT6OzrRAPTnYaN32JRH0UwQT6Y9EuUbVrxLjHlkL+qzUfEl4b09ueJifu+4n0SOFMiOQ6oW9gqerd5bXqfQyeOP3hHc5flqIsn+6sLt8oXF+K6ogCpeVa+VjkkQvhRBnOU8UF779oFnhi8G16f60DLg7EDUCOjsxfpk0iryMGpaQ1ghlV+OQ+n3ygsnV6GyrHvHHldu6Vzac1e5g9+48reYwD/PL7n+aNIvVlg+mPTuQq1dxs3LIn9CqFHxj7+cs2Sruj6AUBrxXPTU/qCS5u37lnpnyz0rz9UeOw/ryfFUz2kk1lbXS2NL3taXLivp9IT81WQ2P29cVxwEae17OeR3+GSuaJ0x/tnghdP+vTH6le6JOT/U6dvSih67RaLh+LPHIhNGyu32GUNAN2OWkIsXby1XoO05B10MXpB+NBeAKPsZ888u9XCtSW47N4TUbo030H51036/qVeb2Iv4u+V7GLQZu3+GftFxgHOH/xqqnSdKDVm9fvET3iQaPVzJipi9P1JIR4Bc+MzdwLeWuI59HbNFWS9CBOmjl3UXs7BhUs0MdPnZcOJFRZJ+SPcw55Fdn4+tO50tuePkzcNRC6frdY40TOA1KWarQYYgaPU/IYNHG642jLJp3HmreKNgrrDZvBWkna0I9rfw+Rx7Rhj49FHtn1rt5AMnfbkEchYbB551iPkhvK7Imh8nBBR72HzxGjRsjabzxY7AuWbSOhR/fajNApRgrByBalEvDdyGtiw0Ix1uUr2vMx6IAcUlT3cv5aYe8jOmRXXLv1MHPwyCn1IPvAGeF7Dhw35Rv2k7OHXcia9jx4Ihcu/0WfV4BBe6Xftu+T3pxETdzaiF19w26EqRFwEbkgrI/uOghdU6fgNnhOsL0fhY5Q5HVKIIMlTn9dB8+QtdLvyCNSwdnpQybMlxzqtEKqySN2i3ybEZN+EO+Bnzyyy+J4OU4ocRMk1g2rBEPcwKMxNwuTG3ROKHzipIEBYzN2I8B3MX7Y7dZoSTiFViUegWQxZQf/eb0+0kBZF9Jgg43m+k27ZBOCrXBkiI0KJ878uO539SD7cO/eA3km9Mj1vI6Qbe95MRePnTovY16HfTDBIj1vyQZPf1Zvzpb+w/6bE2W6DZlhbVxw1ka3BuDsoU7h5fy1I9u+WPL4bvHGpn3fyfJ6JY/BEqc/ahaI8ODtdvrDbpBvXqfNCHP05LnQCH18pJo8UuV66uwl06jTWDFubqfCzso7VL13phy5pPLogn4IRxOWZocSHbIgV615t/GWxM3PUH3KdfFdljxitN76sKH5n7cryDU5zxWn0Pz0yx+a+xVwSIrL8bOyMOFt9Bd/cIj/QLsxIUyrmwAPt27fNZPnrjD//aC+eBt5VngQ8LbjXYBc6qMKLi5fvWFGfP291V8DGePoD7v6dI4q5ov6fUz/0RmT/vMo4uxtu76TJCXI2Vpvnla0a0NtSWtSh1AwxdPft6Zp16+8bik+8ojtKF65i/lt259ii9MCj0Uet+8+ZEpW6yaLuEuC54Jfyl/L1Gs3MnCTQyW2oCPCEZ/V6ik7FGcwELzJhe1OmSak5B9mtD69CWF3VCPnmgIU8vh2w0yIcBNUu5gqgg3Ou6a4jk2A88ZgO9glN2g/yuw/dDLNDFs8AwJNY2lOcXo+T3VLHhnrXu7Sa4XqmVkLfgp5HfVZBRGMYfIdaezu6a9iOCr3coHasoHCtgXNe+dsrfT5Ld8h6ri7iuY5u3H5skFfbRgeUBGd2DW684BpJs9nLa3evLWS8QeBpNforIU/pdlRpqkmjzSmXbD8F6my9pNHLpiE27a9J4nHSAdYsMUZjO5DZpgCZduEjZwTvMhf1u9rd8rfhItlYn1OegrfyzWSj+kSzxlvLKYUD2Dsrl6/pYtpwEHe44r1v0ulMN407AYeyGdyVDEf200oLb80dJ3gpa3cZKCEqTH8zEvGPG2rft95MPRKRRDxwK6N23cfNmXq9PZSNEIbJdbG9+wC3iaD2p09qrhrosNFhYb9JdfWv1knTQhSiSMBexy068/q4vSHI6hU9W5iY/F2YzuwtTj1CGtfuZY2NQKpJo/kdAy0F+zPXxKxO5T3v+ygjcHjRJyOODXmzQ8aRBgL/k3ldeNOYzNVl+67a7cZJiFPd414HjFo5EPSqF69VsEG+qFheN12I8wLeWqI7cCw4VnLWaq5mW13xYRrs/oegPvn7PbCn7eTMc5Yx8byvGjFcfrcZU3TCDBwrCxZtdnk/qSlLOBuQ06+4wdftpfNbtC8jk6cjafhNLUMztZyTjLzNMfHTU2rnhOVPAZUvHE1z9S0ayK9RMP6s/aDtRPbe+ho2hwskGryePrsJTnOCKPmJ4/kdFRs1F+8jkGdICoJ4ogZ+Y7+wYbwb3IKOw+YGn5drM9Ib3HfzUkNhKndNbKbYkHFk/Xr1r2WnOiCGmRgr86evyy50OQ5euTR0+GrBevKhvPCpWuhV2ddQAxnL1xrXspXKzwXWbxJKek6eLq5cfOObpQCDPo7UuQnJ66F9IdwsAFRHDx7QSaPCCkTFPvgDHLXj5A2UbvNcIlEZdZ6oJK0OJ3QQ/Q9X8slsbPZvSNNifCkxeYzVeQR1rpjz2FTsFwbIY5cGBfIov5KgTrS20r7QcWHuFA0jbgZXH5DwY6ZxuCZ7UXmexlLdNCPOG0mRDxInWCxJeSZ1b1WQQfEZ+aCNXKAAD0f8azRVoL0CFr2HD52JssTI/J36Y+LV52xDgFho0SvVXKWHjzQTVKQwZGEtKnDNvkdK1Qw128/SmxZZtnSh4mz8+Q1+tOEnFCwRcFP7xHemhDrM1QyT5z+CE9DFN1aiTAWyXucOX+NuXv38fvqpoo8YtyXrtls/vt+/XBYBYHlZivRVEPWcSJOR3iC3v+yfUSCNELOC3lXQejVyff7czncNTL+Xsxby17jN+baDc17DDr++vtv8/Om3bIp8Z8axEJbokpXs3nH/ixPHq/fvG2J9PDwOGdzzjPKZQn3+t926RgPOE6euWhKVO2SiDy+U6yxNOEO+rro1oXqLYZIMZu7foQ1gXuj1VDQ7yOrCnoZPH6+FDc9k4P2dp7uGIukoQ0aN89cu34rNFpTj1SRR3bGY6Ytloa/fvKIkfuoYicvZG0JR6wbUwmOsAPGQ9yh/xQpcnJ6RNgI4EVu3GlM2JjE+oyMEr6f9hZVmg0Kh9ddyJNcjnrtR0rrKEWwAfGhL2et1l7+qmc3PPLIrvi7ZRvN/SxeNMPJMSWqdInw+jDWad689+CJ0KsUQcXeAyfEnuJRd54fflKQKF0rMtmWPkycvW/ceYy0GnJjEGG9L/R5W9NpwLTA30dWFaeXeuSW+8j/P+0YpPqfgq1zF66GRmvqkSrySHPwLoOmWeNfTcIp4YFljV35hv3NEMt6dWAFX4Q8Wl1x2sGLvvwqBHL2bvEmpn2/yWFjEuszMkr4fjYkHL+EQfPIo7eokgvGUZgHjpwKjVBFkMGJQCyijDlnP/gJmWQ8Yl+yMg4ePW2yFW8q5MPNR55PjZZDzJnzl0OvUgQVG7fuNXh8/GsjldYfVepk+sVJriDXSMcUxqFr+YKQQsFBEm1DHtR4uJesKOgFkug/alg26dmtHWkxxJw4fSE0WlOPVJFHGqDi6RG3vG+CkLdUt+3I8MVH35BKsAQdQSC/bNAvUb4jwskfUhkYkLA1wnGE2Uo2DU8IhHHIEZnawiQ+QLL2tG9X2U0A/R5D5NFuArAlhGsJ+2VlENYnj9dPHgnxkwRPSFsRbMz9YX2itZFNbunavaRDSTysjVwjOebRRTPY3Tc/bCjV2EFYF1RiC3qhuO7too0i1krsbenaPc3eg8cfO/0lVeTx8PGzUjXmD1njCeIAfwwcF66DKvhCyLrX8FmS7xi5S/YWK9qCuJMQYr0/I8WNKU7XyItBC10nYxBDnfPjZnKcmyI+8Nvvf5oCZdt6LUCsDqXvo11g8WrIKQhZOK9v6rcrzUv5a0fYV/5/6Pj5UsmrCC5YkHuNmC1k0W9TOeK1WvPBYVsWbd+CJlwjjoPilTtH5JhDRGh0TtpJvHhRs6I4/XFMtCP/Ls2rULl25petezOHPMrJMlW7JiKPHIlDiT8XroMq2IJ+II8kPlP56i+W4Viqf+epbmq1GhY48siEKCYGzfPKQDiYEJxaMm3eKi0miBOQ11emdi8xaOiRkAo5OYSyl6/dKoU1WRF4ZZmThPD9ZyL/5/0GUqWuTdSDDeoBIIkynt9L8PiQe9aoYzDyx1MiXGOfEXPkmGFaDLn7gDxScV2p8QBpORQv95PVRPQ3co7kTv/Dx9PY0OCNXLJ682O3tksVeVz183ZxZyd0zvfII9WAXQdpFVY8CDqSYpl+k82bHzaICE1AHmkL4oUmgmMcuA4qrsvU6RVh0CCQtMHgXM+sXmwRL3jw11/SJzY6rw8yOWvhWmm0nBVx5+59U73FUC/sGSLWCF0sVq7fps3BAw7ydUmh8caypzsEe9o2zqJyeBarSoFiZMU1TiNC8HpMYXAFndCL8/N6fRIV3tF/lCN9H9eWpIo8zl20Tk4jifY8Ev7sMTT41WQq3uAi/6ZZ13HmtcJ1rQ4jySOevHZ9JweqJxnX4Rm0weZ5OwHc9SLk27bsOUHDenGEjv2nGNdKgoXWq06tLGMurc5fjTdcvHTNfFKjRwSp5tkU/ryt2bb7kHrWA47jpy+IZydibSRP0K6X3QZ7jpV4WR+5TvpVsjF39+Luh4MZeg3TlnxBFXSCHaXdkr9djwtdD52wQDbwj4NHJo8Yr/EzlsnpB/6dFcL5tL1HztHBFAcig2vMtzK4ns8bebIMkufTlqbLwOmBI49cc712IyNO38BQc3QWxxRSzKWID0yctcy8kNfTo0s/wLg17TIuy1ZcU2ldtGJnO6a9sS2k2o7tcvV6m0PHzoRepQgqtv5xwLxRpH6iqBz2tPdwb22Ml/WR62zRfZyko/lPyuF+8pVpHe71GC/3k5XE6QXy/2K+BM8xesTGsnG/d+/xGoU/Mnkk56bfqLnSL8ifEEy7FA5T1yTa+BB0RM5KWULAoWbNCLtKFizaSgTNi+wmBN5SDDTXyjXjpYFAflqzp/lT++DFDX5c+7scS+jGngtbl6rR3Vy8fD30qqyFP/YekS4HLl+OuUgnBI6Ey+pV6PGAn375Q47w8+c7QrY+KN8xLsO8tOR5r3gTmZf++6FAkWrseLufrCJOL826jZcjfZ3unJCSRorM4+CRySPhJFgrPR79F0NCMLk6QSmwUElaPP14CbVFK3aM3CVbQsb/kyvBEUdB0qWbEBi07CWbhckjAnl8/8sOZuOWvaGRqgg6zl+8at75KLI5PWQpe8mm5tSZrNnwfdO2fVKF7iePT2fHG/uV9niMAyxaucm8UrBOIvJYvEoX0zcOySOt0XJYWxtNHmmC3mmg1yg8nu4nq4jTSYvuE8x/349s9I6wGX3c1KBHJo+3bt81LXtMSEQeXy1Y29RtOyIQR9mpJC9OPz2GeqX8/3i3gixS6BFChieSvMKg9fHiWhAMGhXi0eSRFgTrftsZGqmKoAPjJa0kQjpk0/KvbBXl2NOs2vCd8Zvns4RWVEIec1SRFmiQbUWw8c2i9ZIj6CeP5JB/WrN7XFYnd+w/VWxtNHnkoAaKLePtfrKKOJ3QKJz6Bac7J1TLP259wCOTR3KROJGEMy7dhbCIv2p3W+SiaePQ4Iub8HiQc5ZqbnVYIUKX9PFq0GF0+HWxPiMzxF0P7aDo9YgRc9dNjlieT1uZH9duDY1URdDBGdblG/YL65CwNfl9nIqQVRu+U1Gdq1SL8DOBPLKZI0R46UrWDOXHE+jRSbspf5ul/++t8qZMnZ5xSR67hhqF+yv/sbuEQtv3VfIYVHE6add3khz76nTnpGyd3plDHuu0HSHJ7e5CGEzkoDXqNCZQBRYqscVNeHYl7xZvHEHCII/sKskrdK+L9RmZIe56aBResFxb2dG762ZnTG7OgmUbQyNVEQ8gHOuS8SFKeB9pa0IT26yIRSt/M9lKNIsY15BHUkyuXr8ZepUiqBg7bbF5IU/NCE8d5PHLBgkHLgTJpj5Mug/xbK2/voH1gjmqB4IEV5xOcBBxIpvTnRP6dN++fTc0alOHRyaP127ckpAmvYPcgGIwcWRRs65f6WCKA3E6atVzouSc+ckjwu9ITQiaHt11dxsy0xT+ol0EeUTe+rCRhI0U8QNSEFzKhJOX89cy637NmukH85ZssPMvwVMACSFFaIie+R0XQE/00fOPZ8hjlaaDwildQbOrSQnX2XPYbFP483aJyOMLeWqY1nb9iKf7yUri9ELHFC+6mDAeEYrySEF8HDwyeWT3W7Fxf+PvQ8ZgIq7essd4HUxxIE5HeBfxMkaTRzwfblcZ6/2ZJe66OWXmwwodE5FHqhynfLNSe+HFEWhk6/fSIBTfZdWjJqd/t1rO/HbPwpHHMdMWaw/TgIM0DDpUPJuzesR4hjxyWpc7cCFodjUp4To5ZeaD8h0iyCOCN9w5GOLlfrKSOL3QTok2UX7dIeSxPu5m9JHJ45WrN0yZ2j0T5UAQMoRwBOlEEpXY4gZW405jJXclmjwy2HB3B02P7roxaFQvRpNHdvyjpyxS8hhHGDnpe1mY/IsTx58tXrUp9Iqsha9nL49oreHI49dzftSjCQMOyGOHvpMtsYosJoU8Ug/g7FfQ7GpSwnXSlo+2bf/0OYsQChSbd1NnUVDF6QVHS77SrROt8TSyv34jg8nj5Ss3zMfVu0V4C7gw2mtoAm18iNMRRTEUJ/irlhEGW+dQG4ZY788scddN4nkpOwajySO9Rumcr+QxfjBh1rJE5BGy9MOKX0OvyFrgeSh5jE9AHlkDnzTyWKxS58TkMVsl06K7ksegitNLr+GzTd7PIotLESLFGU4eL165bopV7myNWsKFcGE5Pm4W9lbpYAq2OB3RWonK6mjyWLBcO8krDJoe3XWTO/RpzR6JyCMLLX/DiCviA7MXrk1EHunk8O3in0OvyFqY9u0q8x9fXzZHHsdOX5Jlj2yMF2B3CBPGClvXbDU0LsPW9KYkRcg/P1kvns5eRcPWARanl+52HY9ua4fQJzlTyCNu7OjjipQ8xo+gH1oqcZyfOx7OL+S4sGMJmh7d2EqKPCJ9R35jjfjjHfiuyDgsWrUpMXnMXtXMmL8m9Iqshbk/rDNvF01onO7I47CJC8zNW3dCr1IEEQQ8sKvP5XqCCmaGz5LixAjyaNf753JXN616KnkMqji90GrJ3/rLCRX0j2tPHj1sffWGLNzRYWtyHtv2nqQ5j3Eg6EfIY4shUpzgH1QIh97TGiRoenQTgt0wrQaiySM7/hGTftCwdRxhxbrfE5FHQmTT5q0KvSJr4fsff7W2NKG1Bnb22ZzVTN/Rc82167dCr1IEFaMmLzLP54m0qZDHCo36x12rHq6TVj2FYrTqeSlfLbvea6ueoIrTCT2Rcez5xyNCKkKGV1tTMFOubu9Eg+ntjxpJ6b72eQy+oB/IY7XmgxO1lUAYWK6hbaz3Z5ZwPUjvEXMkdSKaPL6Ur7YZP3OZksc4AmcB42mMJo+T564IvSJrgfO+c37sbxLu9Xkk/MTGXRFsTJrzY6hJeMJ4hjyWtWtmv9Hx1ySc5vT5S7dOVCBLrrzWOARXnE7a95ssjj2nOyela/fM+Cbh9Hms1GRgolY9tHxp3i14jaVVEgv6gTxWx/MYtUtGPM9jsM61RtzY4lhFQuvR5JFG9dPnrVbyGEfA88iBA37yCJnkpI6siLW/7pSTktyz8E6YqSInRVy4dC30KkVQEfN4wrcqmE/i9HhCPFd5Pk18POGbH+rxhEEWpxM64FBZ7XTnpGKjTDqesE6bxCfMvF6knmncaYwOpjgQ9AN5rNV6mHnJGjr/oEJoIApBC5oe3djqNniGKfR59AkzXnPzeUt+ltwjRXxgwfJfhDhGkMccVc2shWtDr8ha+G3bnyZ/mTYynt24pjiBjfnZC1dCr1IEFYtW/WZeKVgngjyyPpao2kXSbZwNi2Xfgih4F3N+3DwRecTWdrTEMt7uJ6uI0wtFTW9+kFCA54QCrjsZTh5v3TENOowyT2VPONsaob1Ew46jNWwdB4J+II+12wyXamu/HpFC5dpJmCxoenQTglBKgbJtxIi5a8ZY57BGLqv2B4xXzFr4UwR5hCyR45dVq6237TpkN0YUKHhjm+fxVPbKpn77kebU2UuhVymCilU/b5eQbjR5pGLZRXOCZleTEzxX2Yo3SUQeac2HHY63+8kq4vTCQSBv+Fp/OWnYcYy5c/d+aNSmDo9MHqnQadx5bCLy+KrdbdHLClKigynY4gYWm4BXC9WJIGFI0Ps8cm35y7SKaD9AjhHhPnLGFPGDibOWJyKPVBcvXJ41+zzuPXDcfFCe1ig+8pitiqnYqL85euJc6FWKoIIz2V8vXD8i5xH7WqBsa8nVdjYsln0LouC5oicg49B/Pxwk0XXwjLi7n6wiTi+NOo2JGV1s3etrczejyePtO3elRP/ZnJHkkTwPjmByFWWxbkglGOIGVpMuY80b7yc+YYYwBTlWQdOju27OQ84V1bvqn+9Vsga6rRRgKOIHQ8cviPBqIJwws3TNltArshbOnL9sSlbrFkE+INZ4rnb9eVRTMgKOQ0fPmDc/aJiIPFJQ2n2oF80Jml1NSrhOoomvFqwbvheEdKEPyreXc6/j6X6ykji91Go11Dzn6ztK4RP1KgPGfmsePPgrNGpTh0cmj3fv3bc7junmudyR5PHZXNW8XlahirJYN6QSDHEDq1m3cZL4HE0e5WxruzMJmh7ddbfqOVGMsSOPGGo8NRT6bN6+LzRSFfEAWkJFk0faR61YnzU9yCSxV2w8QLyN/l66pGRQTKM9TION6zdvm9yftIwgjwgELN6qk+lLWaPlkESth/BC0q4vHsPwWUXQCfor36Cf+ZevPgWhIHHS3BXmr78ez5Y8MnnkCwePm28HVPUIVzaM9vN6fcLtCGLdkEowxE34lt0nSCVWNHl8t1gTIWhB06O7btImSEp35BHPDASkTO1e5sCRU6GRqogH0MTWb0f494v5apo1G7OmBxlvABWu9Cz1ExC6WXAajx5RGGzgXKnUeKDYI5eKgbAhatw5fgpKucY+I+aYz+v3Mc/mijwxh5zk8g37mb5xWD2eVUT0Z8n9x9U4SjpBd0To/vtBfbPwx18eeyP6yOSRNigTZy83rxSoE9n7yS7kVJQFsbm0SqS4CY938b3ijSPII3r8z/v1TdMuXwVOj1wPuymqxJ/PE9mfEld87dbDzZVrN0MjVREPaGLHmfOwYeT+ZY3bKwVqm41b9oRekbWAfZ0wa3moV2DC+H7Z2tsRk77XIwoDDhZkcrKjySOEq3qLwWE7Fm3bgiZcY89hs0yJKl3Mv7L7OqvY9YEcOqp11VEUXHH6K1i2rfnfCPJY2eQv09r8vGm3+fsxc2AemTyChT/+arKVoAIr4aIgIFyUy+uIdUMqwRD0g+DhyPVJc6u/hJY3GAcWrvrtR4VfG/3+zBKuhd0uPaqe8+2G2cTgqek4YIrs/BXxAYjS5/X7JujRGrZ/Zask1apbduwPvSrrgd6X9Cz199KFfHTsP1WPKIwDTP12lejOTx7/la2yePGcHYu2bUETrpFzuguVaxu5zoecC3hRtTg2uIJeOB2IBuHozOmPMVmqenez888jYn8fB6kij+t+3SmDKjopmGO1XPl+rBtSCYY4/bAzoeXNP96tEDYQDLSn7E6zWosh8rog6ZJr6T18jvmsZk/DqRtu7LHLh3AM/3rhYycBKzIOeNHyfeZriG0Fm0KIdt+hk6FXZT3s3nfMvPVhowjyyL9p13PpyvXQqxRBxZoNO2SR9pNHpGS1rnFTE8A1slnJWQrnQlRakyUkrXt5aU3xcC9ZUdALTdzZhDq9SWTHbmIqNR5gjpw4ax639i5V5BHDXqZOr0TkkXY9HftP0UEVcHH6IcXgo0qdrJFLMAyQx3/Y/+f4oiClILhr7jF0plSeRuzq7b/ZYS1YtjE0QhXxgMPHzwpJcnpEIJAUHJzOwj0NT565aIp82V42Rf5nU65Ob3Pw6OnQqxRBxY49R6TvcbTHDocL9isoNjU54RpbdB9v3i7aMGIMYneJMOo6H1xBJ4PHfSdteogiOt0xHmmD1qzbV9LV4XGRKvJ4/tJVyd+AxboLgzzSYoO+UDqogi1OP+SsfFG/r4TEwnqEPNpBxvF/3QLUKNxdM/lEtOlx14tQTUbfMapRFfGDH9f9bl4tlNAGhPQDCNOX9fuZS1ey7jnOV6/fNNWbD5GTZdwmiTnJov3r1r2hVymCimMnz5mPKnbyjt30bQBots1Zw0GxqUkJB30g5DVG9wikvzMOBzquBP0+sqqgu0GWPOJhJJ3L6Y6xiIMP7/e167dCozX1SBV55ID+JtIovIoYe7wFkI5nclQzNVsOlRvQgRVccUSMnBUMBJWA/tAEuqTXY6cB0wJzYpC7XsIlHI3FZsXt7DHS0gdv39HQCFXEA8ZOWxwaeyHjZokS9qRlzwnm+o3boVdlPdy990BOeHLkkWfCBonUDM5OfvCYLTYU6YvLduNTp81wqzNvwXbjmyJTvEHO/sayc0EQrq3vqLmmdK2essa760fINS9Xt4+kDwX5HrKquLGFY6ioXROJIjrdMRZpcTftu9VpUniXKvJ46/ZdWcgx/OTiuEUcQ0f/pyHj58vfY92cSjDETXxCE4RY/Mdp0QSWcv52fSYFjjxSyPN6oXpCcBlvCJsWPYEj/sDZuM/4vN6OKA3/+vvHPv0gnvH33/8nBv7FvDXsM/G8jjwX8nw5pQT7+7jJ7or0Awdp9LPk69+5qoW86d74hnhVsHYqyFXKXNfAr7wjYAuWSzhj3QkEGIeD9nMOpnj6884kz1aiaVhvkk+erbIp/EU7s3rDDrsBffzagFSRR3o9frt4vVcRGNGAsqLJW7pV+Caib0wlOIJ+yIto32+KNAr3ex4hj5x53bzbuMCQR66j36hvxPi6SmsMG+Pv37lrCAm+cOlaaIQqgg76FVZrPlgIoxt3/Bsv8swFP5n7WbjwCWJIK408n7QIEWqPPPJsOIiBtKHHbfCrSD/cf/DAfLd0g+RhC3n0jW9CvmwAsGex7Fxmi9h6uy6QfkZVtX9d4Ppp7daie3DWBZVIkXFl9Ve37Qjzki/fEd1xkEvVZoPM3gMn0mTzmSryyBfThy1HyWbeSQh2gnCBeIOolCQvjRvRwRVcceSR3BUq6vw7TELC9FH0dpjBaMfANfQcPssUrdgxPN68SVHJvJS/lhk+caG2MYkjnDp70XxWq0dYl/xkoSU0u+rn7Vn6JBU8j/sPnzJl6/ROSA0KEcj3v2xv/jyUNsZfkT6g48Nv2/40Jat2jVgf//fdiiZXqRZSxUwUJWjrI9cD+aCXbrUWg6W4grXAm5/kO1aWop8uA6creQygOP3h2S5b17MdTn+Qxxfz1hTdXbCbz7RAKsmjkZM8CFFzUf68judyVxfSMZjQtQ6uwIqb+L1HzDbF7G7YX/yEUMH8SY3u4RBLZhoKmRTWoHUeMM0aX1pHhIijHXcY55ylmpnFqzdpm544wq92cSUshh5lYbJ6RJ8F7eK0deeBLE2OII/nL141bXp/LQs4c5NnxJx8027O5y/dKM9HCWQwgVf40LEzpkGHURIlIffRbc5fL1xHfo9dC9r66MhHz+F2TajcWa4Zh5Czt3iuICWcPJPZa4JKYnE66Tp4htccPKQ7DhsQ2/FhQzP5m5WSVpEWSBV5BCS000RUyKMV55onQRPS4QaiDrDgCrohP7V6iyHG3zcRIXRNdSe9IDN7lyxjyV5Ds67jJJzudlMIk6JU9W5m++7Dsugqgg+8itPmrTb//aChLFBCjCCPVpc1Wg41x0+dD70y6+L27btmwqxlodQgjzySl/xC3uqml13c2SgpeQwu6MeJbSX06yePz+SsKucNDxgbXM9jh35TJF+ONcDZ2X+8W9G8nL+WqdduZHhdD9r1Z3Vx+iOFi01mgtfRWyeLVuxkNmzeY/5Ko6hOqsnjnbv35Rgt8s0w+lI4Yy/0/71TweT9rKXpMmha+GZi3ahK5gu6GTJhvhwRRz8o/y6Tgce51xxhmNmGAuLItVZpOtBAcrlOWUyt4LFq2HGUhEGVPMYHOEKSfneMOa8gxIte0DKKZP2sXGntcO/eA7NszRbJe8TwY1shj4z/ynYenDx9USJAimCCFJq5P6wzuSVv1bOp3kLupR5w+gdjPSgEzNl4QtY0o3+lYJ2ITTpeLCp12/aZJNet63qwxOmPKnlyyWU9d+SRCF32qrIxP3L8bJptOlNNHnHNr9qwwxLFViHy6IU9WdjfKFLPNOv6ldyUDrLgijNchIOz253m//PtNNEj1fRUN7uBGf3+jBC+V8ijFTyMjDV3jfz7hTw15W83bt5RT0ycgEbXtdsMD1daswFg88lmZd6SDeb+/QehV2ZdYF937DlsytbpZZ62hp8FwPM+VpY+pz+u/V02SzrkgwnG8IbNuyW1i5ZLzvOIvPVhQ/EOBZE89hk51zsAxM5Jd70I1w/pdU3Og3LdKp44ndDiq3iVLhEtlohc4DXuN3qu3Zg/fn9Hh1STRwwXJ82Ub9hfDJpLCobtUmwB+2UXowMtuIJeIPfkNdIn0U8eEQZgpSYDwnqM9RnpLW78kIeT57OWEd5Rxt2bHzT0et9pvmNcALvxy9a9ktoCKXJ6fMoauGKVO5lN2/fpJsCCR3DqzEWpeuXwBRfZIX8JrwLpJGnR6FeRPmAMs0kiv9HTX4JzBQ/7lw36it0dFBAC6exspwFTEx3CgLAW0A6N17BmBOGaVRJE9GLX6VbWXnBMtH+zInUBHzcz85dtlE1pWpnXxyCPf5uz56+YVj0nGvrsOePGxbIoUGnWc9js8I1F36xKMIQBh35cZacbcAgDkMRpcqx4TWboEUM1eNx8O84miEfbkUeujR1V/jJtZIevrUviAzdv3xWyz5nWEEY31hh7FNpRaKDpBx7o5zjlm5XiqXKbc8Y9iwGNmjkDW4l2cAG5HzZxgfTRZX2UsW71R/5gvtKtpSuJs6uZYVuduO8fMGaeadB+VMSRdoiLJlLARQ9BjSYGS5z+aGUnIWvfwQtsWtisVGjY3+w7dCI0MtMGqSaPgF5shJnoZ4VBC7cksJK9ZFPTRg9PD7xgCBDCiM/nrhHOk0D4N329MuscU75Prs8S3C/q9Ykgt3irns5RxVRuMtA75F3X0MADHbHh5Mx0FiNXCILteLVgXan8v6i9OsOAGG7bdch8VrOnLALOm8C/3y3WxEz9dpUQTEUwwSZo7S9/mMJftPecKyH9kT9I4V+dNiMCEZ1z30++HBEB5yV1wnVz3KLLdczMa1VJLE5/HCdMBBG76nSHLl/OX1va8t26k7aHC6SaPHIRDx78bbb+ccCUrNZNFgDEXTQXXLXZYDsgM7/Vi0rSgl4gZ5wmQ49Of1gY8kjfvca+I7UySo/uuxj0nESS4+Nm0ieN68KYUcFIHgc7e+3vGB9gMaV/YYMOoyVX1W02sRvod+aCNebWLQxc6A0KOeea1ihs7NwpUOQ/vpi3lmnRY7w5cfqC0ccVXLAZatx5jN3oVo3QH2O/RBUvOpeRdjVa3HcjHfp7VdbRDgTC7vXajZDm00oegyV+/ZFHS3eGyOhcJVOwbBuzkSprCVkHgDwCFoMz5y4L8cCY+ckj/ybkSTsfd3Oxbl4lcwW9QB6p/itgB5nfe4zQWuLzen3kOKqMNBxuzPCdnBP7Yr6aEZMCQ5zn01Zm5fptaXLUkiL9cefOPSn04JQNqobdWOPfxat0Nqs3bDd3791X8ugDxn752q0mjxQmenOS9CDsa4kqXcy6X3dqvm/AMeM7ry2Vs11u3Gcr3tQLBYdsXUbZVr/4v7tu25ERIU8Em/tOscaSC+lSnGJ9jkrmiNMduqnUeIAUZzndsUlh/Wb9PHv+cpqnAz0WecSw0bJnzvdr5ZQSP3lkkrCLgQ3roAu2QNBclR07ZKdDEatH+j3SeJTXZpQe3aQg35LqMX/1HyFrXPO0Hjh87IySjTgAhuvSZa/3nYSsrQ69QrtKsmBRWEABnuauJgbexdqthxnabYTngF0Y3vqwkflq+lJtbRRwkFZDOBidOf0hdLOgx647xSsz1kj3vaSSlKzWVeak/xr5f35PSol6HYMnTn+skxyw4PcaI68UqG1txBLL0+6lqdcRPBZ5BBj7bbsPmXL1+phnc3itN5y8lL+2qdx0kOlriYm7yVgPQCVzBb1A8DkP89VCdSJC18hrhetKg24KVzJCj+47kNa9vpacWjcpPK8jhKOWGTNtseZ8xQmwExTDQPg9r6PngYFEUhAybOJCc9GSy7Q2cE8C6Pk4Zuoi81qheuE5ifeRRHiaNvNc9bkFF4x9Fvdnc3pn8juBmJGjlpntb9x3tu3ztbTK8l8fQvEMGxciT5lxfSrJi9MJrRHhW9H6I5q4YcuedHGwPDZ5xGidvXBF3Nov5Yu8eBYIrzfUrEybHCoPF6cb+j3St9OvQ4R+fLSWcB7k9Naj+w525F7D08hQCgsnxy+t+22XycpnIMcTWEDX/rrTFCjTJiIhn84MRSt0Mmt/2alexySA4f9950HzfvkOQrjD88DaVwpnFq38TUPXAQcLOMfDOd05IaechT8j7Gq0uO9EytXpnTjqZCXnx83lxJnMuD6V5MXphKKronYTgj3w647NCQ6h9CpCfGzyCO7df2C+XfyzhKn9N4AHi+OZpCFq6EZ1AAZP0AnEsPeIOaHQdcKB6gg6zf1Jc2kt4V6fnnp0n99l0HTzYcXI6jEEwsHJNxcva2VuvIB8RzzXRCdIb3FeR7xnjTqNkSMJ1XuWNPDKtreL+PN5Ir1XPMfarYebC1qlHmicu3BFQtQUMETqr5LkrtLzMT1tanLSssd481bRxMQWp0Hp2j1lXcisa1NJWtw62ajT6EReR6JzbEzoyEBXnPRAmpBHsGf/MfFOudw01/ORPI8ytXtpw/CAC3ohp6VJl7Hm1aijqdgEvJS/lqnVapglmZ4O01OPfDZeR3ZN/3m/XsSGBMlWoplZsPyX0MhTxAPOnL9sKjTqL8TReR4penqtUB0zbsZS2YAqkgZeWYrDctlNnP+4O+SVAnXMj+u2pUtoSpE2YAGfOX+Neb1w3Qj9YVtZ5J2DJaPyCp0Np9qbk7uie/wib3/U2DTvNk5rFgIoTn+cKBPdnof1kh669G6mUX162YU0I483bt42fUfNMS/mqyEX78IrTA5yKai6djcd/SBUMl/cYOw0YJrJV6Z1eCA6wQVOlWx6t5Zwn91t8AxTvHJnQ36c/zqeylZVqsr2Hz4ZGnmKeMCqDdu9ZslCHquEiwc4B3/Ttn2hVymSw/mLV8VL669UR3iWtVoPlzPDFcGFnMjWoF9Ifz6bZonbx5bAUbSYkeQRUti061dSTe2cPQnXVFWOVszMAyJUkhb0gYOFc8iJ7vrHE5vz1wrWNeNnLjO376RfTUCakUdCTus37TI5SjaLMGwIYUa8Du6mdSAGT5xe6FLPkZPu3GEneCLJ2WneLSEFIdbnpIVg1MgDou8kDXXdNbBIQkBGTPreXLebFUV84Pbde6ZZt3FCGjFs/5TNpadTCmjoZah4OB789beZu2i9LBY8R/cMmRfkPi7/aWuat+NQpB2wWSOt7aIXn19/2DhsXePOY8X2ZQSB5PN7DJtlytTpaZ7LFZkKgcOHIjaIZUZEmlQeTZw+ug6eLif5kfrjdIdXm3Y9FRoNSPcTqNKMPAJ2vjQAxphFE8h3PmoccRxTrIeikrnidEOo4s0PG0SErhEIJT0fXQ5MWuvRfSaN5ane97d+QtiElLCT5dff/9RFMo6wY89hSbyPXDA9mTBrueY6PgKOnTwnG3EiAZBwniHnXVPJC0Gn764+z2CC4r4tOw6Yz2r1NE9lj5wL4n2s1k08fc4WRtvHtBI+G5LKuenZpU4hsbPn0xo9pD2Ps8npeT0qKRenC9IASTF7+6NGYf15/V+97hWT564wt+/cC4289EGakkcmB02AqY5lofAPSFz15Rv2k5vWflHBFDcwIYc0ePf3VnRCUVTb3pPCr431OakVPo+xwSbj3WKNI8griyXjqufwWebSleuhEacIOmilhDf7eU6U8Y0jJPcnLc3Bo2dCr1SkBDRRnzZvleQ5uufpLRpV5LxkChfTM1SleDxcvXbTDJ2wIEJ/TvAo128/KtwWJ63tKyI21q7B2HiKYfxeKwRCi6MHYslxhOl1HSqPLk4X6K/70Jmy2aBCHk+x0x//z5G9e/YfT3cHS5qSR0BVGe53di8ur0nEDspcn7QwbfukD/FQeXxxekEadxorzZzD+gvJv3NVN1826CdHpqWlHvkciCP/xrPyTFTFN0S20OftzM+bdssmRRF8UOSBl9g7L9ersGYTwAJFqGz0lEXSvFaRcuBUPHL8rKnTdoSdI9XCNpZn+nyeGqZa8yFyZOwDbd0TSOAV3r77sPmifl9ZI/0EEhtX2Nq49n0newWmIbsYbStTK87G8hMvNX1D/cQD4UQSClxpGs7r0vL7VVIvThcIY4Nz0V+hsNWnPyr58SRP/maFuXk7/Y/sTXPySFXZktWbhSi6lhzu5ugDCSt2AzPWQ1LJPHGDk3/LyS5JeB8JQablJsB9DtKx/1STrUQT+z2RXkd2yBzlRcsSRXwAXeG9cAndHnGsLHbho4qdZBHVEOujg6bhC3/81eT5tKWdnwn2FSJJcSLnwWvrnuACb/zE2T+Krvyha+SFvLVkc+5PDUJi2c1HEf9n9R4+xxT5sn3E9yJcCxGf1r0myus0Qhgc8euPNTJ7yWZRuqss59/XbDXU7Np3VDbu6W1a05w8AvJyGnYcbZ7LZXfGvvA1RIQm1K17ThTXqw7M4Il/kDbsOMa8WrBuxCBlp8MgxcORVsndvJ/PwWCy68Wj4r7PkQ5CKYtWbtJG0nECPF+btu8zXzToG9F8mITuVwvUEV1r+kHqQDiKvpitek6QdIDwXLEiecFVupiffvlDvY8BBfo7cOSUqdV6WIStEx1ae8eJWq3sGum3xbHs5qOI+xy8VjVaDDX/zh1ZJIMwdsrW6SUnwilxDJY4/ZECVLZub9k0+r2ObMgZN6S03Lx1J92JI0gX8sjF05yS/DjxPvoGKKEVXPbaAiCY4nSC0C6HPCpSDpz+PKloinzRXgjA424C3Hdh1GhD8t/3E1dYI1WaDjJHT5wz6qeKD1y/cctMnLXcGrTG4fxnFkZCKx+U7yg9C+8/0N6OqQXexxX2GRav3CWiRx9zBRtLE/1zF66GXq0IEljYyV1duPwXcaZE9+2EGHxSo4cUDjr7GMt2Poq4zyEknr0kRTKR4WrkvRJNJLqTVt+pknbidEJD99eL0Ps4QX/YVWpKOKr0+KkLGUIcQbqQx7/+/tvs2ndMmkpjyCISg0M7q5bdJ4SJhw7UYInTCX2kKjYekCipmlxEDlzHM8nr3S71UfXo3oNAVD+q3MlOgoSF0HkdCe/MWvCT5sfFCfAO0yaCEzWey1U1vDiiT8YN55UfPWk3AroTSDUI99P3sd+oudJ4OjxnrEDW3/yggfluyQb1PgYUeB/Pnr9s2vWZJGukNz+8tA7s66sFa5tmXcdF2Egklh1NTvzvxWGDZ5F8Y+aiGzN4sMhlx9b3teMptd+lkvbi11/PobNMyap2s4hDzqc//k3V9dI1mzM0Mpcu5BHDdv3GbTNzwRqTr3SriJ0x4kIr/qRcJNbDU8kccfrAuOFB9usP+YclBBy67m/+/ig6dK9HGAfkatD/zE0KtwgSIudYttPnLmmhTByARfHajVtmzNRFifrZ0X+soB0z3yxaL3lfiscD8+GPvUckksOC4p+fPPdS1bub3fvTt9ebIvVAf79u3Ws+4MxyqzPmSdj+2Z9Efejl57eVsWxpcuLexyajXvuRshF3RVZhsd9V5Mt2pouvlV5qvksl7cWvP5xxrxdKfOIa6YA9hs4Uu5uRSBfyCP62Bou8nE4DpkpbAhe6QmSnk7u6adBhlA7WgEp40I6maXi/RN5HhJxW/kaOzKPq0b0W7zOhEsI3/uIcjCn5QKVr9ZQTSNK77YAibcDOd+0vO6Vq1BXIiD7tzxfz1TJNunwlR2apPtMGhK+/Wfyz9HbjuEc3f3j2eJjo2Xrq7EX18gYU9OIbOfkH81K+mhH6Q8gVZgPAEXSPYlud+G0s+bGc5hSrAPItSyib2nmpkcBgiV9/HJqR4+NmlkdF6o95/nm93nJ6UUZvEtONPAIqrzdu3WOKVuTsxcid1f+8XUEIA54r95B00AZH/Dpp12eyDNzopuEIi1bjTmMe2fC415I3SeNxf+K/kzc/aCiGld5ouvjFB6iwhiCy8GHY0CNznkUrn53v3y3doOkHaQxyzJt2GWufNx5Hb+Pl5hAnl3w1Y0mGeyUUKcexk+flVC/0F53/iOOlSrNBj9w6x70WwStVvEoXifj5PxshZC7hap8DINbnqWSs+PVH3+MiX9jNuK+zAsKGnPzV+Us3yiYyo5Gu5BGwUNCuI9bA5Xef1+8jFUQ6cIMnTifkwWDAnstdPaLCS3RoSQJnXpOzmFIdutchzbuPD7WsiJwYeB2rNhss7VzUSxUfQE9UxP/n/QYSGnM6xaPC6UQ0l6cPrOozbYHHYcuO/ZISgE31hyUh7RCHFet+lyINRfBw//4D8/2KX03uT1uI/vxROjZgtGWhdzLrZEqqoP32VWx300Hmhbw1E9luzq8uVK6tFNG418f6PJWMFb/+IP7l6vaWtdevO2zrqwXrmHZ9J8nmIzNSU9KdPIKDR05LfpzneUyYGOyQWWjwXPm76iOxHqpKxovTR5dB0yUUGZ1vgT7JbaPSixB3cvpzf3NCAvf7vn5jzjONYDDn/LAu3Y9YUqQdTp6+YGq1Hi4LoJvnTp95Pm0lrXuAepHTHrfu3DXjZiyVYkSvIXvCHP137hqmTtvhUsSkra6CiYuXr4mTBU9xdEEE84m+jB36TUlRhMdvY1lbXytUNxFxZH4SNeJEG3XeBEucLiD+VZsNkiJDv/7YUOBcKVOnl1n/2y5zz24+MgMZQh7ZWU35dqV5KV+tRG55JkrBcm2k6TS7Kvfwoh+oSuaIG8gYLXp3vl448akzFESRcC3GLRkdus9CmBiSS5mrmoTDMWac1cvEeNZODIzaiVMXQiNIEXTcuHVHeoxBXvzFGyyC5N5xJJuGq9MPeB4OHzsjdvS1gnVlPjkd4H2kUTtJ9xcuafueIILimT37j5lG1sa+lL9WBHlE/p2nhnig/Cd7IcnZWMKdBcp4Thv/ZyHMyS8b9DU9h81K8rNUMl78+uOISFqdResP+0oR69dzfjRXr98MjaCMR4aQR8CB/bQeoHrWb9gQimc+rdHddB30eJVlKukjTh/kJ5au3UsIn19/CLkzZWr3TLZ/p/s9LYDwVLIj9n8GxJHcWCr0V23YLgZVEXwQDl3183bzWa2e5rmc1SNy7jB0X9TrK6EVRfqCtjzbdh2S5tMvcJZ4aNHh51PZvUb7Y6YuztQFR5E08CBt3LJHTpiB3Lk55ASd0v4qqQiP+x3SdfAMOfs4VqHj/3u7glR4+4kj4v8slYwXvy4g/q7o0K87Uhpezl9b+iJfvnojU8LVDhlGHgmXkJfzRf1+obBW5IDmgfiPLnQS6yGrZKz49UHeWu5PWiQa1LjVca/jMfS/J/oz8GC26D5Bjq+k3Y//M/BKs+seO32JFAEogg/yF/ceOG7q2s0A4VG/PpnjpB/MW/JzpiR0ZzWwjkDkl/201RSt2CnCzopn385ZQpXT563W+RVAQARI0/l28XqT51PveF/yV/05rC9bGxsrRcj9G6E6my4V0fPRk4oSGm/fLyHPEXF2WiVzxK8LiohLVusq8xedMXedw+05uxmo0XKoFCZie7MEeQQYrDnfr5UwNR3RMWx+LyQtA3DV+ptOI7EetkrGitMF+TEkYMeqjkZylWqRqILeCcSRczkpsHk2Z+TOmoWNpG5OxqCno6bFBR8YLna/nKXszq/265SNAC1Cjpw4m6lGLquByuoJs5aLp9FffCEE0uqoYLm2ZvGqTZpPHEAwT67YOYW9xKGCXfTWydC8sj9JDWkSKqCJtrE9hs0SzyUpYk7vYbHvfaNIPdnoEf1JSfGNSvqLX3/dhPj3ikn8pfitcmfz6+9/2nHijZXMRIaSR5gyvR+pIOIEBAyb21XhuWKCUFgDwfATyFgPXCXjxemD4hlpHRAybG5wo0MG+Cc1upuew2cn2gRg2MhzxCjyerdx4Cc9I7+o38fs2HNYTihSBBsYLsgHR6xRDOPGgBPCZZxmwRnL6nXMeFCAQY/dF+2GzF/5znzFo0GXC0KkWkATTBw7eU7SD+hmQQEUttatlVRJs06Ko8VuyJ2dJa2ost3Yx8pLR17MW8uUq9dHUot0fQ2GOB0gPYbOkob/bLr9emPOwpVyfNxcakeCcsBChpJHQPHMlj8OSIiaiiG/S14KJ96rZEpU6SoP0v9gYz14lYwVvz5oWvrf9+tbvUVW8UEgX8xXU9rs9PH1DmOXXKfNCPPmh14bF17rGp7ykzzHmfPXmOs3b6uXKg5APipEv2wdDumPbFzL/9MXdPzMZeKZVGQO9h48LjlyEHnIh19HRA4gJ7/vOigEUqdcsMD82mDJPRtx0Z9vA4CQE/n+lx2kzQ5EkHOwOaUrVgQAYa0llSGlFdsqGSNODxD6Sk0GRBw1ipA/zvqIs40cVe/s6mBM1gwnj+Du3ftm+dqtUjHk8jqYGJ5UlMRgKsH8xRc60IMhThc0la3QsL9XLR1FICl6yVa8qTSLJrGX19On7L1iTSIWMW9HVcWS0AbijcYrrT0A4wNnL1yR5vEsYv4NIPqFmOAVIVzNSVOKzAEFND9v2iUExMt/9M+9yhLarNt2hNmz/7h6IAMIPPs/rPjNfFSps3S0iCaFEEIKXzhWsEmXseatog0j5qIT5mT+Mq0lJcjZY11PM1/QAUSeFAIh/kXqJ9IfuoMPteg+Xk6RefBXcM6qzxTyCHOmbQeFEc5F699ZMUleLVhXyIlWhAVL/LogMbsUC1OOqokIJIsVoZVWPScKkeDg9lg74udy1ZAE8F37jspipwg24IKXrlw3IyZ9L7th/2aA0MozOatI/7Htuw/pRiAAwM5SQEMCPh4sNwfFo5GNKEENU7/9SKnS1ibiwcONm7fNvCUbTNEKHaWFWbQN5bz4XJ8094ijby46IQqQ57OWUuioHsfMF//6iceYwifWP1IN/Js7hP9/tUAd6VLjHekarA1eppBHwMJy0S5CrXt/Lcw64YEl/Hy9SF1TvcXgVJ2drJJ+4tdFx/5T7K62TaLQJcJilfuTlubdYk0SGT0EY4dX5Lff/1TiGCe4ev2WmfzNCpPn05YR/RzZ/FEtT/rBz5t2W32qJysowIO1aNUmU6xyF/NMjgQPFj+JEryQp4YUwZEDSVRIESxAIL9ZtM588GUHSxYTE0Q27rGOjiWqwxHA2Gi/zUZi2XWV9Be/Dois1mg5RIijc75AGJ338aX8tcVbfOT42dBICBYyjTwCPJCHjp0xDTqMkgcFmUASiEZF885HjUyjTmMiWhMgsRSjknHi9MDuiZA0lfKxCGK0RxLhdfSdw7DhFdEcx/gAidpLVm+2JKRzBHFEnxg8ogXDJi6UvGbVabBAp4t5i382H5TvGAph+3T3XkVJP+CM47W//mHuKIEMHKigJyecbhbRHqpYgl5pMN2s2zjphqBrZ+aLf82k6JTi0ejiJvRGBIeIXJ02w82fB08E1pZmKnkEeJw279hvatsHxVmN7JacYXMPk9xIQivqgQyWOD30HDZbclTpQebXXbQQKmNzQP4OnquZC35ST0ecgAbGa3/5w3xer480+veHyGj/Qo/Phh1Gm4NHzyhxDCgoRpu9cK3MPbzEiJ+IQCA/rdHDfLd0g3i7FMECOhkzdZHkiDudxRJ0Sj/P2q2HyUleumZmvvh10Kn/VJlnrxSoEzH/POJYyTyTs6ocxvHr1r2BzkXOdPIICKtwQgULE/2N/AuTmwx4IOt3oD+VeiCDJOiAnRRtQUpV9yoD/brzC3rE65GtRBMzZPx3WokbJ8CTyLnUVNDL/LR6dHMUg0ebpQp2F71m4w71WgUc167fMqOnLpZUkqeyeakG/jlKG5jCX7Q3M+avkX6DmrcaDLAhY09GcdMnNbqFQ5uxhB7KJap0kVNm/HmOul5mvLjnzhqJcHJM8cpdpKjQfxIX4ohjiapdzdI1WwKfgxwI8sikYFe1aOUmU8QaLkKa0QSS/6c5Kt4N9UAGR8KTwxopdlSEov/nrQoRunNCfhWFMxRBcQ6vHj8YfLDzZcGq2WqY53EMLVqQRowfC1Vxu1AtWvmbzGGlGsHHhUvXzOgpi0yOks2EPEZHCyjCKFi2rTQaP33usnmgldiZCojj/ft/mVNnLpreI2ZLqNPf/D1a0Ccte6o0HSi21hEXXS8zVtzzdutjh36TvZOfrM2M1hnzkCN+SR1hEx4PDfwDQR4BO1weGCGT5Aos6BPI8Tx6jGHmi//5Mzla95pocpRqHjN5G4E85rR/nzDL6/+nRCPYoFk7VfDk3mDY/N4OiCN5jwUsyaAaNCiNaxUPB5t1zree/f1aObGCcDW6dJ4QbK8XIWhq2vWZZH7feVDSFhQZD4jjlWs3zeoNO0zjTmPM64XqJkscnRDloRUTBYkd+k+JaNGDxLLnKmkj/ucMaacwhmN7KR71F5ZiT9ETcw+y37LHePPHnsOBaseTHAJDHv2Y/t1q827xxvKgo127yGuF6gmBpKO+X1FILGWqpL34nznFTPShyle6tfnHQ3bE7LCozuaYyus3NK8qqLj/4C/zx94jpmYrmkxXlY2bX4+Qi5ylWogelVjEJwiLcQJQpcYDzIuWaERsDqyO/5WNnp01TKnq3cSzTMhb81kzDvRIPX32khk3Y6l4rGQDF5VmQLETc1PIfwyHC/M096ctTcOOo00f33oZy6arpI24ZzxgzDzTecA0U65u79iteKygO3JYaXvnRePiZ34FkjyS2M2EKVi2TURvMid4tqjs5Cgfcgg0ryPjxP+cEXZVDTqMFuKIofLrCb0hsfJzOF/3m8XrpfWLIljgOMEtO/ZLFwT6AEYTRxaq7CWbSa/HG7fuhN6liEdAIGmtRD4rBNK/wPFvCCSpCYU/b2fGTlsijfy1oXj6g2dMU2iqcknXYs5FzEMr/D99kqkVKFqxo+TLRRMUea19HX0gOcGk2+AZiWx4LDuv8ujif6bUZtDf+EOrF8lvjOIw/D/FwXSZ6Wp1fOL0hbhL4wokeWR3ywkWk+askORSEvLdxPEr4YW8tSTsQiPqaLc8EkvBKqmX6OdLQnbFRv295PsYxJGqagwaOVSxCGShz9uaafNWiUdDEQyQOrL+t12mVuuh1rBFGj1n8N78oKHkUpGDpYh/4Dn+ZeteU635YAl1oudoEsn8feejxqZj/6lyLCXjRH2QaQ88T+QOQ+hrthwqKQVOD07QhczDDxvYtW+C6IMCi09r9pC8ZPTln7eeVBSiSVEjqQgcFxttz5FYdl8laYl+fi5MzclNbLD9hN8J+mEz8E6xxlJoyoYsHhFI8ghw2V+4dNXMW/KzKVaps+x+yfXwDFuCIvBMFizXxjTvNk4IpD8xGImlcJVHF/8zRXDHk0/zSsE6iYihkAw7OaiqZrdL2IT/j37dU9kqmcJftDMz5q+WU0swnBoVyxy4nOOV67eFwpixiSMhFk6r2L3/mHqgniBQUb/1jwPiLXnzw4ayuDl7Gx4DVl4uUMdUbjLIzFrwkzl97pKOgTQEOjhw5JScCQ8RjI7kIJAR1jzs5rCJC8yhY6dFB7fv3JUUhHrtR5k3itQXexsrNxIySlEjbXx6DY88vc1JLPuvkliinxvpWxDzsnV6mf/QTundWI3bKwvBp1fu2GmLvSN543TRCyx5BCxo5MWt3rBdKjo5yzMWgWSScW4yB/1Ht/JBYileJeXinqNU7VmCTtd72nk8m7N6hB4Q/v/pHFUk1DJg7LdScEERlFfZ6Xkw/K/lODvOXR0yfr45euKchEw1rypjwTy7eeuuWbBso/m4WrdQbpXXxoWcKlpIhD2OQ2dKOE37cz55gISwmNFL8P0v25t/W6IRKwzKvM/5cXPTru8kOR0K4uJt/HTepgY8OzbPnGNdt+1IazubJorkIMxJ5iZh6h9W/OptuH3P3JFPbCk2VVK+oj4D+Yedz68VqitzvXXPieKFVKfLo4l/TeQnOYvVmg+RHqq0M4teF9EdhP7l/LVN9RZD5XAMKRqN4zkTaPIImFgk71PxJ255O3ncjgqF+I3bC3lryGsIrSiJTL1EPzcE0og7vk7bEeJR/Gc277kzSfwTBYNFRfXQCQvM+YtXZUGCEC77aYsp9Hk7+Tt6c68XsmkN5RuF65mmXb/SM3YzGFRUnzl/2Yy2hCGHJQTicYryEqOf7CWaiU7PXbgic1LxZILFjOrelT9vl4Mb8DSycYheDBkj5Eh+WKGDjAtOwtB5+2hgHtGlgGMhm3b5SjbcEHa/fUQkTG3tLcSjbe+vza4/jya5eRMievm6Wbpms6nUZKAQmVgeSEglLWPeLtooonbATyJjrQ0q3vronlWfkXMl55/6DHIbo3WH8Dt6qrL5ptXS/sMnn4h+uIEnjwCDBglhl1u79XDz3w8aiPHCoDllecatguTZsevisPHuQ2cmKqbRSZG8RD8rb4LMMW2s0Spbp7fsWMmfiZ4gPP/n81SXysxvF/+cqJKavKrFqzZJqJuQaDSBZIFCd/x90arfzFW7gKknI31x2y5c23YfMh0HTDVvFKknxDFaL/yO3TQFbBSyKZ58MO2Ye8dOnrekYrrkOlJx79nYSGG8EArlRIy5i9aZY6fOy7jSqZs0WMs4LvLQ0TNm4qzl0lMzIU0gknzwfHGYMAeHjF8gdvVhzxbdIQePnhZiQ6UvRDHaC4k+//FuBSGmbPhxDPSwaybhV/+6GWudyIoSXhPts4E00gLps5o9ZRP1/yz3iDU/0OkLeWuaApZcTpu3WnTv9BPviAvy6MCD373vmCTr5/60hRBIv6JQHmcp85O8j89q9ZTeg9FHNCGxBkdWl+hnxCTBi0sifR77vMk7jT6r2jNAXhiE13FSUFJ9qkgE52zkqs0GyVGU/rYTfIbn4agslZ3jZy41x09dEJ0r0hYYLkJeS1ZtNlWaDpLCM569nzgiCVW2i6WxtCLr4fylq9KXtWTVrualfLVj5jczbtj4ZS/ZRKIH85dukPD3nbvBb3SckWDe0V1i559HpFCQ/qkcIwjBiJ57CKTuvx/UF3tJL1U8wu5zUgpSgQZ+Nc98WKGjzPNocor+yM2jgwnHy1KgCuHsMmiakMjoNQGJtXY8aRLrvlkPib7BKcgLz/VJCyHl//N27EMxOOzk7aINJZ0Ox8mtW14v3CeBOIK4Io8AMkFZ+5RvVspAJ6TGxENkIlilOYJDYiotZGq2HCotCgbZSSSDwEqsAZOVxT9J+P/+o7+V3o0k9tKYNpZxc8+d0AeeyV9//zPZ0BWT5sbNO1JJSNNU0gz4HKc3frI7hsjksjthdsF/7D1s7j/QPoJpBXTA/IEQkvNEWMt79p5+ef78mwWNavhJc36UUPWTYvAUjw42fRRSkR9HrmN0GFQIpBV+jxeSyA+FN98sWm8OHz+jfUAtsItURTPvyI0j9cf1T3X2zy/8/v3y7YWwbPnjQKqb8DNtya2DvDSzxJ7QeCxbjrBusgkgsvdRpU6StkA4O1YnEyfR60i8S6x7RIi+Nes2TvJNc5VqId5g9BbtTHHyTM5q1r52lZQO153gSUPckUfAQob73jW4fS53dRn00btihHDAq5b8cNYnBMdPIN3AiDWIsoq4Z+DCFIPGfWdJ2yxTvcUQWSieTSJpnoWCZ0suHFV/JGqnNOeJ11Gt27zbeAlhc/JMtO4gkHiPq9hd93dLN4bb+Wi+3aODBYQ5g+zce0R2ztlLNI2ZUM/CQmEaLT3wdlwMVcErsjbIWz5y/KyZtfAnyZF7Lpe36fCLI0HMZfK/qOqlZQnnZGfVymzumfD0uBlLTPmG/WSj7Qo/oyMvzgaSZwpxW752q7l4+VqanDhCjiRhbJwun9ToYW23l4YQbXcdGXraXiPhbiIPHE3KRt45Xdya4SR6TYlHib4nd18QZ/JMS9fuad4t1jjJvEbWSLdOUmlN+8B1v+0yl67ceGLHfVySR4cHD/4yew4cN407j5GwKT0Fk9pVQXQIEZRv2N90sbspBkdWbO3jv1cnEEeeBTmiuNgx+ngQ/DtiJgaGBoPHs3zBTqIytXtJGPr6jVuPTDCYUPTyHP71QjlNSHQXZcj4f3p80s8MT8b23YfMHbuDy4qLUGoBYWTh54ziqd+ukpMqJIne6jCaOJLUzYLRrOs4OV1Gw44KPxhL5DNChvCo5PrEFVgl4T2T+Vtd7O5ntXpK314Ka8idhRAxj5+k8+2xgQgFnnj7Nu/YL7YVxwUbYaJk0XMOYfOM84NnhccPbz9h/7T22FKZ7XItsfVvfdjIfm9V0WEsB4F3bdbW561pcn/SQhwK5Pn1C6WBOYeDk1jrTTyIu/6wA8X+jtQ4PLVsoiGDEP5Yz4hx7/RHpJPXz/1hvTl34arwkycZcU0eAQaIMByH+FNp/XoRkoNjGzMKPSCX2Yo3MeUb9JMdBTkM0ZPADaAnUfz3yPFJ5IMSmuC4R0L8/85DU9rYBTE8O5e83XXwdLPXEvfHIXIYWgpj5v6wTojoKwVqy3f4dccCJOGwnNWlIfzkuSvE+EmTYmsMFUmDBfrU2Uvm+x9/lQKyNz9oYBcwL0+YZ+yeMz+fyeEVmnFqDAsXVdj6fBWxwLxl/hH5qU4I1tpT7AI5XuExFZq/Moft/IU48Zq8pVuJ55uiOvLXL16+Lp/FQhuPw405wrWTz0Z6x84/j5op366UTTiHJ4iXMQY5I8yP8FyooqaggobR2/cclshMej4LCDuRHNr9VG4yUAqiID7O9jod+oXfsUmgK0YxQtr2/joNmCZHBNPZhDUUR0y0MwaJtQ5lhvivyb/m8+++I+dKxA0nxZeWG0CW/507cSs6JzhR+Bv65bS7Il+2Fy5BG7OskmYV9+QRYMzICdm8fb/pYXcM73/Zwbxod0tJTQQSXMk3oQM8OQzNu4+XgRPkgf84En1PCJOehqbsJot80V5OluDZxMrh8CZJVTniitdD9mjgznN/XIIhC5HV3c+bd4sHmbAOHrDoaxASaX9P6IC2FotWbjKHj5/1SGTosxQe0Anhrk3b95nudlyzMD2Xs5o81+j5wIKBF5n8x9nfr5WEfiWNioeBeQsJOXbynDQMb0i7knJthQix2UOi7a/3+yqygfnP+/VN6Vo9xcMDiSGdgo0O4w/PXZDHIPeOV/DylRvmqL1/5tnshWtNh35TxPMESRZvVAzSyP8j/A3S8WH5DqZ938lm9YYd9t69gpiMAPcA6SWUPcluyCnewSmALcBOuLB6tL2gsAYhepG9ZFPzWa0epn77kaatXUvodUhuIGQset2JXpMyUqKvg5/0tuxpyR6EnUgLRUnvW13QdYL7jlUE454Hgv7wJtNdBNK4ftOuLNeN4okgjw5MiLPnrwixYEC/UaSukI7oQeCEQcAkIHkZr2WjTmPkLFGKRfwDzkn0oAy6xLoHBnqL7hNMhUb9hVRwtiYEIqnEX4RnVLJaVzNs4kIJZ0LU09q2Y4z37D8u30FloKukZ3fuN2BMWgptyMXhVCE8GCfPXJCFLKuDBZfFd5PdRFFhWc5ujDgBCNKN4eNZuucoz9b+7u2PGpmGHUebH9dulfQDheJRIJs/u4GDhMxfulGKagpZEslm03nX/F5I/s24g5wwl18pUMcUKNNGztYmJDp2+mJpoIydwSvJ5wcF9+7dF4JLz+ElqzeJlx5PFQ6InB83E4cFdos1x/PiJaw9/Jv79u6ZqubOckoXaT8c80kEJzMIM8+XUDYes5l2E0ClNbnu7kS3aJvhhPUCoTCEaF/e0i0lPE8NQqPOY0xHq8uew2bLmhNrLYpeq9JSkvouCCNH6uL5puUfmxccJxwwgu6SWwc9nXphfNdgvc+IOWbNxj+kn/EDScHAmRJ6sFkATxR5BCiPBpyEVCn+oH+VfwD4B4QTyAmTgN1wkS/ayQRgJ9XXDrbB9jOSGoxBkuhr9F8nHlWqzTm9gJ1StuJNJY/FEbRYz8MRNvI9qLpeY3fGcqJBOpI0Jh/kByJDOMXlXfrJIzrk/zFsEgb7zAuDrVy/XSq5syrIa2TBHTxuviR3e73dEkLU3s/Qomb/TbEMJH30lEVm/+FTemKM4rHgSCSeOKnstRu7HJZQMU9j5fkxJmVBtgKhIreZ6AeRBxZ0zswnnWbqtyvNul93SpQhPTatDwOFmRArDjkYPeUHsYXl6vYWgkwu54t5a0kUy3nr3DxLfL8cK1hV5hzeuZ8s6YA0BuFELb6ea8B+Ygvm/LDOkshR5h27scReRN9LYiEdzAvBs66wjub9rKW0d6IVGJEiPHzkSrKe+tctJNbalRrxf6b7HiKRFMpSuIXehCwWbyJeX05K8kh+0lXTThin9DGGNHKCz4ZNu805Sxo51SfIXvL0xBNHHh0wZiQtr1i/TfK9OJP36ewJEzxa3ODh7/+2pIRDyxkoDDy8dXhyHJGMFd72i38Qp4dEf5+7HveT10AiyGckJFKhYX8JSdDHi8RePxlzwiTi3p1BJwfmo4qdzMTZyyUHjkmSUWCHTyEUz51jDeW6rPivm2t0CxAVcHgv2vebIu2C2Ek/yRPaGXvkwYO/zUm7CH01fYkc4flaoXqiY4y5PJ/3vHHN4uX0y2sg3Bu27JFQWbyeraoIHhiTRBHw0C3/aatp0nmseHboh+eNQ29M+ucyY9MTzw4R1mZzQwgVu83c/qxWT0mZwZ6R3/7jut+l+AYbD2m9a0kY30so1olXkOMVsfjF/f3+/b+EvCF8BptjWoMtXP6LFPK17DFeyM/HdsNNexY8TmxoIUkQXsRdt/9+EHeP/B3HBClShHUJcfM9fH/Qph3Xg/4olMPmkytdt90Iad3DvXq6Sqy/WIKdwQ6RN8hGNluJpqJH1tRKjQdKtKN9v8mStsA6hbjm5P58xKTWPvc63sN78QJ2GzLDtLTkvlarYZYo9hGiTj9ocjpfyl/LiDfVknyuLzmy6K033j1yH+Q1FizXxgydOF9OQKPfZlpUwMc7nljy6IABwa3MzpHqqbyWRBGGZWBzZi+DI9YAQvDM0T2eQhJCE+xe2vaeJO54OswT3nYDPZrAiYQGe/QEeBQJf5ZP+I4IYRKN+kbIFjs8dno07KZyj12gnC6QzGR34ZTnclWV3TStODiujjAy59ZmhpHDiAn5t4tEzVZDzZv2ulhQ2OFzvdH3wP1h2HN/0lJCSZzTvP/IqXAOFQUg8Q70wKKDB4ZcM0ImY6YuFtJIew8WKvc8EhYvT7eSmG83D0WtQf169o9S6f4kPBNFcMECyxwmzEs6Cq1qiAQxDhmP5AWymLNYuzkswr9D4jxfjG3+DRF7OX8diYhkK9HMfFC+g0QpyJdu12ey5K5jI0dN/kFOb5k5f42E02k7NeO71dLwHGLYbzSFgtPtJupr08gSGa4NgkCRy+uF64tHkWtkfXDX5K5FrseKtBiTTRr3QNV5wlyDaPJ5FM4w36TK/MbtuNqoYTchur9s3StrCwSePEeIGFXanv4SDhdwG1b3jPzikbWKcqwtnTXY8KNHiCnRIzyCrFeQS76H9ZbUKnIRKeas3mKwqdRkgBSzUFxJbilhcghioXJt5bpeL1xH1mvayzknCd+bFFHERvKT1zEGnf5YZygM4nNxPE2bt0qard+6/WQ7JR4VTzx5dGDHSQ6NNLvtNVHOWWagsRthwLgdZCwyyeDjb4RJaRuDUShbt5eQSYgKhE12UJZQhndP1oDhrZSfjymOICIQVr4D8kq7BXbi5GoSamciscMlpwajHGvSMNHdfULEuHfOU8WVTz8vJgr5S+zigzBR0BsTd8Z3a+SsVsJaFH8kGKzQ4hK+P6+4h3NEv6jfR54V/dL2WuNNzy0MYrzlR3K9eEbI592weY9dGBeJFwaiTJiIZyB6dc/A6hbBGPIs2PkXq9RZQjh4PlLaj1OhSAtgR9j0sGEhn5G2YFXt5jZ/mTZCsrA/2CHE2ScnjOfkRGyZfY9H3viMquIpojsDm0nk37lqiLj/l02okB/vPf+0741l95MSd22ObIgNzV1Dii3Ixab4hGbgnFktfRrtvccz5UB/eGfZsC5a+ZuE3SFyVCSTs8ozDevPPkf3fJw9erh4xPJ/7XuchD8DQurE9/uE13rvTYogxhL3GX79EWn7T5H6soY2sRuRr2cvF1vJ5udxOoo8ycgy5NGBgXDi9EWzdPVm084SrxJVuwrRYJF1A8s/0PzCAKUKi5+8nspCwtucxEF+x5cN+oqXrHGnseKhJGeHUAXEkp0brnU8hK61AeTS72F0HkSIIdXQeDhpzkpbHK4VzymEFaJIXluxyp1M3k9bSRiSCYwRddVwsa4fgSR7E6ay3UHWlHA2Jx4QniZP1PM0BsvUcT30d9y++7Dk6PGc2bGKZ0CMikeWuD8SvNlFco+EvyDShSzZZ/eK92PNxh2S18OO2k+Qg3DP/kvgevBUQJwxYjRnZpPCbptQHuNPFkx7r44son9PxzwDvOY17eu7yhhi00SODondCkVmAftLVeqRE2dlTGL78M7hQSS8zWaIuet5ghwZ8QiJ345llHhEw7sGN8+cfYE4Ec7GC9aky1gzcvL3Zt1vO6V1nNduJ54pY2JwO9iPazdumUPHzkhhKkSSjez7X7Y37xT1Wv44uxQE/SER+uO6rLB2vG7XTdY/zqem+JLUn9+27ZNNOqlTT5r+0hpZjjwCvFlMbnLFOCpvjN0lQi4IWTDI3IDzfnoD0JsEiQcmwmvx9LGjJSRDqBhPHgOTnYzniu8hCbsVGvYzlZsOlAnHDhW3OIQQrx8VhxDDL+r1CbvmceUXKNta3PJ4PTkTmjwSjJfs0mNcT3LCe14rWNeUqdNLPJffr/g1HFIJ+g6L6yNHjzAY4Vp6db5WqI48C7++EGcoxFhY3UizcUs4PyjfUZ49hJ72GrR34tzmINw7xuqWJe/7D580y9ZskbzV+h1GmU9qdJfcTwkX2Xv1kvO9sIwYxdB9ununUAYPCJ0DKDY4c/7yE7mYKeITDENsMFEAiORRSySxw4SY2XATYSA/7iW7+SHEySZQxrwVGeuM+dBYj7ZvjyveZ4ckZDuYc5KHaW0InlJawZEWxCZ/4fJfzdadB2QtuXHrjtiRoNvRxwV2BP2x+aZfJJGqtb/slNNryGMktAypZiPAJtfpL0F3SMboDxH9WZuI/vAuclBCHbvmUvgCAebwCWwk6UBEebRzR8qQJcmjA5OAvK+bdtAccq0mek00Bcu2lRA1A9AN8Oh/+wcs4v7mvJPioXzba0r+r+xeEjiCMWQQc6Qi38EE4yeEEIIDAQ1POCu8H/c8n+W8nsm56CET0ZOS/2cC0baFiT1uxlLx4uF9c9Vi8UQsMFw3b901u/YdE08k528n19CV37udsLcQVJVkfBKp8cw17fqVGT9zmVn76x9S1cki4JLv+a60Bs+az+bZ3757T05/+X3XQemzSFU8uT6EpGmjxFjgmp0hdOPQ3asjzQj3RdoCqRSrft4uITMMoaff0JcrFAGB3+7w0+XYcdQphY7kLWKPyWmkeI8wKWkrEur2baCJPqSkiCOW8B7e64nnkSKdiR5+9JTlO4kqsbknAsTpL+t+3SWeNyk2s/bBzS93L1kFTn/u3rGZ2BycEZAyTiGiOp3KeXKtaQFETn20AyRt9OfZeOwlVfuQROfA+axmD3HQEAXklC3SCY6dOi923unP3Y8i5cjS5DEaGC+KawgT4o2s0KifVImRPM0O1BEzciViDeSkxBE+F1JOsSRDEp0w+fA+yk+5Nu86PW8bR4M1EoLUZZDXU4xdotfy4smYKDdu3hZ9dR8yQ7y80qImFM7GmPBc3LPi+TgdJohdMKzB4X2csEIrI7zQ9JwbPnGhWbD8F7P1jwPy3OgnyRm9hH8vXb4u4RsMENWJUrlpjScevpu378jfrly7IWdDk+t16uxFc9guOBySv2LdNknmJy2Bvmqla/eSBrXoitysBIPqXSu7dj9J5HfcG7/jNeRbkXTeuNMY8SSfPps1zxFWxC+izRHFNswj5g5pJlvsHKRdGAcUkH7Sru8kmadEUEjfKfx5WyEK2GuK6yB/pBVhA5krrvKXNBYiQ2wcITP5S7eW9mwfVeoYLopkA0fO4ndLN0hRGhs75i7ElrkeXWimnCMxHti1FNt8xm6MaXXEUY0UP3LOOR4/TncjxYv0K1IWqCNAf9lLNJPes+hPil9yeueAY9OxcxBPUpaIEuLdxGajv+JVOkvRE1XcRJXGz1hqFv74i0Reduw5Iuk/5C+iv/RwCGRFKHmMAYgVgwyiQOd4WkPQ/Bbjkq90KzE+9IiSvDNLJCFqLvlaxA72MLHzLfqpETxNfIcjO7LLkt953/UU32+/h0ppDCO91dgpU3FNVSE915i8hBeeVEKBMXD92FhcWvWcYIpWtESyUD0vOd7qhzCJI2OJnjG/tz9FIGb2uaJfvJP0A3uraCMJVaF/Qmq1Wg81jTqNFgMIKSfvhxAzOay0jWDxIUeVk4sadBwlixzeRIpW3rOLG9WcL+VjYaPqn0p47/udXv3X6K5JyLCMM6oVQ/lWofNm0fOmbfsk/J5VjsZSZB1gj6lSxn6xQWPziz27cPGa5Beysdt78LjZ9edR84clCpA9yCZtuzi5ipDqWksifra2nMphiAyvgVTs3n/M2o0T8hlsutgUQnooUCMyAFHku5Ugph5+/bG5Rn94bXHU0BIITzPeSvSHTrbuPCi5h+iKdAb0Bwnk37/+jv4OWP0dkr62e0R/J8UTzHoNQUR/sqGXyJFGXtILSh4fAgYeg55ByQAnIZrcDvo/lg01i8U9DqF8pUAt2R2xS8Ilj4SLGnyeJPl/CIP9tyMGkED3evcakdDnyN/sa5xbHk8ZIRwXVqnffpTsyPEuksPh8vi4/qwEjAX3Ti4jCdCQKwh/QlWnlwPjdIH4iSRkLeL/Q38XnchGIUH4DLdxQOfojt+530MKaQflXh/92U781+Fdl3dtjkxyvZJPm7+27LjJi6XAispVKiDZ5atxVCg8MBVE7H888YdXQyKvVAQR6CZCV/Y/EfoLvUaRuVDy+AhgAOPlYudE6JLq5J9++cN8u+hnySOkdxhtcyiMwRWfs1Qz8VrhacJT9ELeWhJG8XpMOuLhxAtP0mZCemAVqC0EkRyRHCWbC0ktVY2Q6hAphOBorOnfrTaLV26SsCrhAbxv7pikrA50xQ70yPGzUnwC2SIkRU9EcpkIVctzd+TeEjUha/bf0cTO//9pKRJ2tuIRWu+7PeLpXROElPANZwbTGqPHsJlmzvfrZKdN/0oljQqFQqHIDCh5TAUciUQ44cPlu9HmhtAHoZANm3dLvty0eavMV9OWiFeQkCbEj3Bnky5fmXrtRknVFz/J1eCAdqrVeo2YLXkh5F1OnrtCGtzSYobu9oePn5F8Otz/fC8EwpFFrkuRAKcnPLDkJh4/dUHCu+iE5sAUD+X5pKWE+2kx4aUhVAkTSf+5ro+afuD3Jsb6G58tHmUpjLL/zu5VhHPGKh7l4pW7yHgYM3WRWbH+d7Pv8Ekhw4TSuCfVtUKhUCgyC0oeHxMs4k4cHLF0OTrkz3BkHnk6hL+pSHNFFOTs8JNWAecuXpGkbPJBIAq0bYEk8jnuM9338CP6exVJwz0vniHPlHwbPMc0vYWoU6FMVSBePpLuScp+OT+nTDgvMSFlryozpd5I/+vce0lR4DOpsCcnk5QHzoGlUKd+u5HSD3TavNWSr+XaRzj9e/eh+lYoFApF5kLJYzrAIyqh/0kGjhD6SWFScJ+Zks9VJA3/8+OZ48nDk4vHmJxWkrSXrNpkJs1dIQ3b3ek9kLv3v2xnCpRtI0eskXuYUNHpVQTiteTfLieVlAWIKJXQhT5vI1WhnHpDhTUe6JGTf5BzdEnqJ/n72MnzsnlgsxHda0z1rlAoFIqgQMmjQhGC55n8W1IBwlWB127KsZauqpN8Q9ISIHs0B6ZyU6o6N+2WowMhn7QOopE5bXl2/nnU7D1wQioKaYaMN9GrCAy1+PFVBCoUCoVCEQ9Q8qhQKBQKhUKhSDGUPCoUCoVCoVAoUgwljwqFQqFQKBSKFEPJo0KhUCgUCoUixVDyqFAoFAqFQqFIMZQ8KhQKhUKhUChSDCWPCoVCoVAoFIoUQ8mjQqFQKBQKhSLFUPKoUCgUCoVCoUgxlDwqFAqFQqFQKFIMJY8KhUKhUCgUihRDyaNCoVAoFAqFIsVQ8qhQKBQKhUKhSDGUPCoUCoVCoVAoUgwljwqFQqFQKBSKFEPJo0KhUCgUCoUixVDyqFAoFAqFQqFIMZQ8KhQKhUKhUChSDCWPCoVCoVAoFIoUQ8mjQqFQKBQKhSLFUPKoUCgUCoVCoUgxlDwqFAqFQqFQKFIIY/7/SicNTbFBbhsAAAAASUVORK5CYII=)"
      ],
      "metadata": {
        "id": "HNCKIhwDXdv3"
      }
    },
    {
      "cell_type": "markdown",
      "metadata": {
        "id": "-TaNIS5E4lsx"
      },
      "source": [
        "### Left Join\n",
        "Also known as a left outer join. In this join, you will retain rows that don't have matches only on the left (or first) DataFrame to be merged."
      ]
    },
    {
      "cell_type": "code",
      "source": [
        "#merge on left\n",
        "left_merged = pd.merge(climate_temp, precip_station_1, how=\"left\", on=[\"STATION\", \"DATE\"])\n",
        "\n",
        "left_merged.head()"
      ],
      "metadata": {
        "id": "_N_AUn5CXWGf"
      },
      "execution_count": null,
      "outputs": []
    },
    {
      "cell_type": "code",
      "source": [
        "#get shape \n",
        "left_merged.shape"
      ],
      "metadata": {
        "id": "2b9cXeRTXkHL"
      },
      "execution_count": null,
      "outputs": []
    },
    {
      "cell_type": "code",
      "source": [
        "#switch positions\n",
        "left_merged_reversed = pd.merge(\n",
        "    precip_station_1, climate_temp, how=\"left\", on=[\"STATION\", \"DATE\"]\n",
        ")\n",
        "left_merged_reversed.head()"
      ],
      "metadata": {
        "id": "LV8FnryQXnZw"
      },
      "execution_count": null,
      "outputs": []
    },
    {
      "cell_type": "code",
      "source": [
        "left_merged_reversed.shape"
      ],
      "metadata": {
        "id": "lxIgGbeJXnez"
      },
      "execution_count": null,
      "outputs": []
    },
    {
      "cell_type": "markdown",
      "metadata": {
        "id": "gpQ7LGpV4lsy"
      },
      "source": [
        "### Right Join\n",
        "This works the same as the left join, however non-matching rows are only retained in the _right_ DataFrame. In the next example, you will recreate the `left_merged` DataFrame but with a right join."
      ]
    },
    {
      "cell_type": "code",
      "execution_count": null,
      "metadata": {
        "id": "d_vszF3U4lsz"
      },
      "outputs": [],
      "source": [
        "#merge on right\n",
        "right_merged = pd.merge(\n",
        "    precip_station_1, climate_temp, how=\"right\", on=[\"STATION\", \"DATE\"]\n",
        ")\n",
        "right_merged.head()"
      ]
    },
    {
      "cell_type": "code",
      "execution_count": null,
      "metadata": {
        "id": "HUd6jSWM4lsz"
      },
      "outputs": [],
      "source": [
        "#get shape\n",
        "right_merged.shape"
      ]
    },
    {
      "cell_type": "markdown",
      "metadata": {
        "id": "tQXmgqmZ4lsz"
      },
      "source": [
        "## .join()\n",
        "`.join()` uses `merge()` under the hood, but provides a much more simplified interface to `merge()` and by default joins on indexes. Here is an introductory example using the `lsuffix` and `rsuffix` parameters to handle overlapping column names."
      ]
    },
    {
      "cell_type": "code",
      "execution_count": null,
      "metadata": {
        "id": "3uKQaoq24lsz"
      },
      "outputs": [],
      "source": [
        "precip_station_1.join(climate_temp, lsuffix=\"_left\", rsuffix=\"_right\")"
      ]
    },
    {
      "cell_type": "code",
      "source": [
        "climate_temp.join(precip_station_1, lsuffix=\"_left\", rsuffix=\"_right\")"
      ],
      "metadata": {
        "id": "tvVr6GLWXtSY"
      },
      "execution_count": null,
      "outputs": []
    }
  ]
}