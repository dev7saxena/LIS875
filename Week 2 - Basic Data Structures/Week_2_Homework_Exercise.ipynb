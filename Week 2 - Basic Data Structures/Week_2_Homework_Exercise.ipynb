{
  "nbformat": 4,
  "nbformat_minor": 0,
  "metadata": {
    "colab": {
      "provenance": [],
      "collapsed_sections": [],
      "toc_visible": true
    },
    "kernelspec": {
      "name": "python3",
      "display_name": "Python 3"
    },
    "language_info": {
      "name": "python"
    }
  },
  "cells": [
    {
      "cell_type": "markdown",
      "source": [
        "## Week 02: Exercise (due 5:00 pm, 9/22, 2022)\n",
        "\n",
        "The data variable stores a list of tuples, where each tuple includes an article's information:\n",
        "* the article's id, conference, year, title, authors"
      ],
      "metadata": {
        "id": "PGD79jdihgOT"
      }
    },
    {
      "cell_type": "code",
      "source": [
        "import numpy as np\n",
        "import pandas as pd\n",
        "from google.colab import files\n",
        "\n",
        "#LINK TO DATASET - https://github.com/dev7saxena/LIS875/blob/main/Data/875_week2_acm_articles.csv\n",
        "\n",
        "uploaded = files.upload()"
      ],
      "metadata": {
        "id": "No1RjDXhLlVu"
      },
      "execution_count": null,
      "outputs": []
    },
    {
      "cell_type": "code",
      "source": [
        "data = pd.read_csv('875_week2_acm_articles.csv', header=0, keep_default_na=False).values.tolist()\n",
        "data = [ (x[0], x[1], x[2], x[3], x[4]) for x in data ]"
      ],
      "metadata": {
        "id": "3T8qr2cke-83"
      },
      "execution_count": null,
      "outputs": []
    },
    {
      "cell_type": "markdown",
      "source": [
        "## Problem 1\n",
        "\n",
        "Create a function get_year_conf_arts:\n",
        "* input: the raw data\n",
        "* output: a dict where the key is year and the value is another dict (key is a conference, value is a list of articles published in that conference)\n",
        "\n"
      ],
      "metadata": {
        "id": "fM6d0aFWq2v-"
      }
    },
    {
      "cell_type": "code",
      "source": [
        "def get_year_conf_arts(data):\n",
        "    # your solution here\n",
        "    return None # replace return None to return your results"
      ],
      "metadata": {
        "id": "UwdvpK7oq1XJ"
      },
      "execution_count": null,
      "outputs": []
    },
    {
      "cell_type": "markdown",
      "source": [
        "## Problem 2\n",
        "\n",
        "Create a function count_num_coauthors:\n",
        "* input: the raw data\n",
        "* output: a dict where the key is an author (name), and the value is the total number of unique co-authors for that author across all articles.\n",
        "\n",
        "For example, for the following article:\n",
        "\n",
        "'The use of phrases and structured queries in information retrieval' by 'W. Bruce Croft;Howard R. Turtle;David D. Lewis'\n",
        "\n",
        "'W. Bruce Croft' has two co-authors: 'Howard R. Turtle' and 'David D. Lewis'"
      ],
      "metadata": {
        "id": "7LKGzWm5s6Ad"
      }
    },
    {
      "cell_type": "code",
      "source": [
        "def count_num_coauthors(data):\n",
        "    # your solution here\n",
        "    # Hint: create a dict where the key is an author and the value is a set of co-authors\n",
        "    return None # replace return None to return your results"
      ],
      "metadata": {
        "id": "v1GLheNzs5kT"
      },
      "execution_count": null,
      "outputs": []
    },
    {
      "cell_type": "code",
      "source": [],
      "metadata": {
        "id": "_6pd2--FuWtW"
      },
      "execution_count": null,
      "outputs": []
    }
  ]
}