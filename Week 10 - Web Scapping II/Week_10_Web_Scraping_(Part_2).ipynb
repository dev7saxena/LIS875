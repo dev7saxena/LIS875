{
  "nbformat": 4,
  "nbformat_minor": 0,
  "metadata": {
    "kernelspec": {
      "display_name": "Python 3",
      "language": "python",
      "name": "python3"
    },
    "language_info": {
      "codemirror_mode": {
        "name": "ipython",
        "version": 3
      },
      "file_extension": ".py",
      "mimetype": "text/x-python",
      "name": "python",
      "nbconvert_exporter": "python",
      "pygments_lexer": "ipython3",
      "version": "3.8.3"
    },
    "colab": {
      "provenance": []
    }
  },
  "cells": [
    {
      "cell_type": "markdown",
      "metadata": {
        "id": "7VhthuOEDGqX"
      },
      "source": [
        "# LIS 875 Text Mining: Week 10 (Web I/O using OAuth2)\n",
        "* OAuth2 authentication\n",
        "* https://www.reddit.com/prefs/apps\n",
        "* https://www.reddit.com/dev/api\n",
        "\n",
        "* redirect URL: http://localhost:8080"
      ]
    },
    {
      "cell_type": "markdown",
      "source": [
        "## Register a Reddit developer API\n",
        "* Sign up for an account: https://www.reddit.com/\n",
        "* Register an API key: https://www.reddit.com/prefs/apps (\"create app\"-->\"script\")\n",
        "* replace the CLIENT_ID and CLIENT_SECRET with yours\n",
        "\n",
        "OAuth2 authentication is the most popular web API authentication methods. Here we only use Reddit as an example, but you can use a similar method to request web services from other sites, e.g., Microsoft's Bing search API.\n",
        "\n",
        "You should always keep your keys confidential. Some services (e.g., Bing and Amazon's web services API) will charge you based on the usage of your keys.\n",
        "\n",
        "Note that the \"script\" API key may expire every few hours. So you'll need to create a new one often."
      ],
      "metadata": {
        "id": "Tb23eR_XIBZl"
      }
    },
    {
      "cell_type": "markdown",
      "source": [
        "\n",
        "![](https://drive.google.com/uc?export=view&id=1XckhPEbnreUoDq-cjfXXtbvdOz8ksH0K)\n"
      ],
      "metadata": {
        "id": "frPPoG6Bf3BQ"
      }
    },
    {
      "cell_type": "code",
      "source": [
        "# make sure replace to your own CLIENT_ID and CLIENT_SECRET\n",
        "\n",
        "CLIENT_ID = \"ffOmssP-iEL5hxyTzfS5Bw\"\n",
        "CLIENT_SECRET = \"\tkfDT9-7qr2RhTAqmeahs8vVGtULdaA\""
      ],
      "metadata": {
        "id": "GuQNPYceI1aB"
      },
      "execution_count": null,
      "outputs": []
    },
    {
      "cell_type": "markdown",
      "source": [
        "## Connect and Authenticate"
      ],
      "metadata": {
        "id": "bwbc7gtmJhZ4"
      }
    },
    {
      "cell_type": "code",
      "source": [
        "import requests\n",
        "\n",
        "auth = requests.auth.HTTPBasicAuth(CLIENT_ID, CLIENT_SECRET)\n",
        "\n",
        "# change the following to your username and password\n",
        "data = {'grant_type': 'password',\n",
        "        'username': 'Your Reddit username',\n",
        "        'password': 'Your Reddit password'}\n",
        "\n",
        "# setup our header info, which gives reddit a brief description of our app\n",
        "headers = {'User-Agent': 'teaching demo'}\n",
        "\n",
        "# send our request for an OAuth token\n",
        "res = requests.post('https://www.reddit.com/api/v1/access_token',\n",
        "                    auth=auth, data=data, headers=headers)\n",
        "\n",
        "# convert response to JSON and pull access_token value\n",
        "TOKEN = res.json()['access_token']\n",
        "\n",
        "# add authorization to our headers dictionary\n",
        "headers = {**headers, **{'Authorization': f\"bearer {TOKEN}\"}}\n",
        "\n",
        "# while the token is valid (~2 hours) we just add headers=headers to our requests\n",
        "requests.get('https://oauth.reddit.com/api/v1/me', headers=headers)"
      ],
      "metadata": {
        "id": "XRkV55w-15rC",
        "colab": {
          "base_uri": "https://localhost:8080/"
        },
        "outputId": "29f8e3f2-2add-4220-96af-5fbe720bbaaa"
      },
      "execution_count": null,
      "outputs": [
        {
          "output_type": "execute_result",
          "data": {
            "text/plain": [
              "<Response [200]>"
            ]
          },
          "metadata": {},
          "execution_count": 4
        }
      ]
    },
    {
      "cell_type": "markdown",
      "source": [
        "## Check API document to see what services are available. Request one and see the outputs.\n",
        "* https://www.reddit.com/dev/api"
      ],
      "metadata": {
        "id": "h8vnPgTKJp8D"
      }
    },
    {
      "cell_type": "code",
      "source": [
        "res = requests.get(\"https://oauth.reddit.com/r/python\", headers=headers)\n",
        "\n",
        "data = res.json()\n",
        "data"
      ],
      "metadata": {
        "id": "bZrOJP0i15oO"
      },
      "execution_count": null,
      "outputs": []
    },
    {
      "cell_type": "code",
      "source": [
        "data['data']"
      ],
      "metadata": {
        "id": "u3JxwrpVhE0a"
      },
      "execution_count": null,
      "outputs": []
    },
    {
      "cell_type": "code",
      "source": [
        "data['data']['children'][2]"
      ],
      "metadata": {
        "id": "JdavY9sc15lE"
      },
      "execution_count": null,
      "outputs": []
    },
    {
      "cell_type": "markdown",
      "source": [
        "## URL parameters\n",
        "* Many web applications and APIs use URL to pass parameters. \n",
        "* the format is: baseurl?param1=value1&param2=value2\n",
        "\n",
        "For example, when you search for a query \"uw-madison\" in Google, you can take a look at the parameters of the search results page to have an idea of Google's parameters:\n",
        "\n",
        "https://www.google.com/search?q=uw-madison&biw=1295&bih=1287&ei=1dQgYqXFA9XK0PEP5L21sAY&ved=0ahUKEwjlg8C8l6r2AhVVJTQIHeReDWYQ4dUDCA4&oq=uw-madison&gs_lcp=Cgdnd3Mtd2l6EAxKBAhBGABKBAhGGABQAFgAYABoAHABeACAAQCIAQCSAQCYAQA&sclient=gws-wiz\n",
        "\n",
        "Turn to the second page of search results and see if the URL changes:\n",
        "\n",
        "https://www.google.com/search?q=uw-madison&ei=G9QgYt7NCKHB0PEPzMOZwAg&start=10&sa=N&ved=2ahUKEwiex-zjlqr2AhWhIDQIHcxhBogQ8NMDegQIAhBF&biw=1295&bih=1287&dpr=1"
      ],
      "metadata": {
        "id": "cVD9gHd4PBDq"
      }
    },
    {
      "cell_type": "code",
      "source": [
        "# let's take a look at another API -- reddit's search API\n",
        "\n",
        "from urllib import parse\n",
        "\n",
        "paramstr = parse.urlencode({\n",
        "    'q':'list comprehension'\n",
        "    }\n",
        ")\n",
        "\n",
        "url = \"https://oauth.reddit.com/r/python/search?\" + paramstr\n",
        "\n",
        "url"
      ],
      "metadata": {
        "id": "Qa6USW4kKoL8",
        "colab": {
          "base_uri": "https://localhost:8080/",
          "height": 35
        },
        "outputId": "d6815ccd-9077-4f53-b912-5b4e2d74823a"
      },
      "execution_count": null,
      "outputs": [
        {
          "output_type": "execute_result",
          "data": {
            "text/plain": [
              "'https://oauth.reddit.com/r/python/search?q=list+comprehension'"
            ],
            "application/vnd.google.colaboratory.intrinsic+json": {
              "type": "string"
            }
          },
          "metadata": {},
          "execution_count": 10
        }
      ]
    },
    {
      "cell_type": "code",
      "source": [
        "\n",
        "res = requests.get(url, headers=headers)\n",
        "\n",
        "data = res.json()\n",
        "data['data']['children'][2]"
      ],
      "metadata": {
        "id": "d7FlsMSvKoIg"
      },
      "execution_count": null,
      "outputs": []
    },
    {
      "cell_type": "markdown",
      "source": [
        "## In-class Exercise\n",
        "* Take a look at UW-Madison's subreddit: https://www.reddit.com/r/UWMadison/\n",
        "* Use API to request the newest 100 posts\n",
        "* Summarize the top 50 most frequent words from the posts (removing stop words and punctuations, apply stemming and case-folding)"
      ],
      "metadata": {
        "id": "q4Ie0ZxcLs_y"
      }
    },
    {
      "cell_type": "code",
      "source": [
        "# make sure the required python packages are installed\n",
        "\n",
        "# install nltk (we'll use 3.6.7 in Spring 2022)\n",
        "!pip install nltk==3.6.7 --upgrade\n",
        "\n",
        "# install spacy (we'll use 3.2.1 in Spring 2022)\n",
        "!pip install spacy==3.2.1 --upgrade\n",
        "\n",
        "# download the spacy en_core_web_sm model (3.2.0 version)\n",
        "!python -m spacy download en_core_web_sm-3.2.0 --direct"
      ],
      "metadata": {
        "id": "7KQkTJ44LsXT"
      },
      "execution_count": null,
      "outputs": []
    },
    {
      "cell_type": "code",
      "source": [
        "# identify the API you want to use\n",
        "\n",
        "from urllib import parse\n",
        "\n",
        "paramstr = parse.urlencode({\n",
        "      'limit':100\n",
        "    }\n",
        ")\n",
        "\n",
        "url = \"https://oauth.reddit.com/r/UWMadison/new?\" + paramstr\n",
        "\n",
        "url"
      ],
      "metadata": {
        "id": "bMLjaItCgvPI",
        "colab": {
          "base_uri": "https://localhost:8080/",
          "height": 35
        },
        "outputId": "f5b53775-846e-4d7a-d73e-b0f31114fe60"
      },
      "execution_count": null,
      "outputs": [
        {
          "output_type": "execute_result",
          "data": {
            "text/plain": [
              "'https://oauth.reddit.com/r/UWMadison/new?limit=100'"
            ],
            "application/vnd.google.colaboratory.intrinsic+json": {
              "type": "string"
            }
          },
          "metadata": {},
          "execution_count": 15
        }
      ]
    },
    {
      "cell_type": "code",
      "source": [
        "# send request to API and get data back\n",
        "\n",
        "from datetime import datetime\n",
        "\n",
        "res = requests.get(url, headers=headers)\n",
        "\n",
        "data = res.json()\n",
        "[ (datetime.fromtimestamp(post['data']['created']).strftime(\"%m/%d/%Y, %H:%M:%S\"), post['data']['title']) for post in data['data']['children'] ]"
      ],
      "metadata": {
        "id": "JzaQ6RPMgv-g"
      },
      "execution_count": null,
      "outputs": []
    },
    {
      "cell_type": "code",
      "source": [
        "# count word frequency\n",
        "\n",
        "import spacy\n",
        "from collections import Counter\n",
        "\n",
        "nlp = spacy.load( \"en_core_web_sm\", disable=[\"parser\", \"ner\"] )\n",
        "\n",
        "Counter([ token.lemma_.lower() for post in data['data']['children'] for token in nlp(post['data']['title']) if not token.is_stop and not token.is_punct ]).most_common(50)\n"
      ],
      "metadata": {
        "id": "koSk9v0xgvzv"
      },
      "execution_count": null,
      "outputs": []
    },
    {
      "cell_type": "markdown",
      "source": [
        "## In-class Exercise\n",
        "* Explore reddit's search API's other parameters\n",
        "* Read the API document and try to change your request parameters to see how the results are different"
      ],
      "metadata": {
        "id": "iN6Y04BCRIBw"
      }
    },
    {
      "cell_type": "code",
      "source": [
        "# identify the API you want to use\n",
        "\n",
        "from urllib import parse\n",
        "\n",
        "paramstr = parse.urlencode({\n",
        "      'q':'ischool',\n",
        "      'limit':5,\n",
        "      'sort':'new'\n",
        "    }\n",
        ")\n",
        "\n",
        "url = \"https://oauth.reddit.com/r/UWMadison/search?\" + paramstr\n",
        "\n",
        "url"
      ],
      "metadata": {
        "id": "P4J4EnnZLsUO",
        "colab": {
          "base_uri": "https://localhost:8080/",
          "height": 35
        },
        "outputId": "97fd6f3f-b9ee-4a29-9d48-8733442e6c41"
      },
      "execution_count": null,
      "outputs": [
        {
          "output_type": "execute_result",
          "data": {
            "text/plain": [
              "'https://oauth.reddit.com/r/UWMadison/search?q=ischool&limit=5&sort=new'"
            ],
            "application/vnd.google.colaboratory.intrinsic+json": {
              "type": "string"
            }
          },
          "metadata": {},
          "execution_count": 18
        }
      ]
    },
    {
      "cell_type": "code",
      "metadata": {
        "id": "kw6zqUoLgtVc",
        "colab": {
          "base_uri": "https://localhost:8080/"
        },
        "outputId": "3421e586-7f4c-46a4-d0bf-ecd028825f5e"
      },
      "source": [
        "res = requests.get(url, headers=headers)\n",
        "\n",
        "data = res.json()\n",
        "\n",
        "[ post['data']['title'] for post in data['data']['children'] ]"
      ],
      "execution_count": null,
      "outputs": [
        {
          "output_type": "execute_result",
          "data": {
            "text/plain": [
              "['my grad school application hub/ tracker',\n",
              " 'Switching to online school halfway through senior year',\n",
              " 'Spring and Summer 2023 sublease',\n",
              " 'Enrollment in restricted class',\n",
              " 'Tuition Increase Fall 2023']"
            ]
          },
          "metadata": {},
          "execution_count": 19
        }
      ]
    }
  ]
}