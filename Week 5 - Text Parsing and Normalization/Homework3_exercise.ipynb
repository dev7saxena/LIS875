{
  "nbformat": 4,
  "nbformat_minor": 0,
  "metadata": {
    "kernelspec": {
      "display_name": "Python 3",
      "language": "python",
      "name": "python3"
    },
    "language_info": {
      "codemirror_mode": {
        "name": "ipython",
        "version": 3
      },
      "file_extension": ".py",
      "mimetype": "text/x-python",
      "name": "python",
      "nbconvert_exporter": "python",
      "pygments_lexer": "ipython3",
      "version": "3.8.3"
    },
    "colab": {
      "provenance": [],
      "collapsed_sections": []
    }
  },
  "cells": [
    {
      "cell_type": "markdown",
      "metadata": {
        "id": "7VhthuOEDGqX"
      },
      "source": [
        "# LIS 875: Homework 3 (processing text data)\n",
        "\n",
        "Let's keep on working with the example ACM digital library dataset. The data variable stores a list of tuples, where each tuple includes an article's information:\n",
        "* the article's id, conference, year, title, authors"
      ]
    },
    {
      "cell_type": "code",
      "source": [
        "import numpy as np\n",
        "import pandas as pd\n",
        "from google.colab import files\n",
        "\n",
        "#LINK TO DATASET - https://github.com/dev7saxena/LIS875/blob/main/Data/875_week2_acm_articles.csv\n",
        "\n",
        "uploaded = files.upload()\n",
        "\n",
        "data =  pd.read_csv('875_week2_acm_articles.csv', header=0, keep_default_na=False).values.tolist()\n",
        "data = [ (x[0], x[1], x[2], x[3], x[4]) for x in data ]"
      ],
      "metadata": {
        "id": "x8Ff7L0e_SY-"
      },
      "execution_count": null,
      "outputs": []
    },
    {
      "cell_type": "markdown",
      "source": [
        "### Install the spaCy and NLTK packages we introduced in class"
      ],
      "metadata": {
        "id": "CaYQzKnq_TPG"
      }
    },
    {
      "cell_type": "code",
      "metadata": {
        "id": "EHBfg9I3Zwp_"
      },
      "source": [
        "# make sure the required python packages are installed\n",
        "\n",
        "# install spacy (we'll use 3.2.1 in Spring 2022)\n",
        "!pip install spacy==3.2.1 --upgrade\n",
        "\n",
        "# download the spacy en_core_web_sm model (3.2.0 version)\n",
        "!python -m spacy download en_core_web_sm-3.2.0 --direct"
      ],
      "execution_count": null,
      "outputs": []
    },
    {
      "cell_type": "code",
      "metadata": {
        "id": "lWcO4UY7ZwtD"
      },
      "source": [
        "import spacy\n",
        "import en_core_web_sm\n",
        "\n",
        "nlp = spacy.load( \"en_core_web_sm\", disable=[\"parser\", \"ner\"] )"
      ],
      "execution_count": null,
      "outputs": []
    },
    {
      "cell_type": "markdown",
      "source": [
        "### Task: \n",
        "* create a folder: article_json\n",
        "* for each article, create a json file named as the article's id + '.json'\n",
        "* each json file stores the article's information\n",
        "\n",
        "You should store each article as a dict including the following fields:\n",
        "* 'id': the article's id (int)\n",
        "* 'conf': the conference where the article was published (str)\n",
        "* 'year': the year the article was published (int)\n",
        "* 'title': a list of tokens for the article's title (tokenized using spaCy); you do not need to remove stopwords or punctuations, or apply stemming or case-folding\n",
        "* 'authors': a list of author names\n",
        "\n",
        "Then, you can dump the dict as a json file."
      ],
      "metadata": {
        "id": "b09fcNZM_aPq"
      }
    },
    {
      "cell_type": "code",
      "metadata": {
        "id": "_HZVSBd3g1jy"
      },
      "source": [
        "# your solution here\n"
      ],
      "execution_count": null,
      "outputs": []
    },
    {
      "cell_type": "code",
      "metadata": {
        "id": "kw6zqUoLgtVc"
      },
      "source": [],
      "execution_count": null,
      "outputs": []
    }
  ]
}