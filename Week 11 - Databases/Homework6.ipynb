{
  "nbformat": 4,
  "nbformat_minor": 0,
  "metadata": {
    "colab": {
      "provenance": []
    },
    "kernelspec": {
      "name": "python3",
      "display_name": "Python 3"
    },
    "language_info": {
      "name": "python"
    }
  },
  "cells": [
    {
      "cell_type": "markdown",
      "source": [
        "## Week 11 Exercises\n",
        "\n",
        "Please use the database we introduced in class to calculate the top 100 most frequently collaborated authors.\n",
        "* We identify each author by their first name initial + last name.\n",
        "* If two people co-authored an article, we say that they collaborated once.\n",
        "\n",
        "Here are the results I get:\n",
        "```\n",
        "[('I POMERANZ, S REDDY', 86),\n",
        " ('E MACII, M PONCINO', 82),\n",
        " ('J KIM, J LEE', 80),\n",
        " ('H NGUYEN, T NGUYEN', 80),\n",
        " ('D BLAAUW, D SYLVESTER', 77),\n",
        " ('M IRWIN, M KANDEMIR', 73),\n",
        " ('G CHEN, M KANDEMIR', 67),\n",
        " ('J LEE, S LEE', 62),\n",
        " ('C MACDONALD, I OUNIS', 62),\n",
        " ('A ABBADI, D AGRAWAL', 62),\n",
        " ('P ELES, Z PENG', 61),\n",
        " ('G MICHELI, L BENINI', 60),\n",
        " ('J KIM, S KIM', 56),\n",
        " ('J LEE, S KIM', 55),\n",
        " ('M HIROSE, T TANIKAWA', 55),\n",
        " ('J KIM, S LEE', 55),\n",
        " ('D MANOCHA, M LIN', 53),\n",
        " ('J HENKEL, M SHAFIQUE', 53),\n",
        " ('S LEE, Y LEE', 53),\n",
        " ('M IRWIN, N VIJAYKRISHNAN', 53),\n",
        " ('H KIM, J KIM', 52),\n",
        " ('A NICOLAU, N DUTT', 50),\n",
        " ('S KIM, S LEE', 49),\n",
        " ('S TURNER, W CAI', 49),\n",
        " ('J CARROLL, M ROSSON', 48),\n",
        " ('X HONG, Y CAI', 48),\n",
        " ('G FITZMAURICE, T GROSSMAN', 47),\n",
        " ('A ARPACI-DUSSEAU, R ARPACI-DUSSEAU', 47),\n",
        " ('J LI, Y ZHANG', 46),\n",
        " ('H KIM, J LEE', 45),\n",
        " ('A ROGERS, N JENNINGS', 45),\n",
        " ('S NISHIO, T HARA', 44),\n",
        " ('M TSUKAMOTO, T TERADA', 43),\n",
        " ('M KANDEMIR, O OZTURK', 43),\n",
        " ('C GRIWODZ, P HALVORSEN', 43),\n",
        " ('E MACII, L BENINI', 43),\n",
        " ('M KANDEMIR, N VIJAYKRISHNAN', 43),\n",
        " ('C GILES, P MITRA', 42),\n",
        " ('I KING, M LYU', 41),\n",
        " ('G ASCHEID, R LEUPERS', 41),\n",
        " ('H ISHIGURO, T KANDA', 41),\n",
        " ('M HIROSE, T NARUMI', 41),\n",
        " ('J YAN, Z CHEN', 40),\n",
        " ('S LEE, Y KIM', 40),\n",
        " ('A SANGIOVANNI-VINCENTELLI, R BRAYTON', 40),\n",
        " ('M ZHANG, S MA', 39),\n",
        " ('C YU, W MENG', 39),\n",
        " ('H KIM, S KIM', 38),\n",
        " ('A MACII, E MACII', 38),\n",
        " ('T NARUMI, T TANIKAWA', 38),\n",
        " ('S LEE, S PARK', 37),\n",
        " ('C WANG, L ZHANG', 37),\n",
        " ('A TOMKINS, R KUMAR', 37),\n",
        " ('M PEDRAM, Y WANG', 37),\n",
        " ('C CHEN, J BU', 36),\n",
        " ('M ZHANG, Y LIU', 36),\n",
        " ('C GREENHALGH, S BENFORD', 36),\n",
        " ('A RAGHUNATHAN, N JHA', 36),\n",
        " ('J BARDZELL, S BARDZELL', 35),\n",
        " ('S KIM, S PARK', 35),\n",
        " ('H KIM, S LEE', 35),\n",
        " ('S MA, Y LIU', 35),\n",
        " ('D TOWSLEY, J KUROSE', 35),\n",
        " ('M INAMI, M SUGIMOTO', 34),\n",
        " ('B SUPINSKI, M SCHULZ', 34),\n",
        " ('B GUO, K ZHOU', 34),\n",
        " ('T NGUYEN, T NGUYEN', 34),\n",
        " ('K MINAMIZAWA, S TACHI', 34),\n",
        " ('H MEYR, R LEUPERS', 33),\n",
        " ('B SHNEIDERMAN, C PLAISANT', 33),\n",
        " ('A MAEJIMA, S MORISHIMA', 33),\n",
        " ('I STOICA, S SHENKER', 33),\n",
        " ('D BULTERMAN, P CESAR', 32),\n",
        " ('D KIM, S LEE', 32),\n",
        " ('N HAGITA, T KANDA', 32),\n",
        " ('M INAMI, T IGARASHI', 32),\n",
        " ('L BENINI, M PONCINO', 32),\n",
        " ('N KAWAKAMI, S TACHI', 32),\n",
        " ('K CONINX, K LUYTEN', 31),\n",
        " ('A CRISTAL, O UNSAL', 31),\n",
        " ('J LEE, K LEE', 31),\n",
        " ('J KRAMER, J MAGEE', 31),\n",
        " ('A MACII, M PONCINO', 31),\n",
        " ('M PEDRAM, N CHANG', 31),\n",
        " ('A MESCHTSCHERJAKOV, M TSCHELIGI', 30),\n",
        " ('L ZHANG, X WANG', 30),\n",
        " ('J YANG, Y ZHANG', 30),\n",
        " ('F KISHINO, Y KITAMURA', 30),\n",
        " ('J KIM, J KIM', 30),\n",
        " ('H ISHIGURO, N HAGITA', 30),\n",
        " ('G BOELLA, L TORRE', 30),\n",
        " ('M SHARIR, P AGARWAL', 30),\n",
        " ('J GRUNDY, J HOSKING', 30),\n",
        " ('S BOLL, W HEUTEN', 30),\n",
        " ('T MEI, X HUA', 29),\n",
        " ('C HARRISON, S HUDSON', 29),\n",
        " ('J KIM, Y KIM', 29),\n",
        " ('A AUGER, N HANSEN', 29),\n",
        " ('C ALPERT, Z LI', 29),\n",
        " ('A MISHCHENKO, R BRAYTON', 29)]\n",
        "```"
      ],
      "metadata": {
        "id": "g8SB2vhYasGS"
      }
    },
    {
      "cell_type": "code",
      "source": [
        "!pip install pymysql\n",
        "!pip install paramiko\n",
        "!pip install sshtunnel"
      ],
      "metadata": {
        "id": "ew__8XVrZh4j"
      },
      "execution_count": null,
      "outputs": []
    },
    {
      "cell_type": "code",
      "source": [],
      "metadata": {
        "id": "M_khRfAlL2ef"
      },
      "execution_count": null,
      "outputs": []
    },
    {
      "cell_type": "code",
      "source": [],
      "metadata": {
        "id": "pSCQcuzEL2bj"
      },
      "execution_count": null,
      "outputs": []
    },
    {
      "cell_type": "code",
      "source": [],
      "metadata": {
        "id": "nf6L8aq_L2Y2"
      },
      "execution_count": null,
      "outputs": []
    },
    {
      "cell_type": "code",
      "source": [],
      "metadata": {
        "id": "Oq6kdNJqL2WN"
      },
      "execution_count": null,
      "outputs": []
    },
    {
      "cell_type": "code",
      "source": [],
      "metadata": {
        "id": "FXy4FB61L2Th"
      },
      "execution_count": null,
      "outputs": []
    }
  ]
}